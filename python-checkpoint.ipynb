{
 "cells": [
  {
   "cell_type": "code",
   "execution_count": 5,
   "id": "e822a604-4be5-4ea7-b2b1-dc115adefbfc",
   "metadata": {},
   "outputs": [
    {
     "name": "stdout",
     "output_type": "stream",
     "text": [
      "10\n",
      "100\n"
     ]
    }
   ],
   "source": [
    "#userinput-0\n",
    "a=10\n",
    "b=100\n",
    "print(a)\n",
    "print(b)\n"
   ]
  },
  {
   "cell_type": "code",
   "execution_count": 3,
   "id": "21864251-ca9a-4e04-b594-e681e8bf8bb0",
   "metadata": {},
   "outputs": [
    {
     "name": "stdout",
     "output_type": "stream",
     "text": [
      "<class 'str'>\n"
     ]
    }
   ],
   "source": [
    "b='10'\n",
    "print(type(b))"
   ]
  },
  {
   "cell_type": "code",
   "execution_count": 1,
   "id": "ca7a7de0-3962-4423-96db-bb84f177e8ad",
   "metadata": {},
   "outputs": [
    {
     "name": "stdin",
     "output_type": "stream",
     "text": [
      "enter your name ak\n"
     ]
    }
   ],
   "source": [
    "a=input(\"enter your name\")"
   ]
  },
  {
   "cell_type": "code",
   "execution_count": 3,
   "id": "e805f356-43fb-4485-9b39-cd9bcfeff5c1",
   "metadata": {},
   "outputs": [
    {
     "name": "stdin",
     "output_type": "stream",
     "text": [
      "enter your name 12\n"
     ]
    }
   ],
   "source": [
    "b=int(input(\"enter your name\"))"
   ]
  },
  {
   "cell_type": "code",
   "execution_count": 5,
   "id": "d8c4b92a-78bf-4b3b-9405-e87721b09180",
   "metadata": {},
   "outputs": [
    {
     "name": "stdin",
     "output_type": "stream",
     "text": [
      "enter the number 10.35\n"
     ]
    }
   ],
   "source": [
    "c=float(input(\"enter the number\"))"
   ]
  },
  {
   "cell_type": "code",
   "execution_count": 6,
   "id": "51389300-6df5-47cb-89ae-a3707cf9065a",
   "metadata": {},
   "outputs": [
    {
     "name": "stdout",
     "output_type": "stream",
     "text": [
      "30\n",
      "200\n",
      "-10\n",
      "0.5\n"
     ]
    }
   ],
   "source": [
    "\n",
    "a=10\n",
    "b=20\n",
    "print(a+b)\n",
    "print(a*b)\n",
    "print(a-b)\n",
    "print(a/b)"
   ]
  },
  {
   "cell_type": "code",
   "execution_count": 10,
   "id": "42aa71a9-84b5-4487-9b3f-0570addd0fa0",
   "metadata": {},
   "outputs": [
    {
     "name": "stdin",
     "output_type": "stream",
     "text": [
      "enter thne num 10\n",
      "enter the number 10\n",
      "enter the number 10\n"
     ]
    },
    {
     "name": "stdout",
     "output_type": "stream",
     "text": [
      "30\n"
     ]
    }
   ],
   "source": [
    "#userinput-1\n",
    "a=int(input(\"enter thne num\"))\n",
    "b=int(input(\"enter the number\"))\n",
    "c=int(input(\"enter the number\"))\n",
    "d=a+b+c\n",
    "print(d)"
   ]
  },
  {
   "cell_type": "code",
   "execution_count": 12,
   "id": "e75f5fb5-30ed-4adb-b5a7-e9077168ea13",
   "metadata": {},
   "outputs": [
    {
     "name": "stdin",
     "output_type": "stream",
     "text": [
      "enter the number 20\n"
     ]
    },
    {
     "name": "stdout",
     "output_type": "stream",
     "text": [
      "20\n"
     ]
    }
   ],
   "source": [
    "#userinput-2\n",
    "a=input(\"enter the number\")\n",
    "print(a)"
   ]
  },
  {
   "cell_type": "code",
   "execution_count": 14,
   "id": "e2db334f-8059-468d-97ba-69fe8405f729",
   "metadata": {},
   "outputs": [
    {
     "name": "stdin",
     "output_type": "stream",
     "text": [
      "enter the number 10\n"
     ]
    },
    {
     "name": "stdout",
     "output_type": "stream",
     "text": [
      "10\n"
     ]
    }
   ],
   "source": [
    "a=int(input(\"enter the number\"))\n",
    "print(a)"
   ]
  },
  {
   "cell_type": "code",
   "execution_count": 16,
   "id": "c527b1d0-ae6a-4ee5-b950-bd60f120b57e",
   "metadata": {},
   "outputs": [
    {
     "name": "stdin",
     "output_type": "stream",
     "text": [
      "enter the number 11.9867\n"
     ]
    },
    {
     "name": "stdout",
     "output_type": "stream",
     "text": [
      "11.9867\n"
     ]
    }
   ],
   "source": [
    "a=float(input(\"enter the number\"))\n",
    "print(a)\n"
   ]
  },
  {
   "cell_type": "code",
   "execution_count": 22,
   "id": "52f6e832-f4c5-41b3-a00f-a1128c32ca40",
   "metadata": {},
   "outputs": [
    {
     "name": "stdin",
     "output_type": "stream",
     "text": [
      "enter the number 10\n",
      "enter the number 10\n",
      "enter the number 10\n"
     ]
    },
    {
     "name": "stdout",
     "output_type": "stream",
     "text": [
      "30\n",
      "<class 'int'>\n"
     ]
    }
   ],
   "source": [
    "a=input(\"enter the number\")\n",
    "b=int(input(\"enter the number\"))\n",
    "c=float(input(\"enter the number\"))\n",
    "\n",
    "d=int(a);\n",
    "e=int(b);\n",
    "f=int(c);\n",
    "\n",
    "g=d+e+f\n",
    "print(g)\n",
    "print(type(g))"
   ]
  },
  {
   "cell_type": "code",
   "execution_count": 20,
   "id": "2bf88496-2785-416b-8445-902c23b0e685",
   "metadata": {},
   "outputs": [
    {
     "name": "stdout",
     "output_type": "stream",
     "text": [
      "30\n"
     ]
    }
   ],
   "source": [
    "a=10\n",
    "b=20\n",
    "c=a+b\n",
    "print(c)"
   ]
  },
  {
   "cell_type": "code",
   "execution_count": 21,
   "id": "8ffaf97a-359c-450a-9857-4db0248aa113",
   "metadata": {},
   "outputs": [
    {
     "name": "stdout",
     "output_type": "stream",
     "text": [
      "1020\n"
     ]
    }
   ],
   "source": [
    "a=\"10\"\n",
    "b=\"20\"\n",
    "c=a+b\n",
    "print(c)\n"
   ]
  },
  {
   "cell_type": "code",
   "execution_count": 25,
   "id": "72d15875-8761-4ff4-be76-9a46d7b0962a",
   "metadata": {},
   "outputs": [
    {
     "name": "stdin",
     "output_type": "stream",
     "text": [
      "enter a number 10\n",
      "enter a number 20\n",
      "enter a number 10.90\n"
     ]
    },
    {
     "name": "stdout",
     "output_type": "stream",
     "text": [
      "40\n"
     ]
    }
   ],
   "source": [
    "a=input(\"enter a number\")\n",
    "b=int(input(\"enter a number\"))\n",
    "c=float(input(\"enter a number\"))\n",
    "\n",
    "d=int(a)\n",
    "e=int(b)\n",
    "f=int(c)\n",
    "g=d+e+f\n",
    "print(g)"
   ]
  },
  {
   "cell_type": "code",
   "execution_count": 27,
   "id": "c0cd8b09-53f6-4862-ad15-7aae86b4d6fe",
   "metadata": {},
   "outputs": [
    {
     "name": "stdin",
     "output_type": "stream",
     "text": [
      "enter a number 10\n",
      "enter a number 10\n",
      "enter a number 10\n"
     ]
    },
    {
     "name": "stdout",
     "output_type": "stream",
     "text": [
      "<class 'int'>\n"
     ]
    }
   ],
   "source": [
    "a=input(\"enter a number\")\n",
    "b=int(input(\"enter a number\"))\n",
    "c=float(input(\"enter a number\"))\n",
    "\n",
    "a=int(a)\n",
    "b=int(b)\n",
    "c=int(c)\n",
    "print(type(a))"
   ]
  },
  {
   "cell_type": "code",
   "execution_count": 36,
   "id": "9d3a2488-c232-4dcf-81ad-f962aa1ddc05",
   "metadata": {},
   "outputs": [
    {
     "data": {
      "text/plain": [
       "40"
      ]
     },
     "execution_count": 36,
     "metadata": {},
     "output_type": "execute_result"
    }
   ],
   "source": [
    "a=10\n",
    "b=20\n",
    "sum=a+b\n",
    "sum = sum+10\n",
    "sum\n"
   ]
  },
  {
   "cell_type": "code",
   "execution_count": 41,
   "id": "99572741-812d-498a-b238-bed2366e6510",
   "metadata": {},
   "outputs": [
    {
     "data": {
      "text/plain": [
       "90"
      ]
     },
     "execution_count": 41,
     "metadata": {},
     "output_type": "execute_result"
    }
   ],
   "source": [
    "sum += 10\n",
    "sum"
   ]
  },
  {
   "cell_type": "code",
   "execution_count": 47,
   "id": "3c3e7a0f-258f-49dd-a2de-9f4009b8857d",
   "metadata": {},
   "outputs": [
    {
     "name": "stdin",
     "output_type": "stream",
     "text": [
      "enter a no 12\n",
      "enter a no 12\n"
     ]
    },
    {
     "name": "stdout",
     "output_type": "stream",
     "text": [
      "The sum of two number is : 24\n"
     ]
    }
   ],
   "source": [
    "#Arithematic operatora #basic mathmetical approach\n",
    "a=int(input(\"enter a no\"))\n",
    "b=int (input(\"enter a no\"))\n",
    "c=a+b\n",
    "print(\"The sum of two number is :\",c)"
   ]
  },
  {
   "cell_type": "code",
   "execution_count": 48,
   "id": "5a60f94c-90ee-47c5-95c5-9ac54a5d8c29",
   "metadata": {},
   "outputs": [
    {
     "name": "stdin",
     "output_type": "stream",
     "text": [
      "enter a no 12\n",
      "enter a no 12\n"
     ]
    },
    {
     "name": "stdout",
     "output_type": "stream",
     "text": [
      "the multiplication of two no is : 144\n"
     ]
    }
   ],
   "source": [
    "a=int(input(\"enter a no\"))\n",
    "b=int(input(\"enter a no\"))\n",
    "c=a*b\n",
    "print(\"the multiplication of two no is :\",c)"
   ]
  },
  {
   "cell_type": "code",
   "execution_count": 49,
   "id": "77e372a8-26ae-497a-b43d-65ab39cf5d42",
   "metadata": {},
   "outputs": [
    {
     "data": {
      "text/plain": [
       "40"
      ]
     },
     "execution_count": 49,
     "metadata": {},
     "output_type": "execute_result"
    }
   ],
   "source": [
    "mul = 20\n",
    "mul = mul *2\n",
    "mul\n"
   ]
  },
  {
   "cell_type": "code",
   "execution_count": 50,
   "id": "7831ca15-570b-42aa-b624-1402e8504dfe",
   "metadata": {},
   "outputs": [
    {
     "data": {
      "text/plain": [
       "40"
      ]
     },
     "execution_count": 50,
     "metadata": {},
     "output_type": "execute_result"
    }
   ],
   "source": [
    "mul = 20\n",
    "mul *= 2\n",
    "mul"
   ]
  },
  {
   "cell_type": "code",
   "execution_count": 51,
   "id": "6f5d5d45-77e5-4c55-8f1c-75bf7e78019e",
   "metadata": {},
   "outputs": [
    {
     "name": "stdout",
     "output_type": "stream",
     "text": [
      "10 20 30\n"
     ]
    }
   ],
   "source": [
    "a,b,c= 10,20,30\n",
    "print(a,b,c)"
   ]
  },
  {
   "cell_type": "code",
   "execution_count": 52,
   "id": "f62683a6-4a11-4a9e-86a5-780e9e8f29ab",
   "metadata": {},
   "outputs": [
    {
     "name": "stdin",
     "output_type": "stream",
     "text": [
      "enter a no 23\n",
      "enter a no 11\n"
     ]
    },
    {
     "name": "stdout",
     "output_type": "stream",
     "text": [
      "the difference of two number is : 12\n"
     ]
    }
   ],
   "source": [
    "a=int(input(\"enter a no\"))\n",
    "b=int(input(\"enter a no\"))\n",
    "c=a-b\n",
    "print(\"the difference of two number is :\",c)"
   ]
  },
  {
   "cell_type": "code",
   "execution_count": 53,
   "id": "0db6d68a-6880-4aac-b89e-ab95c6b5d085",
   "metadata": {},
   "outputs": [
    {
     "name": "stdin",
     "output_type": "stream",
     "text": [
      "enter a number 50\n",
      "enter a mumber 10\n"
     ]
    },
    {
     "name": "stdout",
     "output_type": "stream",
     "text": [
      "the divide of two number is : 5.0\n"
     ]
    }
   ],
   "source": [
    "a=int(input(\"enter a number\"))\n",
    "b=int(input(\"enter a mumber\"))\n",
    "c=a/b\n",
    "print(\"the divide of two number is :\",c)"
   ]
  },
  {
   "cell_type": "code",
   "execution_count": 57,
   "id": "64a10612-9767-4598-96cd-a3ce85d5aac0",
   "metadata": {},
   "outputs": [
    {
     "name": "stdin",
     "output_type": "stream",
     "text": [
      "enter a number 7\n",
      "enter a mumber 3\n"
     ]
    },
    {
     "name": "stdout",
     "output_type": "stream",
     "text": [
      "the floor division of two number is : 2\n"
     ]
    }
   ],
   "source": [
    "a=int(input(\"enter a number\"))\n",
    "b=int(input(\"enter a mumber\"))\n",
    "c=a//b # floor division\n",
    "print(\"the floor division of two number is :\",c)"
   ]
  },
  {
   "cell_type": "code",
   "execution_count": 58,
   "id": "884f3ed8-4e39-47aa-b7f2-ad34059cb721",
   "metadata": {},
   "outputs": [
    {
     "name": "stdin",
     "output_type": "stream",
     "text": [
      "enter a number 9\n",
      "enter a mumber 2\n"
     ]
    },
    {
     "name": "stdout",
     "output_type": "stream",
     "text": [
      "the reminder of two number is : 1\n"
     ]
    }
   ],
   "source": [
    "a=int(input(\"enter a number\"))\n",
    "b=int(input(\"enter a mumber\"))\n",
    "c=a%b #moudules\n",
    "print(\"the reminder of two number is :\",c)"
   ]
  },
  {
   "cell_type": "code",
   "execution_count": 65,
   "id": "14e056b2-02ea-4388-bcec-3f01c0703a7d",
   "metadata": {},
   "outputs": [
    {
     "data": {
      "text/plain": [
       "False"
      ]
     },
     "execution_count": 65,
     "metadata": {},
     "output_type": "execute_result"
    }
   ],
   "source": [
    "#comparision operator (only works on numerical not on string)\n",
    "a = 20\n",
    "b = 50\n",
    "#a>b\n",
    "#a<b\n",
    "#a>=b\n",
    "#a<=b\n",
    "#a!=b\n",
    "#a==b\n",
    "#a<>b(this is also a not equal to sign but not work in python)"
   ]
  },
  {
   "cell_type": "code",
   "execution_count": 66,
   "id": "2277fbed-a182-4f7d-ac5c-c7f93f884db7",
   "metadata": {},
   "outputs": [
    {
     "name": "stdin",
     "output_type": "stream",
     "text": [
      "enter a no 12\n",
      "enter a no 12\n"
     ]
    },
    {
     "name": "stdout",
     "output_type": "stream",
     "text": [
      "24\n"
     ]
    }
   ],
   "source": [
    "#question 1\n",
    "a=int(input(\"enter a no\"))\n",
    "b=int(input(\"enter a no\"))\n",
    "c=a+b\n",
    "print(c)"
   ]
  },
  {
   "cell_type": "code",
   "execution_count": 67,
   "id": "d37046d2-e734-46f3-9bd1-b6135c823a59",
   "metadata": {},
   "outputs": [
    {
     "name": "stdin",
     "output_type": "stream",
     "text": [
      "enter a no 12\n",
      "enter the no 10\n"
     ]
    },
    {
     "name": "stdout",
     "output_type": "stream",
     "text": [
      "1.2\n"
     ]
    }
   ],
   "source": [
    "#question 2\n",
    "a=int(input(\"enter a no\"))\n",
    "z=int(input(\"enter the no\"))\n",
    "c=a/z\n",
    "print(c)"
   ]
  },
  {
   "cell_type": "code",
   "execution_count": 68,
   "id": "75237461-3f9c-4962-9177-d5464a2d1a36",
   "metadata": {},
   "outputs": [
    {
     "name": "stdin",
     "output_type": "stream",
     "text": [
      "enter a no 12\n"
     ]
    },
    {
     "name": "stdout",
     "output_type": "stream",
     "text": [
      "<class 'int'>\n"
     ]
    }
   ],
   "source": [
    "#question 3\n",
    "a=int(input(\"enter a no\"))\n",
    "print(type(a))"
   ]
  },
  {
   "cell_type": "code",
   "execution_count": 70,
   "id": "3d2187ce-7435-4ecc-823c-99ebd97c6223",
   "metadata": {},
   "outputs": [
    {
     "data": {
      "text/plain": [
       "False"
      ]
     },
     "execution_count": 70,
     "metadata": {},
     "output_type": "execute_result"
    }
   ],
   "source": [
    "#question 4\n",
    "a = int(34)\n",
    "b = int(80)\n",
    "a>b"
   ]
  },
  {
   "cell_type": "code",
   "execution_count": 73,
   "id": "2648aed2-0de0-4df5-ad0b-2354fb9d3c36",
   "metadata": {},
   "outputs": [
    {
     "name": "stdin",
     "output_type": "stream",
     "text": [
      "enter a no 12\n",
      "enter the no 13\n"
     ]
    },
    {
     "name": "stdout",
     "output_type": "stream",
     "text": [
      "12.5\n"
     ]
    }
   ],
   "source": [
    "#question 5\n",
    "a=int(input(\"enter a no\"))\n",
    "b=int(input(\"enter the no\"))\n",
    "c=(a+b)/2\n",
    "print(c)"
   ]
  },
  {
   "cell_type": "code",
   "execution_count": 74,
   "id": "5df3c718-4d23-443f-93ab-c520e5ce8dc2",
   "metadata": {},
   "outputs": [
    {
     "name": "stdin",
     "output_type": "stream",
     "text": [
      "enter a no 21\n"
     ]
    },
    {
     "name": "stdout",
     "output_type": "stream",
     "text": [
      "441\n"
     ]
    }
   ],
   "source": [
    "#question 6 \n",
    "a=int(input(\"enter a no\"))\n",
    "b=a**2\n",
    "#b=a*a\n",
    "print(b)"
   ]
  },
  {
   "cell_type": "code",
   "execution_count": 79,
   "id": "5b6e34d3-590f-4115-a6a1-2449142edd56",
   "metadata": {},
   "outputs": [
    {
     "name": "stdout",
     "output_type": "stream",
     "text": [
      "True\n",
      "True\n"
     ]
    }
   ],
   "source": [
    "#membership operator - in and not in\n",
    "# boolean- true and false\n",
    "# works on multiple element\n",
    "a=[1,2,3,4]\n",
    "print(3 in a)\n",
    "print(5 not in a)"
   ]
  },
  {
   "cell_type": "code",
   "execution_count": 429,
   "id": "fe35380a-7249-4fe1-a2aa-8f5483cfc74d",
   "metadata": {},
   "outputs": [
    {
     "data": {
      "text/plain": [
       "[90, 32, 78, 56, 14, 30, 20]"
      ]
     },
     "execution_count": 429,
     "metadata": {},
     "output_type": "execute_result"
    }
   ],
   "source": [
    "# list\n",
    "# every element is comma saparated\n",
    "# list always gets create in sqaure bracket \n",
    "# hetrogenius in nature(we can store multiple types of data types)\n",
    "# mutable(changebale) in nature\n",
    "# ordered in nature\n",
    "# indexing always start from 0\n",
    "# unorder means element cannot be enter in middle\n",
    "'''a=[\"a\",10.20]\n",
    "print(a)\n",
    "print(type(a))'''\n",
    "\n",
    "#list methods\n",
    "a=[20,30,14,56,78,32,90]\n",
    "\n",
    "#sort \n",
    "'''a.sort()\n",
    "a'''\n",
    "# sort reverse\n",
    "a.reverse()\n",
    "a\n",
    "# index  a.index"
   ]
  },
  {
   "cell_type": "code",
   "execution_count": null,
   "id": "673dd5a9-96e9-45a4-ad08-6938dc1d02e8",
   "metadata": {},
   "outputs": [],
   "source": [
    "a=[10,20,30]\n",
    "a[1]=23\n",
    "\n",
    "b = \"cybrom\"\n",
    "b[2] =\"a\"\n",
    "# string does not support assigning"
   ]
  },
  {
   "cell_type": "code",
   "execution_count": 434,
   "id": "a3fff05b-9c59-4595-a761-0128e593ba1f",
   "metadata": {},
   "outputs": [
    {
     "name": "stdin",
     "output_type": "stream",
     "text": [
      "enter a number 13\n"
     ]
    },
    {
     "name": "stdout",
     "output_type": "stream",
     "text": [
      "[13]\n"
     ]
    }
   ],
   "source": [
    "a=int(input(\"enter a number\"))\n",
    "b=[]\n",
    "b.append(a)\n",
    "print(b)\n",
    "\n"
   ]
  },
  {
   "cell_type": "code",
   "execution_count": 76,
   "id": "0c4dea3e-6dfd-4470-89e2-598594f63122",
   "metadata": {},
   "outputs": [
    {
     "name": "stdout",
     "output_type": "stream",
     "text": [
      "[12, 10.2]\n"
     ]
    }
   ],
   "source": [
    "a[0] = 12\n",
    "print(a)"
   ]
  },
  {
   "cell_type": "code",
   "execution_count": 77,
   "id": "e544b9df-3e4f-4cfa-a1b6-f03a81398b47",
   "metadata": {},
   "outputs": [
    {
     "name": "stdout",
     "output_type": "stream",
     "text": [
      "[12, 10.2, 13]\n"
     ]
    }
   ],
   "source": [
    "a.append(13)\n",
    "print(a)"
   ]
  },
  {
   "cell_type": "code",
   "execution_count": 80,
   "id": "c1478621-12af-448e-8027-7d65c44f3350",
   "metadata": {},
   "outputs": [
    {
     "data": {
      "text/plain": [
       "True"
      ]
     },
     "execution_count": 80,
     "metadata": {},
     "output_type": "execute_result"
    }
   ],
   "source": [
    "# identity operator(is, is not) bollean true and false \n",
    "# use to identify if a is like b in structure or not \n",
    "# works only in signle element\n",
    "a = 13\n",
    "b = 12\n",
    "a is not b\n"
   ]
  },
  {
   "cell_type": "code",
   "execution_count": 82,
   "id": "346f20c9-be7b-4dbd-9d2a-250ae69180a7",
   "metadata": {},
   "outputs": [
    {
     "name": "stdin",
     "output_type": "stream",
     "text": [
      "enter p 12\n",
      "enter r 12\n",
      "enter t 12\n"
     ]
    },
    {
     "name": "stdout",
     "output_type": "stream",
     "text": [
      "17.28\n"
     ]
    }
   ],
   "source": [
    "#simple interest question(done by own)\n",
    "a=int(input(\"enter p\"))\n",
    "b=int(input(\"enter r\"))\n",
    "c=int(input(\"enter t\"))\n",
    "d=(a*b*c)/100\n",
    "print(d)"
   ]
  },
  {
   "cell_type": "code",
   "execution_count": null,
   "id": "85a1e8f6-d5b0-4433-ab2e-4ba791f375f7",
   "metadata": {},
   "outputs": [],
   "source": [
    "#conditional statement\n",
    "# 1- if \n",
    "# 2- else\n",
    "# 3-elif\n",
    "# :(identitation) \n"
   ]
  },
  {
   "cell_type": "code",
   "execution_count": 17,
   "id": "c62ab81e-0d4f-4f17-8576-41c82097e917",
   "metadata": {},
   "outputs": [
    {
     "name": "stdin",
     "output_type": "stream",
     "text": [
      "enter a number 11\n"
     ]
    },
    {
     "name": "stdout",
     "output_type": "stream",
     "text": [
      "odd number\n"
     ]
    }
   ],
   "source": [
    "# even or odd \n",
    "n=int(input(\"enter a number\"))\n",
    "if n%2==0:\n",
    "    print(\"even number\")\n",
    "else:\n",
    "    print(\"odd number\")"
   ]
  },
  {
   "cell_type": "code",
   "execution_count": 90,
   "id": "9e2bd03f-dee6-4173-ab3a-4db8d70c3212",
   "metadata": {},
   "outputs": [
    {
     "name": "stdin",
     "output_type": "stream",
     "text": [
      "enter a number 12\n"
     ]
    },
    {
     "name": "stdout",
     "output_type": "stream",
     "text": [
      "positive\n"
     ]
    }
   ],
   "source": [
    "# +ve,_ve,zero\n",
    "n = int(input(\"enter a number\"))\n",
    "if(n>0):\n",
    "      print(\"positive\")\n",
    "elif(n<0):\n",
    "      print(\"negative\")\n",
    "else:\n",
    "       print(\"zero\")"
   ]
  },
  {
   "cell_type": "code",
   "execution_count": 29,
   "id": "81b15097-3d72-4d23-8230-5e7052c56730",
   "metadata": {},
   "outputs": [
    {
     "name": "stdin",
     "output_type": "stream",
     "text": [
      "enter your marks 90\n"
     ]
    },
    {
     "name": "stdout",
     "output_type": "stream",
     "text": [
      "A\n"
     ]
    }
   ],
   "source": [
    "#grade calculater\n",
    "num=int(input(\"enter your marks\"))\n",
    "if num>= 90 and num<= 100:\n",
    "    print(\"A\")\n",
    "elif num>= 80 and num<=89:\n",
    "    print(\"B\")\n",
    "elif num>= 70 and num<= 79:\n",
    "    print(\"C\")\n",
    "elif num>= 60 and num<= 69:\n",
    "    print(\"D\")\n",
    "else:\n",
    "    print(\"F\")\n",
    "    \n"
   ]
  },
  {
   "cell_type": "code",
   "execution_count": 20,
   "id": "7f7a36b4-2fbb-4e65-8d3a-6b4ff1cdf2d5",
   "metadata": {},
   "outputs": [
    {
     "name": "stdin",
     "output_type": "stream",
     "text": [
      "enter a number 2\n"
     ]
    },
    {
     "name": "stdout",
     "output_type": "stream",
     "text": [
      "not\n"
     ]
    }
   ],
   "source": [
    "# divisibility by 5 and 7\n",
    "num=int(input(\"enter a number\"))\n",
    "if num%5==0 and num%7==0:\n",
    "    print(\"divisible by 5 and 7\")\n",
    "else:\n",
    "    print(\"not\")"
   ]
  },
  {
   "cell_type": "code",
   "execution_count": 22,
   "id": "37a53130-d5a3-446d-be56-2da42ca3db8a",
   "metadata": {},
   "outputs": [
    {
     "name": "stdin",
     "output_type": "stream",
     "text": [
      "enter your age 11\n"
     ]
    },
    {
     "name": "stdout",
     "output_type": "stream",
     "text": [
      "not\n"
     ]
    }
   ],
   "source": [
    "#checking for voting age\n",
    "age=int(input(\"enter your age\"))\n",
    "if age>=18:\n",
    "    print(\"eligible to vote\")\n",
    "else:\n",
    "    print(\"not\")"
   ]
  },
  {
   "cell_type": "code",
   "execution_count": 24,
   "id": "77e10930-5016-4a08-997b-482b11df3bf3",
   "metadata": {},
   "outputs": [
    {
     "name": "stdin",
     "output_type": "stream",
     "text": [
      "enter the temperature in dgree celsius 112\n"
     ]
    },
    {
     "name": "stdout",
     "output_type": "stream",
     "text": [
      "its a hot day\n"
     ]
    }
   ],
   "source": [
    "#Write a Python program that checks the temperature and provides a message based on the temperature value.\n",
    "#If the temperature is above 27 degrees Celsius, it should print \"It's a hot day.\" If the temperature is 27 degrees or below, \n",
    "#it should print \"It's not a hot day.\"\n",
    "temp=float(input(\"enter the temperature in dgree celsius\"))\n",
    "if temp>27:\n",
    "    print(\"its a hot day\")\n",
    "else:\n",
    "    print(\"not a hot day\")"
   ]
  },
  {
   "cell_type": "code",
   "execution_count": 28,
   "id": "ba8e88fa-74dc-4fa2-a264-2ab68b304199",
   "metadata": {},
   "outputs": [
    {
     "name": "stdin",
     "output_type": "stream",
     "text": [
      "enter your age 3888\n"
     ]
    },
    {
     "name": "stdout",
     "output_type": "stream",
     "text": [
      "eniors\n"
     ]
    }
   ],
   "source": [
    "#Write a Python program that classifies a person's age into one of the following categories: \"Infant,\" \"Child,\" \"Teenager,\" \"Adult,\" or \n",
    "#\"Senior.\" The program should ask the user for their age and then display the corresponding classification based on the following\n",
    "#guidelines:  Infants: 0-2 years old\n",
    "   #Children: 3-12 years old\n",
    "   #Teenagers: 13-19 years old\n",
    "    #Adults: 20-64 years old\n",
    "    #eniors: 65 years old and older\n",
    "age=int(input(\"enter your age\"))\n",
    "if age>=0 and age<=2:\n",
    "    print(\"infants\")\n",
    "elif age>=3 and age<=12:\n",
    "    print(\"children\")\n",
    "elif age>=13 and age<=19:\n",
    "    print(\"teenager\")\n",
    "elif age>=20 and age<=64:\n",
    "    print(\"adults\")\n",
    "else:\n",
    "    print(\"eniors\")"
   ]
  },
  {
   "cell_type": "code",
   "execution_count": 4,
   "id": "ead93424-e159-4b49-a372-e7c450367dd0",
   "metadata": {},
   "outputs": [
    {
     "name": "stdin",
     "output_type": "stream",
     "text": [
      "enter the available amount 1000\n",
      "enter the withdrawal amount 900\n"
     ]
    },
    {
     "name": "stdout",
     "output_type": "stream",
     "text": [
      "amount can be withdraw\n",
      "Amount left is : 100\n"
     ]
    }
   ],
   "source": [
    "\n",
    "a=int(input(\"enter the available amount\"))\n",
    "b=int(input(\"enter the withdrawal amount\"))\n",
    "\n",
    "if a<b:\n",
    "    print(\"insuffciant fund\")\n",
    "elif a>=b:\n",
    "    print(\"amount can be withdraw\")\n",
    "    print(\"Amount left is :\",a-b)\n",
    "\n",
    "\n"
   ]
  },
  {
   "cell_type": "code",
   "execution_count": 9,
   "id": "5c34faea-efe4-4dff-ab00-ac052d3db7dc",
   "metadata": {},
   "outputs": [
    {
     "name": "stdin",
     "output_type": "stream",
     "text": [
      "enter the marks of maths 90\n",
      "enter the marks of science 90\n",
      "enter the marks of social science 90\n",
      "enter the marks of hindi 90\n",
      "enter the marks of english 90\n"
     ]
    },
    {
     "name": "stdout",
     "output_type": "stream",
     "text": [
      "90.0\n"
     ]
    }
   ],
   "source": [
    "#student percentage calculator\n",
    "a=int(input(\"enter the marks of maths\"))\n",
    "b=int(input(\"enter the marks of science\"))\n",
    "c=int(input(\"enter the marks of social science\"))\n",
    "d=int(input(\"enter the marks of hindi\"))\n",
    "e=int(input(\"enter the marks of english\"))\n",
    "\n",
    "percentage=(a+b+c+d+e)*100/500\n",
    "print(percentage)"
   ]
  },
  {
   "cell_type": "code",
   "execution_count": 16,
   "id": "b130e196-26e0-455e-9bd1-a3b305723c26",
   "metadata": {},
   "outputs": [
    {
     "name": "stdin",
     "output_type": "stream",
     "text": [
      "enter the first side of triangle 10\n",
      "enter the second side of triangle 10\n",
      "enter the third side of triangle 7\n"
     ]
    },
    {
     "name": "stdout",
     "output_type": "stream",
     "text": [
      "isosceles triangle\n"
     ]
    }
   ],
   "source": [
    "#type of triangle\n",
    "a=int(input(\"enter the first side of triangle\"))\n",
    "b=int(input(\"enter the second side of triangle\"))\n",
    "c=int(input(\"enter the third side of triangle\"))\n",
    "\n",
    "if a==b and a==c:\n",
    "    print(\"equilateral traingle\")\n",
    "elif a==b or b==c:\n",
    "    print(\"isosceles triangle\")\n",
    "else:\n",
    "    print(\"scalene triangle\")\n",
    "\n",
    "\n",
    "\n",
    "\n"
   ]
  },
  {
   "cell_type": "code",
   "execution_count": 23,
   "id": "94a08a61-dbff-4c0d-8b98-dace0d269ede",
   "metadata": {},
   "outputs": [
    {
     "name": "stdin",
     "output_type": "stream",
     "text": [
      "enter first number 12\n",
      "enter a character *\n",
      "enter second number 12\n"
     ]
    },
    {
     "name": "stdout",
     "output_type": "stream",
     "text": [
      "result 144.0\n"
     ]
    }
   ],
   "source": [
    "#simple calculater\n",
    "a=float(input(\"enter first number\"))\n",
    "operator=input(\"enter a character\")\n",
    "b=float(input(\"enter second number\"))\n",
    "\n",
    "if operator == \"+\":\n",
    "    print(\"result\",a+b)\n",
    "elif operator == \"-\":\n",
    "    print(\"result\",a-b)\n",
    "elif operator == \"*\":\n",
    "    print(\"result\",a*b)\n",
    "elif operator == \"/\":\n",
    "    print(\"result\",a/b)\n",
    "else:\n",
    "    print(\"result\",a%b)\n",
    "\n",
    "\n"
   ]
  },
  {
   "cell_type": "code",
   "execution_count": 119,
   "id": "b9946035-34d8-44ed-81cb-291d5d2cfddd",
   "metadata": {},
   "outputs": [
    {
     "name": "stdin",
     "output_type": "stream",
     "text": [
      "enter units 12\n"
     ]
    },
    {
     "name": "stdout",
     "output_type": "stream",
     "text": [
      "your bill is : 160.0\n"
     ]
    }
   ],
   "source": [
    "\"\"\"Write a program to calculate electricity bill based on units:\n",
    "0–100 units → ₹5/unit\n",
    "101–200 → ₹7/unit\n",
    "201–300 → ₹10/unit\n",
    "Above 300 → ₹15/unit\n",
    "Also add ₹100 fixed charge.\"\"\"\n",
    "\n",
    "unit=float(input(\"enter units\"))\n",
    "\n",
    "if unit>0 and unit<=100:\n",
    "    print(\"your bill is :\",(unit*5)+100)\n",
    "elif unit>100 and unit<=200:\n",
    "    print(\"your bill is :\",100*5+(unit-100)*7+100)\n",
    "elif unit>200 and unit<=300:\n",
    "    print(\"your bill is :\",100*5+100*7+(unit-200)*10+100)\n",
    "else:\n",
    "    print(\"your bill is :\",100*5+100*7+100*10+(unit-300)*15+100)"
   ]
  },
  {
   "cell_type": "code",
   "execution_count": 48,
   "id": "99004130-725a-43cf-9f6d-8ef5a03fbb6a",
   "metadata": {},
   "outputs": [
    {
     "name": "stdin",
     "output_type": "stream",
     "text": [
      "enter your age 11\n",
      "enter your salary 100000\n",
      "enter your credit score 899\n"
     ]
    },
    {
     "name": "stdout",
     "output_type": "stream",
     "text": [
      "age is too less\n"
     ]
    }
   ],
   "source": [
    "age=int(input(\"enter your age\"))\n",
    "salary=float(input(\"enter your salary\"))\n",
    "credit_score=int(input(\"enter your credit score\"))\n",
    "\n",
    "if age>=21 and age<=60:\n",
    "    if salary>25000:\n",
    "        if credit_score>=700:\n",
    "            print(\"eligible to take loan\")\n",
    "        else:\n",
    "            print(\"credit score is too less\")\n",
    "    else:\n",
    "        print(\"salary is too less\") \n",
    "else:\n",
    "    print(\"age is too less\")\n",
    "\n",
    "\n",
    "\n",
    "\n",
    "\n",
    "\n"
   ]
  },
  {
   "cell_type": "code",
   "execution_count": 112,
   "id": "62c21f09-9a37-46b5-8197-1435af458d67",
   "metadata": {},
   "outputs": [
    {
     "name": "stdin",
     "output_type": "stream",
     "text": [
      "enter a number 101\n"
     ]
    },
    {
     "name": "stdout",
     "output_type": "stream",
     "text": [
      "Valid number\n"
     ]
    }
   ],
   "source": [
    "# Number in Range but Not Multiples\n",
    "#Check if a number is between 100 and 999 and is not divisible by 2, 3, or 5.\n",
    "#👉 Output: \"Valid Number\" or \"Invalid Number\"\n",
    "\n",
    "num=int(input(\"enter a number\"))\n",
    "if (num>=100 and num<=999) and (num%2!=0 and num%3!=0 and num%5!=0):\n",
    "    print(\"Valid number\")\n",
    "else:\n",
    "    print(\"Invalid number\")"
   ]
  },
  {
   "cell_type": "code",
   "execution_count": 114,
   "id": "7e108a1d-b5ca-4ee0-b029-6b69b373173e",
   "metadata": {},
   "outputs": [
    {
     "name": "stdin",
     "output_type": "stream",
     "text": [
      "enter your marks in maths 10\n",
      "enter your marks in eng 29\n",
      "enter your marks in hindi 15\n",
      "enter your marks in science 13\n",
      "enter your marks in social 14\n"
     ]
    },
    {
     "name": "stdout",
     "output_type": "stream",
     "text": [
      "fail\n"
     ]
    }
   ],
   "source": [
    "#Exam Pass/Fail Criteria\n",
    "#Take marks of 5 subjects. A student:\n",
    "#Passes if all marks ≥ 40 and average ≥ 50\n",
    "#Else fails\n",
    "a=int(input(\"enter your marks in maths\"))\n",
    "b=int(input(\"enter your marks in eng\"))\n",
    "c=int(input(\"enter your marks in hindi\"))\n",
    "d=int(input(\"enter your marks in science\"))\n",
    "e=int(input(\"enter your marks in social\"))\n",
    "\n",
    "sum=a+b+c+d+e\n",
    "avg=sum/5\n",
    "if (a>=40 and b>=40 and c>=40 and d>=40 and e>=40) and (avg>=50):\n",
    "    print(\"pass\")\n",
    "else:\n",
    "    print(\"fail\")\n",
    "\n",
    "    \n"
   ]
  },
  {
   "cell_type": "code",
   "execution_count": 123,
   "id": "9bc495fd-3339-4494-95f7-9a3c82a45337",
   "metadata": {},
   "outputs": [
    {
     "name": "stdin",
     "output_type": "stream",
     "text": [
      "enter your age 21\n",
      "enter what time it is(am/pm) 19\n"
     ]
    },
    {
     "name": "stdout",
     "output_type": "stream",
     "text": [
      "135.0\n"
     ]
    }
   ],
   "source": [
    "age=int(input(\"enter your age\")) \n",
    "time=int(input(\"enter what time it is(am/pm)\")) \n",
    "if age<12: \n",
    "    price=100 \n",
    "elif age>=60: \n",
    "    price=80 \n",
    "else: \n",
    "    price=150\n",
    "\n",
    "if time>18 and time<=24: \n",
    "    price-=price*0.10\n",
    "\n",
    "print(price)"
   ]
  },
  {
   "cell_type": "code",
   "execution_count": null,
   "id": "54d3582c-ad05-4a57-be0a-32c5c720cce1",
   "metadata": {},
   "outputs": [],
   "source": [
    "# Ends with 7 -  num % 10 == 7 (% 10 will alwys give the last element and equating it with 7 will check if the last number is 7 or not)"
   ]
  },
  {
   "cell_type": "code",
   "execution_count": 49,
   "id": "4f1701b1-5f01-4644-99c8-c73a122dfb98",
   "metadata": {},
   "outputs": [
    {
     "name": "stdout",
     "output_type": "stream",
     "text": [
      "70\n"
     ]
    }
   ],
   "source": [
    "# indexing \n",
    "a=[10,20,30,40,[50,60,70]]\n",
    "print(a[4][2])"
   ]
  },
  {
   "cell_type": "code",
   "execution_count": 51,
   "id": "e5dd332e-b904-4dff-80d0-adfc08cdf297",
   "metadata": {},
   "outputs": [
    {
     "name": "stdout",
     "output_type": "stream",
     "text": [
      "[50, 60, 70, 200, [45, 55, 65, ['A', 'B', 'c']]]\n"
     ]
    }
   ],
   "source": [
    "a=[10,20,30,40,[50,60,70,200,[45,55,65,[\"A\",\"B\",\"c\"]]]]\n",
    "# print B\n",
    "print(a[4])"
   ]
  },
  {
   "cell_type": "code",
   "execution_count": 52,
   "id": "822cb326-b0c4-4649-ab26-86a61a22b535",
   "metadata": {},
   "outputs": [
    {
     "name": "stdout",
     "output_type": "stream",
     "text": [
      "[45, 55, 65, ['A', 'B', 'c']]\n"
     ]
    }
   ],
   "source": [
    "print(a[4][4])"
   ]
  },
  {
   "cell_type": "code",
   "execution_count": 53,
   "id": "7bec6380-64e6-4a8e-a0ba-d0b23f460185",
   "metadata": {},
   "outputs": [
    {
     "name": "stdout",
     "output_type": "stream",
     "text": [
      "['A', 'B', 'c']\n"
     ]
    }
   ],
   "source": [
    "print(a[4][4][3])"
   ]
  },
  {
   "cell_type": "code",
   "execution_count": 54,
   "id": "08aa6fe7-32ad-42d4-b8eb-8e234a6d3430",
   "metadata": {},
   "outputs": [
    {
     "name": "stdout",
     "output_type": "stream",
     "text": [
      "B\n"
     ]
    }
   ],
   "source": [
    "print(a[4][4][3][1])"
   ]
  },
  {
   "cell_type": "code",
   "execution_count": null,
   "id": "de331ed3-7f4a-4105-8a66-ac0b85cd19e2",
   "metadata": {},
   "outputs": [],
   "source": [
    "# positive indexing that we studied till now\n"
   ]
  },
  {
   "cell_type": "code",
   "execution_count": 57,
   "id": "15170c78-357d-4b6c-bfcd-288fbaea8eb2",
   "metadata": {},
   "outputs": [
    {
     "name": "stdout",
     "output_type": "stream",
     "text": [
      "[50, 60, 70, 200, [45, 55, 65, ['A', 'B', 'c']]]\n"
     ]
    }
   ],
   "source": [
    "#negative indexing\n",
    "a=[10,20,30,40,[50,60,70,200,[45,55,65,[\"A\",\"B\",\"c\"]]]]\n",
    "print(a[-1])"
   ]
  },
  {
   "cell_type": "code",
   "execution_count": 59,
   "id": "f9743cfc-f14f-408f-9af1-5094bc37fc87",
   "metadata": {},
   "outputs": [
    {
     "name": "stdout",
     "output_type": "stream",
     "text": [
      "200\n"
     ]
    }
   ],
   "source": [
    "print(a[-1][-2])"
   ]
  },
  {
   "cell_type": "code",
   "execution_count": 60,
   "id": "874d0c48-e076-495e-b350-2f36bb05be54",
   "metadata": {},
   "outputs": [
    {
     "name": "stdout",
     "output_type": "stream",
     "text": [
      "[50, 60, 70, 200, [45, 55, 65, ['A', 'B', 'c']]]\n"
     ]
    }
   ],
   "source": [
    "print(a[-1])"
   ]
  },
  {
   "cell_type": "code",
   "execution_count": 61,
   "id": "28335101-5fc3-4986-88b5-71aef39105d7",
   "metadata": {},
   "outputs": [
    {
     "name": "stdout",
     "output_type": "stream",
     "text": [
      "[45, 55, 65, ['A', 'B', 'c']]\n"
     ]
    }
   ],
   "source": [
    "print(a[-1][-1])"
   ]
  },
  {
   "cell_type": "code",
   "execution_count": 62,
   "id": "7a525b2c-e6db-4332-8bba-93bfa8484142",
   "metadata": {},
   "outputs": [
    {
     "name": "stdout",
     "output_type": "stream",
     "text": [
      "45\n"
     ]
    }
   ],
   "source": [
    "print(a[-1][-1][-4])"
   ]
  },
  {
   "cell_type": "code",
   "execution_count": 66,
   "id": "f18152d6-10fc-4520-a19b-5b561367741f",
   "metadata": {},
   "outputs": [
    {
     "name": "stdout",
     "output_type": "stream",
     "text": [
      "B\n"
     ]
    }
   ],
   "source": [
    "print(a[-1][-1][-1][-2])"
   ]
  },
  {
   "cell_type": "code",
   "execution_count": 71,
   "id": "41885d4c-4ae7-48ba-a6da-1c9d8717435d",
   "metadata": {},
   "outputs": [
    {
     "name": "stdout",
     "output_type": "stream",
     "text": [
      "p\n",
      "n\n"
     ]
    }
   ],
   "source": [
    "# questions on indexing\n",
    "#Print the first and last character of the string \"Python\" using indexing.\n",
    "a=\"python\"\n",
    "print(a[0])\n",
    "print(a[5])"
   ]
  },
  {
   "cell_type": "code",
   "execution_count": 72,
   "id": "4e6cad84-e1dc-4917-805b-4e6f7006634d",
   "metadata": {},
   "outputs": [
    {
     "name": "stdout",
     "output_type": "stream",
     "text": [
      "yth\n"
     ]
    }
   ],
   "source": [
    "#Print \"yth\" from the string \"Python\" using slice indexing.\n",
    "a=\"python\"\n",
    "print(a[1:4])"
   ]
  },
  {
   "cell_type": "code",
   "execution_count": 83,
   "id": "d6fa19d3-ad60-45fb-b65b-670713fe2ee9",
   "metadata": {},
   "outputs": [
    {
     "name": "stdout",
     "output_type": "stream",
     "text": [
      "idxn\n"
     ]
    }
   ],
   "source": [
    "#Print every 2nd character of the string \"indexing\".\n",
    "a=\"indexing\"\n",
    "print(a[0:9:2])"
   ]
  },
  {
   "cell_type": "code",
   "execution_count": 87,
   "id": "e058c03a-2828-45a9-a812-83b3f1e59ea0",
   "metadata": {},
   "outputs": [
    {
     "name": "stdout",
     "output_type": "stream",
     "text": [
      "ing\n",
      "ing\n"
     ]
    }
   ],
   "source": [
    "#Print the last 3 characters of the string \"Programming\".\n",
    "a=\"Programming\"\n",
    "print(a[-3:])\n",
    "#or\n",
    "print(a[8:11])"
   ]
  },
  {
   "cell_type": "code",
   "execution_count": 88,
   "id": "140ddae7-6c0f-4a65-a25b-7749b7a1aa8c",
   "metadata": {},
   "outputs": [
    {
     "name": "stdout",
     "output_type": "stream",
     "text": [
      "c\n"
     ]
    }
   ],
   "source": [
    "#Access the 3rd element of the list ['a', 'b', 'c', 'd'].\n",
    "a=['a', 'b', 'c', 'd']\n",
    "print(a[2])"
   ]
  },
  {
   "cell_type": "code",
   "execution_count": 92,
   "id": "7b0f1153-827e-4f0e-bcb6-3a033d22616d",
   "metadata": {},
   "outputs": [
    {
     "name": "stdout",
     "output_type": "stream",
     "text": [
      "[2, 4, 6, 8]\n"
     ]
    }
   ],
   "source": [
    "# From the list [0,1,2,3,4,5,6,7,8,9], extract [2, 4, 6, 8] using slicing.\n",
    "a=[0,1,2,3,4,5,6,7,8,9]\n",
    "print(a[2:9:2])"
   ]
  },
  {
   "cell_type": "code",
   "execution_count": 136,
   "id": "d0472f48-9d4a-49c4-a3dd-b417b91877a9",
   "metadata": {},
   "outputs": [
    {
     "data": {
      "text/plain": [
       "[0, 1, [2, 3, [4, 5, [6, 'seven']]]]"
      ]
     },
     "execution_count": 136,
     "metadata": {},
     "output_type": "execute_result"
    }
   ],
   "source": [
    "#Replace the element 7 with 'seven'.\n",
    "lst = [0, 1, [2, 3, [4, 5, [6, 7]]]]\n",
    "lst[2][2][2][1] = \"seven\"\n",
    "lst"
   ]
  },
  {
   "cell_type": "code",
   "execution_count": 67,
   "id": "08adf468-983f-47a2-95f4-410bd0be41f0",
   "metadata": {},
   "outputs": [
    {
     "name": "stdout",
     "output_type": "stream",
     "text": [
      "[10, 20, 30, 40, 50, 60, 70, 80]\n"
     ]
    }
   ],
   "source": [
    "# slicing(positive slicing)\n",
    "a=[10,20,30,40,50,60,70,80,90,100]\n",
    "# format:-starting position(inclusive),ending position(not inclusive),stepsize(if given two it will jump one value)\n",
    "print(a[0:8])"
   ]
  },
  {
   "cell_type": "code",
   "execution_count": 68,
   "id": "323e3879-a86a-4bab-a7a0-d4b4a51a722a",
   "metadata": {},
   "outputs": [
    {
     "name": "stdout",
     "output_type": "stream",
     "text": [
      "[10, 30, 50, 70]\n"
     ]
    }
   ],
   "source": [
    "print(a[0:8:2])\n"
   ]
  },
  {
   "cell_type": "code",
   "execution_count": 69,
   "id": "6cea250b-7d30-402b-bd82-3a9df52c62cb",
   "metadata": {},
   "outputs": [
    {
     "name": "stdout",
     "output_type": "stream",
     "text": [
      "[20, 50]\n"
     ]
    }
   ],
   "source": [
    "print(a[1:6:3])"
   ]
  },
  {
   "cell_type": "code",
   "execution_count": null,
   "id": "8632844e-8f7b-41c9-95b5-31ca35c9d6dd",
   "metadata": {},
   "outputs": [],
   "source": [
    "#negative slicing (we have to always give stepsize because it act as direction as well by default its always +1)"
   ]
  },
  {
   "cell_type": "code",
   "execution_count": null,
   "id": "d8b55b39-be5e-4128-9aef-2e6b47c2a7b5",
   "metadata": {},
   "outputs": [],
   "source": []
  },
  {
   "cell_type": "code",
   "execution_count": 137,
   "id": "efae0be1-f23f-4378-93e7-e28d64f8a28f",
   "metadata": {},
   "outputs": [
    {
     "name": "stdout",
     "output_type": "stream",
     "text": [
      "[30, 40, 50]\n"
     ]
    }
   ],
   "source": [
    "a=[10,20,30,40,50,60]\n",
    "print(a[-4:-1])"
   ]
  },
  {
   "cell_type": "code",
   "execution_count": 138,
   "id": "514f9e50-efd3-4941-bc97-552419bdc195",
   "metadata": {},
   "outputs": [
    {
     "name": "stdout",
     "output_type": "stream",
     "text": [
      "[]\n"
     ]
    }
   ],
   "source": [
    "print(a[-1:-4])"
   ]
  },
  {
   "cell_type": "code",
   "execution_count": 139,
   "id": "980058de-6b05-4b66-b791-61a478978daf",
   "metadata": {},
   "outputs": [
    {
     "name": "stdout",
     "output_type": "stream",
     "text": [
      "[50, 40, 30]\n"
     ]
    }
   ],
   "source": [
    "print(a[4:1:-1])"
   ]
  },
  {
   "cell_type": "code",
   "execution_count": 140,
   "id": "82b23c0e-f12b-4e7f-95fb-8b4afe74b444",
   "metadata": {},
   "outputs": [
    {
     "name": "stdout",
     "output_type": "stream",
     "text": [
      "[60, 50, 40, 30, 20, 10]\n"
     ]
    }
   ],
   "source": [
    "#REVERSE\n",
    "print(a[::-1]) "
   ]
  },
  {
   "cell_type": "code",
   "execution_count": 147,
   "id": "3ee2a5ef-c677-4a9f-bbc9-ba665d024676",
   "metadata": {},
   "outputs": [
    {
     "name": "stdin",
     "output_type": "stream",
     "text": [
      "enter a number 11\n"
     ]
    },
    {
     "name": "stdout",
     "output_type": "stream",
     "text": [
      "odd\n",
      "positive\n"
     ]
    }
   ],
   "source": [
    "#nested if else questions\n",
    "# positive zero or negative and if positive so check even or odd \n",
    "a=int(input(\"enter a number\"))\n",
    "\n",
    "if a>0:\n",
    "    if a%2==0:\n",
    "        print(\"even\")\n",
    "    else:\n",
    "        print(\"odd\")\n",
    "        print(\"positive\")\n",
    "elif a<0:\n",
    "    print(\"negative\")\n",
    "else:\n",
    "    print(\"zero\")"
   ]
  },
  {
   "cell_type": "code",
   "execution_count": 149,
   "id": "893dce35-1493-4a2a-b4a4-35ced37288c1",
   "metadata": {},
   "outputs": [
    {
     "name": "stdin",
     "output_type": "stream",
     "text": [
      "enter a number 210\n"
     ]
    },
    {
     "name": "stdout",
     "output_type": "stream",
     "text": [
      "number is in range\n",
      "number is divvisible by both 3 and 7\n"
     ]
    }
   ],
   "source": [
    "# wap to check a three digit number is divisible by both 3 and 7 if number exceed three digits it shows number is u difined\n",
    "num=int(input(\"enter a number\"))\n",
    "\n",
    "if num>99 and num<=999:\n",
    "    if num%3==0 and num%7==0:\n",
    "        print(\"number is in range\")\n",
    "        print(\"number is divisible by both 3 and 7\")\n",
    "else:\n",
    "    print(\"number is undifined\")"
   ]
  },
  {
   "cell_type": "code",
   "execution_count": 155,
   "id": "6e2233f0-4d39-445e-a5cb-158670e86623",
   "metadata": {},
   "outputs": [
    {
     "name": "stdin",
     "output_type": "stream",
     "text": [
      "enter a number 20\n",
      "enter a number 10\n",
      "enter a number 20\n"
     ]
    },
    {
     "name": "stdout",
     "output_type": "stream",
     "text": [
      "its a tie\n"
     ]
    }
   ],
   "source": [
    "a=int(input(\"enter a number\"))\n",
    "b=int(input(\"enter a number\"))\n",
    "c=int(input(\"enter a number\"))\n",
    "if a>b and a>c:\n",
    "    print(\"a is greatest\")\n",
    "elif b>a and b>c:\n",
    "    print(\"b is greatest\")\n",
    "elif c>a and c>b:\n",
    "    print(\"c is greatest\")\n",
    "else:\n",
    "    if a==b or b==c or c==a  or a==b==c:\n",
    "        print(\"its a tie\")"
   ]
  },
  {
   "cell_type": "code",
   "execution_count": 164,
   "id": "b8496f90-da36-4564-8788-0931e3b3d0e6",
   "metadata": {},
   "outputs": [
    {
     "name": "stdin",
     "output_type": "stream",
     "text": [
      "enter the type of card (debit/credit) credit\n",
      "enter the amount to be withdrawan 5000000\n"
     ]
    },
    {
     "name": "stdout",
     "output_type": "stream",
     "text": [
      "Limit exceed\n"
     ]
    }
   ],
   "source": [
    "# ATM Withdrawal Validator\n",
    "#Ask the user to enter:\n",
    "#Card type: debit or credit\n",
    "#Amount to withdraw\n",
    "#Rules:\n",
    "#If card is debit:\n",
    "#Max limit is ₹20,000\n",
    "#If amount ≤ 20000 → print \"Transaction Approved\"\n",
    "#Else → print \"Limit Exceeded\"\n",
    "#If card is credit:\n",
    "#Max limit is ₹50,000\n",
    "#If amount ≤ 50000 → print \"Transaction Approved\"\n",
    "#Else → print \"Limit Exceeded\"\n",
    "#Else → print \"Invalid Card Type\"\n",
    "\n",
    "card=input(\"enter the type of card (debit/credit)\")\n",
    "amount=int(input(\"enter the amount to be withdrawan\"))\n",
    "      \n",
    "if card==\"debit\":\n",
    "    if amount<=20000:\n",
    "        print(\"Tranaction approved\")\n",
    "    else:\n",
    "        print(\"Limit exceed\")\n",
    "elif card==\"credit\":\n",
    "    if amount<=50000:\n",
    "        print(\"Tranaction approved\")\n",
    "    else:\n",
    "        print(\"Limit exceed\")\n",
    "else:\n",
    "    print(\"invalid card type\")\n",
    "    \n",
    "\n",
    "\n",
    "\n"
   ]
  },
  {
   "cell_type": "code",
   "execution_count": 178,
   "id": "85a48fd2-fe87-42a1-a31b-a93469254854",
   "metadata": {},
   "outputs": [
    {
     "name": "stdin",
     "output_type": "stream",
     "text": [
      "enter the units 475\n"
     ]
    },
    {
     "name": "stdout",
     "output_type": "stream",
     "text": [
      "your bill is : 1025\n"
     ]
    }
   ],
   "source": [
    "# Electricity Bill Calculator\n",
    "#Input the number of units consumed.\n",
    "#If units ≤ 100 → ₹1/unit\n",
    "#If 101–300:\n",
    "#First 100 → ₹1/unit\n",
    "#Remaining → ₹2/unit\n",
    "#If units > 300:\n",
    "#First 100 → ₹1/unit\n",
    "#Next 200 → ₹2/unit\n",
    "#Remaining → ₹3/unit\n",
    "#Finally, print the total bill \n",
    "unit=int(input(\"enter the units\"))\n",
    "if unit<=100:\n",
    "    print(\"your bill is :\",unit*1)\n",
    "elif unit>100 and unit<=300:\n",
    "    print(\"your bill is :\",100*1+(unit-100)*2)\n",
    "else:\n",
    "    if unit>300:\n",
    "        print(\"your bill is :\",100*1+200*2+(unit-300)*3)\n"
   ]
  },
  {
   "cell_type": "code",
   "execution_count": 218,
   "id": "05711254-0770-4dbd-93fb-39736a3839e1",
   "metadata": {},
   "outputs": [
    {
     "name": "stdin",
     "output_type": "stream",
     "text": [
      "enter your gender(male/female) male\n",
      "enter your age 44\n",
      "enter your salary 1000000\n"
     ]
    },
    {
     "name": "stdout",
     "output_type": "stream",
     "text": [
      "your tax amount is : 100000.0\n",
      "your net slary is : 900000.0\n"
     ]
    }
   ],
   "source": [
    "#Q1. Employee Salary Tax Calculator\n",
    "#Take the following inputs:\n",
    "#Employee gender (male / female)\n",
    "#Age\n",
    "#Annual salary\n",
    "#Conditions:\n",
    "#If male:\n",
    "#If age < 60:\n",
    "#If salary > ₹10,00,000 → 30% tax\n",
    "#If salary > ₹5,00,000 → 20% tax\n",
    "#Else → 10% tax\n",
    "#Else → 5% tax\n",
    "#If female:\n",
    "#If salary > ₹7,00,000 → 25% tax\n",
    "#Else → 10% tax\n",
    "#Print the tax amount and net salary.\n",
    "\n",
    "gender=input(\"enter your gender(male/female)\")\n",
    "age=int(input(\"enter your age\"))\n",
    "annual_salary=float(input(\"enter your salary\"))\n",
    "tax_amount=0\n",
    "net_salary=0\n",
    "if gender==\"male\":\n",
    "    if age<60:\n",
    "        if annual_salary>1000000:\n",
    "            tax_amount=annual_salary*0.30\n",
    "            net_salary=annual_salary-tax_amount\n",
    "        else:\n",
    "            tax_amount=annual_salary*0.10\n",
    "            net_salary=annual_salary-tax_amount\n",
    "else:\n",
    "        tax_amount=annual_salary*0.5\n",
    "        net_salary=annual_salary-tax_amount \n",
    "if gender==\"female\": \n",
    "    if annual_salary>700000:\n",
    "        tax_amount=annual_salary*0.25\n",
    "        net_salary=annual_salary-tax_amount \n",
    "else:\n",
    "  tax_amount=annual_salary*0.10\n",
    "  net_salary=annual_salary-tax_amount \n",
    "print(\"your tax amount is :\",tax_amount)\n",
    "print(\"your net slary is :\",net_salary)\n"
   ]
  },
  {
   "cell_type": "code",
   "execution_count": 275,
   "id": "0a311409-4ae8-4067-8d8e-7f601997e0b7",
   "metadata": {},
   "outputs": [
    {
     "name": "stdin",
     "output_type": "stream",
     "text": [
      "enter marks in aptitude 56\n",
      "enter your marks in tecchnical 66\n",
      "enter your marks in english 78\n"
     ]
    }
   ],
   "source": [
    " #Online Exam Result Evaluator\n",
    "#Inputs:\n",
    "#Marks in 3 sections: Aptitude, Technical, English\n",
    "#Conditions:\n",
    "#Each section must be ≥ 40\n",
    "#Overall average must be ≥ 60\n",
    "#If Aptitude ≥ 90 → “Excellent Logical Skills”\n",
    "#If Technical ≥ 90 → “Excellent Coding Skills”\n",
    "\n",
    "marks1=int(input(\"enter marks in aptitude\"))\n",
    "marks2=int(input(\"enter your marks in tecchnical\"))\n",
    "marks3=int(input(\"enter your marks in english\"))\n",
    "average=(marks1+marks2+marks3)/3\n",
    "if marks1>=40 and marks2>=40 and marks3>=40:\n",
    "    if average>=60:\n",
    "        if marks1>=90:\n",
    "            print(\"Excellent Logical Skills\")\n",
    "        else:\n",
    "            if marks2>90:\n",
    "                print(\"excellente in coding\")"
   ]
  },
  {
   "cell_type": "code",
   "execution_count": 280,
   "id": "aca61e64-0294-4c1a-b1da-af07d9c60e65",
   "metadata": {},
   "outputs": [
    {
     "name": "stdin",
     "output_type": "stream",
     "text": [
      "enter your stream (Science, Commerce, Arts) science\n",
      "enter your marks in boards 88\n",
      "enter your marks in enterance exam 74\n"
     ]
    },
    {
     "name": "stdout",
     "output_type": "stream",
     "text": [
      "admit\n"
     ]
    }
   ],
   "source": [
    "# University Admission System\n",
    "#Input:\n",
    "#Stream applied (Science, Commerce, Arts)\n",
    "#12th board marks\n",
    "#Entrance exam score\n",
    "\n",
    "#Rules:\n",
    "#For Science:\n",
    "#Board marks ≥ 80 and Entrance ≥ 70 → Admit\n",
    "#Else → Reject\n",
    "#For Commerce:\n",
    "#Board marks ≥ 75 and Entrance ≥ 60 → Admit\n",
    "#For Arts:\n",
    "#Only Board marks ≥ 65 → Admit\n",
    "#Any invalid stream → Error\n",
    "\n",
    "stream=input(\"enter your stream (Science, Commerce, Arts)\")\n",
    "marks=float(input(\"enter your marks in boards\"))\n",
    "Entrance_exam=float(input(\"enter your marks in enterance exam\"))\n",
    "if stream==\"science\":\n",
    "    if marks>=80:\n",
    "        if Entrance_exam>=70:\n",
    "            print(\"admit\")\n",
    "        else:\n",
    "            print(\"reject\")\n",
    "elif stream==\"commerce\":\n",
    "    if marks>=75:\n",
    "        if Entrance_exam>=60:\n",
    "            print(\"admit\")\n",
    "        else:\n",
    "            print(\"reject\")\n",
    "elif stream==\"arts\":\n",
    "    if marks>=65:\n",
    "        print(\"admit\")\n",
    "\n",
    "else:\n",
    "    print(\"invalid stream\")"
   ]
  },
  {
   "cell_type": "code",
   "execution_count": 343,
   "id": "80cae318-eab4-4586-aa14-b69eba207513",
   "metadata": {},
   "outputs": [
    {
     "name": "stdin",
     "output_type": "stream",
     "text": [
      "do you have a passport (yes/no) yes\n",
      "do you have a visa (yes/no) yes\n",
      "whats your temperature 22\n"
     ]
    },
    {
     "name": "stdout",
     "output_type": "stream",
     "text": [
      "allowed to check in\n"
     ]
    }
   ],
   "source": [
    "#Flight Check-in Kiosk System\n",
    "#Input:\n",
    "#Has Passport? (yes/no)\n",
    "#Has Visa? (yes/no)\n",
    "#Temperature in Celsius\n",
    "\n",
    "#Logic:\n",
    "#If passport = yes:\n",
    "#If visa = yes:\n",
    "#If temperature ≤ 37.5 → \"Allowed to Check-in\"\n",
    "#Else → \"Denied due to high temperature\"\n",
    "#Else → \"Visa Required\"\n",
    "#Else → \"Passport Required\"\n",
    "\n",
    "passport=input(\"do you have a passport (yes/no)\")\n",
    "visa=input(\"do you have a visa (yes/no)\")\n",
    "Temperature=float(input(\"whats your temperature\"))\n",
    "\n",
    "if passport==\"yes\":\n",
    "    if visa==\"yes\":\n",
    "        if Temperature<=37.5:\n",
    "            print(\"allowed to check in\")\n",
    "        else:\n",
    "            print(\"Denied due to high temperature\")\n",
    "    else:\n",
    "        print(\"visa required\")\n",
    "else:\n",
    "    print(\"passport required\")\n",
    "   \n",
    "\n",
    "\n",
    "\n",
    "\n",
    "  "
   ]
  },
  {
   "cell_type": "code",
   "execution_count": 53,
   "id": "1ca91ebd-12fc-48c5-80f5-d49be30e6ba6",
   "metadata": {},
   "outputs": [
    {
     "name": "stdin",
     "output_type": "stream",
     "text": [
      "enter a string d\n"
     ]
    },
    {
     "name": "stdout",
     "output_type": "stream",
     "text": [
      "starting with consonants\n"
     ]
    }
   ],
   "source": [
    "#wap to check if starting with A or starting with vowel or consonant\n",
    "a=input(\"enter a string\")\n",
    "if a.isalpha():\n",
    "    if a.upper :\n",
    "        if a[0]==\"A\":\n",
    "            print(\"starting with A\")\n",
    "        elif a.lower():\n",
    "            if a[0] in 'aeiou':\n",
    "                print(\"starting with vowel\")\n",
    "            else:\n",
    "                print(\"starting with consonants\")\n",
    "    \n",
    "            "
   ]
  },
  {
   "cell_type": "code",
   "execution_count": 419,
   "id": "7057ba98-155c-4b74-b541-7e544435f5b6",
   "metadata": {},
   "outputs": [
    {
     "ename": "SyntaxError",
     "evalue": "invalid syntax (2029814794.py, line 13)",
     "output_type": "error",
     "traceback": [
      "\u001b[1;36m  Cell \u001b[1;32mIn[419], line 13\u001b[1;36m\u001b[0m\n\u001b[1;33m    else:\u001b[0m\n\u001b[1;37m    ^\u001b[0m\n\u001b[1;31mSyntaxError\u001b[0m\u001b[1;31m:\u001b[0m invalid syntax\n"
     ]
    }
   ],
   "source": [
    "\n",
    "a=int(input(\"enter a three digit number\"))\n",
    "if a>99 and a<=999:\n",
    "    print(\"three digit number\")\n",
    "    if str(a)[::] == str(a)[::-1]:\n",
    "        print(\"pallindrome\")\n",
    "    else:\n",
    "        print(\"not a pallindrome\")\n",
    "elif a%2==0:                                      #agai  write the program \n",
    "    print(\"pallindrome and even\")\n",
    "else:\n",
    "    (\"not a even number\")\n",
    "    else:\n",
    "        (\"not a pallindrome\")\n",
    "else:\n",
    "    print(\"not a correct 3 digit number\")\n",
    "    "
   ]
  },
  {
   "cell_type": "code",
   "execution_count": 423,
   "id": "b0ffbdba-3c7b-443d-8fc8-f5aa4a7e4624",
   "metadata": {},
   "outputs": [
    {
     "name": "stdin",
     "output_type": "stream",
     "text": [
      "enter what would you like to drink tea or coffee tea\n",
      "with sugar or without sugar sugar\n"
     ]
    },
    {
     "name": "stdout",
     "output_type": "stream",
     "text": [
      "here is your coffee with sugar\n"
     ]
    }
   ],
   "source": [
    "#tea and coffee \n",
    "beverage=input(\"enter what would you like to drink tea or coffee\")\n",
    "\n",
    "if beverage==\"tea\":\n",
    "    ask=input(\"with sugar or without sugar\")\n",
    "    if ask==\"sugar\":\n",
    "        print(\"here is your tea with sugar\")\n",
    "    else:\n",
    "        print(\"here is your tea without sugar\")\n",
    "elif beverage==\"coffee\":\n",
    "    know=input(\"milk or without milk\")\n",
    "    if know==\"milk\":\n",
    "        print(\"hre is your coffee with milk\")\n",
    "    else:\n",
    "        print(\"here is your coffee without milk\")\n",
    "else:\n",
    "    print(\"beverage wrong entered\")\n",
    "    \n",
    "\n"
   ]
  },
  {
   "cell_type": "code",
   "execution_count": 403,
   "id": "c65eef4f-6559-49ae-ac7f-b4e8cbd582df",
   "metadata": {},
   "outputs": [
    {
     "name": "stdin",
     "output_type": "stream",
     "text": [
      "enter a 3 letter word klq\n"
     ]
    },
    {
     "name": "stdout",
     "output_type": "stream",
     "text": [
      "mixed\n"
     ]
    }
   ],
   "source": [
    "#Layered Vowel Game\n",
    "#Take a 3-letter word. If:\n",
    "#All are vowels → “Triple Vowel”\n",
    "#Starts and ends with vowels → “Sandwich Vowel”\n",
    "#Only middle is vowel → “Core Vowel”\n",
    "#Else → “Mixed”\n",
    "a=input(\"enter a 3 letter word\")\n",
    "if a.isalpha():\n",
    "    if len(a)==3:\n",
    "        if a.lower() in 'aeiou':\n",
    "            print(\"Triple Vowel\")\n",
    "        elif a[0] and a[2] in 'aeiou':\n",
    "            print(\"sandwich vowel\")\n",
    "        elif a[1] in 'aeiou':\n",
    "            print(\"core vowel\")\n",
    "        else:\n",
    "            print(\"mixed\")\n",
    "                "
   ]
  },
  {
   "cell_type": "code",
   "execution_count": 418,
   "id": "80bb2860-271b-478c-ba6d-2e5ce1f3d13f",
   "metadata": {},
   "outputs": [
    {
     "name": "stdin",
     "output_type": "stream",
     "text": [
      "enter a four digit number 1234\n"
     ]
    },
    {
     "name": "stdout",
     "output_type": "stream",
     "text": [
      "not a pallindrome\n",
      "the number is even\n"
     ]
    }
   ],
   "source": [
    "# wap to check a input of three digit number if it is a pallindrome check even or not\n",
    "num=input(\"enter a four digit number\")\n",
    "num_int = int(num)\n",
    "if num_int>999 and num_int<=9999:\n",
    "    if num[::] == num[::-1]:\n",
    "        print(\"pallindrome\")\n",
    "    else:\n",
    "        print(\"not a pallindrome\")\n",
    "        if num_int%2==0:\n",
    "            print(\"the number is even\")\n",
    "        else:\n",
    "            print(\"the number is odd.\")\n",
    "else:\n",
    "    print(\"the number is not a four digit number\")"
   ]
  },
  {
   "cell_type": "code",
   "execution_count": 422,
   "id": "c26fe964-1765-44c2-9ae0-cde24284a7a8",
   "metadata": {},
   "outputs": [
    {
     "name": "stdin",
     "output_type": "stream",
     "text": [
      "enter a year 1900\n"
     ]
    },
    {
     "name": "stdout",
     "output_type": "stream",
     "text": [
      "not a leap year\n"
     ]
    }
   ],
   "source": [
    "#leap year\n",
    "year=int(input(\"enter a year\"))\n",
    "if (year%4==0 and year % 100 !=0) or year%400==0:\n",
    "    print(\"leap year\")\n",
    "else:\n",
    "    print(\"not a leap year\")"
   ]
  },
  {
   "cell_type": "code",
   "execution_count": 435,
   "id": "8036b4a3-3bab-4d3d-9efe-14f71143bb2a",
   "metadata": {},
   "outputs": [
    {
     "ename": "TypeError",
     "evalue": "'tuple' object does not support item assignment",
     "output_type": "error",
     "traceback": [
      "\u001b[1;31m---------------------------------------------------------------------------\u001b[0m",
      "\u001b[1;31mTypeError\u001b[0m                                 Traceback (most recent call last)",
      "Cell \u001b[1;32mIn[435], line 14\u001b[0m\n\u001b[0;32m     12\u001b[0m b\u001b[38;5;241m=\u001b[39m(\u001b[38;5;124m\"\u001b[39m\u001b[38;5;124mA\u001b[39m\u001b[38;5;124m\"\u001b[39m,\u001b[38;5;241m12\u001b[39m,\u001b[38;5;241m13\u001b[39m)\n\u001b[0;32m     13\u001b[0m c \u001b[38;5;241m=\u001b[39m a[\u001b[38;5;241m0\u001b[39m]\n\u001b[1;32m---> 14\u001b[0m a[\u001b[38;5;241m0\u001b[39m] \u001b[38;5;241m=\u001b[39m \u001b[38;5;241m20\u001b[39m\n",
      "\u001b[1;31mTypeError\u001b[0m: 'tuple' object does not support item assignment"
     ]
    }
   ],
   "source": [
    "#built in dattype\n",
    "\n",
    "#string\n",
    "#int\n",
    "#float\n",
    "#boolean\n",
    "#list[],tuple(),set{},dictionary{} (primative data types)\n",
    "\n",
    "\n",
    "# tuple- collection of element \n",
    "# written in paranthesis ()\n",
    "# comma seperated every element \n",
    "# hetrogenius in nature\n",
    "# indexed(ordered) in nature\n",
    "# immutuable(unchangeable) in nature\n",
    "a=(1,2,3)\n",
    "b=(\"A\",12,13)\n",
    "c = a[0]\n",
    "a[0] = 20 #impossible\n"
   ]
  },
  {
   "cell_type": "code",
   "execution_count": 436,
   "id": "2bb657a1-543b-434b-a6d1-94d70a317c58",
   "metadata": {},
   "outputs": [
    {
     "name": "stdout",
     "output_type": "stream",
     "text": [
      "{'name': ['amit', 'aryan', 'ajay'], 'subject': 'python', 'batch': 'p=60'}\n",
      "aryan\n",
      "python\n"
     ]
    }
   ],
   "source": [
    "#dictionary- ordered collection of element\n",
    "# denoted by {} key:value pair\n",
    "#unindexed\n",
    "#hetrogenius\n",
    "#mutuable\n",
    "\n",
    "d={\"name\":[\"amit\",\"aryan\",\"ajay\"],\"subject\":\"python\",\"batch\":\"p=60\"}\n",
    "print(d)\n",
    "print(d[\"name\"][1])\n",
    "print(d[\"subject\"])"
   ]
  },
  {
   "cell_type": "code",
   "execution_count": null,
   "id": "4432bcf8-652d-4be0-93de-78b45b5618a1",
   "metadata": {},
   "outputs": [],
   "source": [
    "di={\"name\":[\"amit\",\"aryan\",\"deepesh\"],\"subject\":[\"python\",\"sql\"],\"batch\":[\"p-60\",\"p-98\"]}\n",
    "print(di)"
   ]
  },
  {
   "cell_type": "code",
   "execution_count": 438,
   "id": "18f1c749-0bc6-44a8-aa06-72bab26f05c8",
   "metadata": {},
   "outputs": [
    {
     "name": "stdout",
     "output_type": "stream",
     "text": [
      "{10, 10.5, 'cybrom', 'hello'}\n",
      "{10, 10.5, 'cybrom', 'hello'}\n"
     ]
    }
   ],
   "source": [
    "#set- collection of element,can never be empty\n",
    "# denoted  by {} with comma seperated\n",
    "#unindexed\n",
    "#unordered\n",
    "#mutuable\n",
    "#hetrogenius\n",
    "#no duplicate values is allowed\n",
    "s={10,10.5,\"hello\",\"cybrom\"}\n",
    "print(s)\n",
    "s.add(\"hello\")\n",
    "print(s)"
   ]
  },
  {
   "cell_type": "code",
   "execution_count": 441,
   "id": "2f48eb34-2d82-4638-8d1b-5022efc7544e",
   "metadata": {},
   "outputs": [
    {
     "name": "stdout",
     "output_type": "stream",
     "text": [
      "0,1,2,3,4,5,"
     ]
    }
   ],
   "source": [
    "# for loop\n",
    "for i in range(6):\n",
    "   # print(i)\n",
    "    print(i,end = \",\")\n"
   ]
  },
  {
   "cell_type": "code",
   "execution_count": 453,
   "id": "e9dc43ca-c48a-4f17-ae7b-44f7a528f8df",
   "metadata": {},
   "outputs": [
    {
     "name": "stdout",
     "output_type": "stream",
     "text": [
      "1/2/3/4/5/6/7/8/9/10/"
     ]
    }
   ],
   "source": [
    "# Print numbers from 1 to 10\n",
    "for i in range(1,11):\n",
    "    #print(i)\n",
    "     print(i,end = \",\")"
   ]
  },
  {
   "cell_type": "code",
   "execution_count": 459,
   "id": "5e35bb9f-9596-4747-a5f4-f360df6522c1",
   "metadata": {},
   "outputs": [
    {
     "name": "stdout",
     "output_type": "stream",
     "text": [
      "2,4,6,8,10,12,14,16,18,20,"
     ]
    }
   ],
   "source": [
    "#  Print all even numbers from 2 to 20\n",
    "for i in range(2,21,2):\n",
    "    print(i,end=\",\")\n",
    "    "
   ]
  },
  {
   "cell_type": "code",
   "execution_count": 462,
   "id": "1655d334-122e-48b6-bb17-b7f525f82dfd",
   "metadata": {},
   "outputs": [
    {
     "name": "stdout",
     "output_type": "stream",
     "text": [
      "3,6,9,12,15,"
     ]
    }
   ],
   "source": [
    "# Print the first 5 multiples of 3\n",
    "'''for i in range(3,16,3):\n",
    "    print(i)'''\n",
    "    #OR\n",
    "for i in range(1,6):\n",
    "    print(i*3,end=\",\")"
   ]
  },
  {
   "cell_type": "code",
   "execution_count": 474,
   "id": "e5317c1a-71e7-45c4-812c-17eb9530a103",
   "metadata": {},
   "outputs": [
    {
     "name": "stdout",
     "output_type": "stream",
     "text": [
      "10\n",
      "9\n",
      "8\n",
      "7\n",
      "6\n",
      "5\n",
      "4\n",
      "3\n",
      "2\n",
      "1\n"
     ]
    }
   ],
   "source": [
    "#Print all numbers from 10 to 1 in reverse\n",
    "for i in range(10,0,-1):\n",
    "    print(i) "
   ]
  },
  {
   "cell_type": "code",
   "execution_count": 477,
   "id": "1680c52e-51de-40d4-a00d-dc723de254de",
   "metadata": {},
   "outputs": [
    {
     "name": "stdout",
     "output_type": "stream",
     "text": [
      "1\n",
      "4\n",
      "9\n",
      "16\n",
      "25\n"
     ]
    }
   ],
   "source": [
    "# Print the square of numbers from 1 to 5\n",
    "for i in range(1,6):\n",
    "    print(i*i)"
   ]
  },
  {
   "cell_type": "code",
   "execution_count": 480,
   "id": "157494fc-e174-4a05-ab5f-aa1fdaf736b4",
   "metadata": {},
   "outputs": [
    {
     "name": "stdout",
     "output_type": "stream",
     "text": [
      "1,2,3,4,5,"
     ]
    }
   ],
   "source": [
    "# print the elements of a list\n",
    "my_list=[1,2,3,4,5]\n",
    "for item in my_list:\n",
    "    print(item,end=\",\")"
   ]
  },
  {
   "cell_type": "code",
   "execution_count": 486,
   "id": "3223a347-4eba-4426-b9d1-31ae65ca9862",
   "metadata": {},
   "outputs": [
    {
     "name": "stdout",
     "output_type": "stream",
     "text": [
      "hello\n",
      "hello\n",
      "hello\n",
      "hello\n"
     ]
    }
   ],
   "source": [
    "# print hello 4 times\n",
    "for i in range(4):\n",
    "    print(\"hello\")"
   ]
  },
  {
   "cell_type": "code",
   "execution_count": 489,
   "id": "3d3827ce-528e-4a15-a6af-dfacb8e35399",
   "metadata": {},
   "outputs": [
    {
     "name": "stdout",
     "output_type": "stream",
     "text": [
      "1,3,5,7,9,11,13,15,17,19,"
     ]
    }
   ],
   "source": [
    "# Print first 10 odd numbers\n",
    "for i in range (1,20,2):\n",
    "    print(i,end=\",\")"
   ]
  },
  {
   "cell_type": "code",
   "execution_count": 490,
   "id": "edf2c550-d2f7-49e1-895f-b99686913826",
   "metadata": {},
   "outputs": [
    {
     "name": "stdout",
     "output_type": "stream",
     "text": [
      "1 1\n",
      "2 4\n",
      "3 9\n",
      "4 16\n",
      "5 25\n"
     ]
    }
   ],
   "source": [
    "#Print numbers from 1 to 5 along with their squares\n",
    "for i in range (1,6):\n",
    "    print(i,i*i)"
   ]
  },
  {
   "cell_type": "code",
   "execution_count": 491,
   "id": "371ee4b4-d6a3-41c7-8a4a-1cea69b62e99",
   "metadata": {},
   "outputs": [
    {
     "name": "stdout",
     "output_type": "stream",
     "text": [
      "a\n",
      "m\n",
      "a\n",
      "n\n"
     ]
    }
   ],
   "source": [
    "# Print each letter of a string\n",
    "name=\"aman\"\n",
    "for letter in name:\n",
    "    print(letter)"
   ]
  },
  {
   "cell_type": "code",
   "execution_count": 492,
   "id": "6465de2d-f066-4ba1-a9df-c860b9dd24a8",
   "metadata": {},
   "outputs": [
    {
     "name": "stdout",
     "output_type": "stream",
     "text": [
      "3\n",
      "6\n",
      "9\n",
      "12\n",
      "15\n",
      "18\n",
      "21\n",
      "24\n",
      "27\n",
      "30\n"
     ]
    }
   ],
   "source": [
    "# Print numbers divisible by 3 from 1 to 30\n",
    "for i in range(1,31):\n",
    "    if i%3==0:\n",
    "        print(i)"
   ]
  },
  {
   "cell_type": "code",
   "execution_count": 494,
   "id": "126e4b0d-6ebb-412a-8971-7c4f09ada9a3",
   "metadata": {},
   "outputs": [
    {
     "name": "stdin",
     "output_type": "stream",
     "text": [
      "enter a number 11\n"
     ]
    },
    {
     "name": "stdout",
     "output_type": "stream",
     "text": [
      "11,22,33,44,55,66,77,88,99,110,"
     ]
    }
   ],
   "source": [
    "# Print multiplication table of any number given by user\n",
    "number=int(input(\"enter a number\"))\n",
    "for i in range(1,11):\n",
    "    print(i*number,end=\",\")"
   ]
  },
  {
   "cell_type": "code",
   "execution_count": 496,
   "id": "849a66c5-0f2d-4862-8396-13bd14b199fd",
   "metadata": {},
   "outputs": [
    {
     "name": "stdout",
     "output_type": "stream",
     "text": [
      "20,18,16,14,12,10,8,6,4,2,0,-2,-4,"
     ]
    }
   ],
   "source": [
    "n=20\n",
    "for i in range (n,-5,-2):\n",
    "    print(i,end=\",\")"
   ]
  },
  {
   "cell_type": "code",
   "execution_count": 513,
   "id": "5d74ff2c-c73c-4694-b265-d8972b97c2cd",
   "metadata": {},
   "outputs": [
    {
     "name": "stdout",
     "output_type": "stream",
     "text": [
      "1 is odd\n",
      "2 is even\n",
      "3 is odd\n",
      "4 is even\n",
      "5 is odd\n",
      "6 is even\n",
      "7 is odd\n",
      "8 is even\n",
      "9 is odd\n",
      "10 is even\n",
      "11 is odd\n",
      "12 is even\n",
      "13 is odd\n",
      "14 is even\n",
      "15 is odd\n",
      "16 is even\n",
      "17 is odd\n",
      "18 is even\n",
      "19 is odd\n",
      "20 is even\n"
     ]
    }
   ],
   "source": [
    "#wap to check from1-20 which are evena and which are odd\n",
    "for i in range(1,21,):\n",
    "    if i%2==0:\n",
    "        print(i,\"is even\")\n",
    "    else:\n",
    "        print(i,\"is odd\")\n"
   ]
  },
  {
   "cell_type": "code",
   "execution_count": 543,
   "id": "bde9faed-84bb-4fa1-934d-81d5544c058f",
   "metadata": {},
   "outputs": [
    {
     "name": "stdin",
     "output_type": "stream",
     "text": [
      "enter a number 10\n"
     ]
    },
    {
     "name": "stdout",
     "output_type": "stream",
     "text": [
      "1\n",
      "3\n",
      "6\n",
      "10\n",
      "15\n",
      "21\n",
      "28\n",
      "36\n",
      "45\n",
      "55\n"
     ]
    }
   ],
   "source": [
    "#wap for sum of first n natural number\n",
    "num=int(input(\"enter a number\"))\n",
    "sum = 0\n",
    "for i in range(1,num+1):\n",
    "    sum=sum+i\n",
    "    print(sum)"
   ]
  },
  {
   "cell_type": "code",
   "execution_count": 552,
   "id": "19e57b3e-66ad-4067-ae19-01e613fd40a4",
   "metadata": {},
   "outputs": [
    {
     "name": "stdin",
     "output_type": "stream",
     "text": [
      "enter a number 700\n"
     ]
    },
    {
     "name": "stdout",
     "output_type": "stream",
     "text": [
      "350\n"
     ]
    }
   ],
   "source": [
    "\n",
    "n=int(input(\"enter a number\"))\n",
    "count=0\n",
    "for i in range (1,n+1):\n",
    "    if i%2==0:\n",
    "        count=count+1\n",
    "print(count)\n",
    "      "
   ]
  },
  {
   "cell_type": "code",
   "execution_count": 557,
   "id": "3877c068-fa64-458e-b4d8-82ba6292cc8a",
   "metadata": {},
   "outputs": [
    {
     "name": "stdout",
     "output_type": "stream",
     "text": [
      "9\n"
     ]
    }
   ],
   "source": [
    "# same question on above but on list\n",
    "a=[1,2,3,4,5,6,7,8,9,11,12,13,14,15,16,17,18,19,20]\n",
    "count=0\n",
    "for i in (a):\n",
    "    if i%2==0:\n",
    "        count +=1\n",
    "print(count)\n"
   ]
  },
  {
   "cell_type": "code",
   "execution_count": 561,
   "id": "56d8adb0-7d24-4dc3-bee7-95a37da29597",
   "metadata": {},
   "outputs": [
    {
     "name": "stdout",
     "output_type": "stream",
     "text": [
      "11\n"
     ]
    }
   ],
   "source": [
    "#Count how many numbers are greater than 10\n",
    "a=[1,2,3,4,5,6,7,8,9,10,11,12,13,141,51,544,5,784,974,87454,8754,7974,7,]\n",
    "count=0\n",
    "for i in (a):\n",
    "    if i>10:\n",
    "        count +=1\n",
    "print(count)\n",
    "    "
   ]
  },
  {
   "cell_type": "code",
   "execution_count": 72,
   "id": "13ea72b4-ef52-421f-adcb-c0097ec8c3df",
   "metadata": {},
   "outputs": [
    {
     "name": "stdout",
     "output_type": "stream",
     "text": [
      "[2, 4, 6, 8, 10, 12, 544, 784, 974, 87454, 8754, 7974]\n"
     ]
    }
   ],
   "source": [
    "#Create a new list with only even numbers(doubt)\n",
    "a=[1,2,3,4,5,6,7,8,9,10,11,12,13,141,51,544,5,784,974,87454,8754,7974,7,]\n",
    "even=[]\n",
    "for i in a:\n",
    "    if i%2==0:\n",
    "        even.append(i) \n",
    "print(even)"
   ]
  },
  {
   "cell_type": "code",
   "execution_count": 5,
   "id": "d1439ef4-ce25-406d-9eb0-d6c41c42774e",
   "metadata": {},
   "outputs": [
    {
     "name": "stdout",
     "output_type": "stream",
     "text": [
      "2\n"
     ]
    }
   ],
   "source": [
    "#Count how many strings are longer than 3 letters\n",
    "a=['sun','heat','car','hot','land','hi']\n",
    "count=0\n",
    "for words in a:\n",
    "    if len(words)>3:\n",
    "        count += 1\n",
    "print(count)"
   ]
  },
  {
   "cell_type": "code",
   "execution_count": 74,
   "id": "f84a2928-3a68-44ce-a04b-fa304b2bb77a",
   "metadata": {},
   "outputs": [
    {
     "name": "stdout",
     "output_type": "stream",
     "text": [
      "[2, 50, 72, 110, 128, 1690, 1702, 16902, 168, 128, 162]\n"
     ]
    }
   ],
   "source": [
    "#Create a new list of squares of numbers\n",
    "a=[1,25,36,55,64,845,851,8451,84,64,81]\n",
    "square = []\n",
    "for i in a:\n",
    "    square.append(i*2)\n",
    "print(square)"
   ]
  },
  {
   "cell_type": "code",
   "execution_count": 14,
   "id": "bd28f0b0-3d01-48d5-a3f7-c6fa3a2636c4",
   "metadata": {},
   "outputs": [
    {
     "name": "stdout",
     "output_type": "stream",
     "text": [
      "7\n"
     ]
    }
   ],
   "source": [
    "#Count how many numbers are divisible by 5\n",
    "a=[10,15,18,20,35,30,64,97,65,24,77,88,99,44,99,56,55]\n",
    "count=0\n",
    "for i in a:\n",
    "    if i%5==0:\n",
    "        count +=1\n",
    "print(count)"
   ]
  },
  {
   "cell_type": "code",
   "execution_count": 16,
   "id": "c91ba4cf-79fa-460b-ab96-1029f2527353",
   "metadata": {},
   "outputs": [
    {
     "name": "stdout",
     "output_type": "stream",
     "text": [
      "a\n",
      "a\n"
     ]
    }
   ],
   "source": [
    "#Print each vowel in a string\n",
    "text=\"alpha\"\n",
    "for ch in text:\n",
    "    if ch in 'aeiou':\n",
    "        print(ch)"
   ]
  },
  {
   "cell_type": "code",
   "execution_count": 32,
   "id": "6f225792-1183-4705-9949-a14bf2a5b601",
   "metadata": {},
   "outputs": [
    {
     "name": "stdout",
     "output_type": "stream",
     "text": [
      "apple\n",
      "air\n"
     ]
    }
   ],
   "source": [
    "#Print names that start with 'a'\n",
    "a=['sun','heat','car','hot','land','hi','apple','air']\n",
    "for i in a:\n",
    "    if i[0]==\"a\":\n",
    "        print(i)"
   ]
  },
  {
   "cell_type": "code",
   "execution_count": 39,
   "id": "0d9e87bf-697d-414f-95c5-67d98faf9fa2",
   "metadata": {},
   "outputs": [
    {
     "name": "stdout",
     "output_type": "stream",
     "text": [
      "4\n"
     ]
    }
   ],
   "source": [
    "#Count how many vowels are in the string \"python programming\" using a for loop.\n",
    "a=\"python programming\"\n",
    "count=0\n",
    "for i in a:\n",
    "    if i in 'aeiou':\n",
    "        count += 1\n",
    "print(count)"
   ]
  },
  {
   "cell_type": "code",
   "execution_count": 40,
   "id": "9a05db82-e2d1-45df-9202-23758bfed6e2",
   "metadata": {},
   "outputs": [
    {
     "name": "stdout",
     "output_type": "stream",
     "text": [
      "3\n",
      "6\n",
      "9\n",
      "12\n",
      "18\n",
      "21\n",
      "24\n",
      "27\n",
      "33\n",
      "36\n",
      "39\n",
      "42\n",
      "48\n"
     ]
    }
   ],
   "source": [
    "#Print all numbers divisible by 3 but not by 5 from 1 to 50\n",
    "for i in range(1,51):\n",
    "    if i%3==0 and i%5!=0:\n",
    "        print(i)"
   ]
  },
  {
   "cell_type": "code",
   "execution_count": 58,
   "id": "b647aa01-a197-46b9-92b0-897831da0bfe",
   "metadata": {},
   "outputs": [
    {
     "name": "stdout",
     "output_type": "stream",
     "text": [
      "Amaan\n",
      "Raj\n"
     ]
    }
   ],
   "source": [
    " #From a dictionary of marks, print only the names of students who scored above 75\n",
    "Dictionary= {\"Amaan\": 90, \"Tina\": 60, \"Raj\": 78, \"Ali\": 50}\n",
    "for i in Dictionary:\n",
    "    if Dictionary[i]>75:\n",
    "        print(i)"
   ]
  },
  {
   "cell_type": "code",
   "execution_count": 60,
   "id": "f7c6feb6-6624-4bd6-981a-124b2de7c9e9",
   "metadata": {},
   "outputs": [
    {
     "name": "stdout",
     "output_type": "stream",
     "text": [
      "7650\n"
     ]
    }
   ],
   "source": [
    "# Find the sum of all even numbers from 100 to 200 using range()\n",
    "sum=0\n",
    "for i in range(100,201):\n",
    "    if i%2==0:\n",
    "        sum += i\n",
    "print(sum)\n",
    "    "
   ]
  },
  {
   "cell_type": "code",
   "execution_count": 87,
   "id": "a4479ad2-5ffb-4640-9038-3af082fae2f8",
   "metadata": {},
   "outputs": [
    {
     "name": "stdin",
     "output_type": "stream",
     "text": [
      "enter a number 10\n"
     ]
    },
    {
     "name": "stdout",
     "output_type": "stream",
     "text": [
      "sum of even is 30\n",
      "sum of odd is 25\n",
      "count of even is 5\n",
      "count of odd is 5\n"
     ]
    }
   ],
   "source": [
    "#wap to print the sum and count of first n even and odd number \n",
    "a=int(input(\"enter a number\"))\n",
    "sum_of_even=0\n",
    "sum_of_odd=0\n",
    "count_of_even=0\n",
    "count_of_odd=0\n",
    "for i in range (1,a+1):\n",
    "    if i%2==0:\n",
    "        sum_of_even = sum_of_even+i\n",
    "        count_of_even +=1\n",
    "    else:\n",
    "        sum_of_odd=sum_of_odd+i\n",
    "        count_of_odd +=1\n",
    "print(\"sum of even is\",sum_of_even)\n",
    "print(\"sum of odd is\",sum_of_odd)\n",
    "print(\"count of even is\",count_of_even)\n",
    "print(\"count of odd is\",count_of_odd)\n",
    "            \n",
    "\n",
    "\n"
   ]
  },
  {
   "cell_type": "code",
   "execution_count": 93,
   "id": "5dd13dcd-abfc-46be-9427-a4edc4df7450",
   "metadata": {},
   "outputs": [
    {
     "name": "stdin",
     "output_type": "stream",
     "text": [
      "enter a number 5\n"
     ]
    },
    {
     "name": "stdout",
     "output_type": "stream",
     "text": [
      "120\n"
     ]
    }
   ],
   "source": [
    "#factorail \n",
    "a=int(input(\"enter a number\"))\n",
    "factorial = 1\n",
    "for i in range (1,a+1):\n",
    "    factorial *=i\n",
    "print(factorial)\n",
    "    "
   ]
  },
  {
   "cell_type": "code",
   "execution_count": null,
   "id": "35d325b7-32d6-48b2-85ce-b66be8c35ce3",
   "metadata": {},
   "outputs": [
    {
     "name": "stdin",
     "output_type": "stream",
     "text": [
      "enter a number 59416521588791584\n"
     ]
    }
   ],
   "source": [
    "a=int(input(\"enter a number\"))\n",
    "factorial=1\n",
    "for i in range(1,a+1):\n",
    "    factorial *=i\n",
    "print(factorial)"
   ]
  },
  {
   "cell_type": "code",
   "execution_count": null,
   "id": "a6110d18-8f4c-4884-a0f8-25a563343443",
   "metadata": {},
   "outputs": [],
   "source": [
    "#fibonachi series\n",
    "a=0\n",
    "b=1\n",
    "n=int(input(\"enter a number\"))\n",
    "print(a,b,end=\" \")\n",
    "for i in range (2,n):\n",
    "    c=a+b\n",
    "    print(c,end=\" \")\n",
    "    a=b\n",
    "    b=c\n"
   ]
  },
  {
   "cell_type": "code",
   "execution_count": 133,
   "id": "97c1c467-f1c3-4e88-805d-e0c87afe6c44",
   "metadata": {},
   "outputs": [
    {
     "name": "stdout",
     "output_type": "stream",
     "text": [
      "2\n"
     ]
    }
   ],
   "source": [
    "#Python program to count the total number of digits in a number.\n",
    "num=12\n",
    "int_num=str(num)\n",
    "count=0\n",
    "for i in int_num:\n",
    "    count +=1\n",
    "print(count)"
   ]
  },
  {
   "cell_type": "code",
   "execution_count": 191,
   "id": "8ecc77de-8d55-4f90-be37-12714bc9e4c3",
   "metadata": {},
   "outputs": [
    {
     "name": "stdin",
     "output_type": "stream",
     "text": [
      "enter something 123tanish\n"
     ]
    },
    {
     "name": "stdout",
     "output_type": "stream",
     "text": [
      "3\n",
      "6\n"
     ]
    }
   ],
   "source": [
    "#Python program that accepts a string and calculates the number of digits and letters.\n",
    "a=input(\"enter something\")\n",
    "count_digit=0\n",
    "count_letters=0\n",
    "for i in a:\n",
    "    if i.isdigit():\n",
    "        count_digit +=1\n",
    "    else:\n",
    "        count_letters +=1\n",
    "print(count_digit)\n",
    "print(count_letters)"
   ]
  },
  {
   "cell_type": "code",
   "execution_count": 194,
   "id": "c71e018a-6043-46c0-9508-466f489ace4b",
   "metadata": {},
   "outputs": [
    {
     "name": "stdout",
     "output_type": "stream",
     "text": [
      "3\n"
     ]
    }
   ],
   "source": [
    "#wap to count the vowels in a given string \"hello world\"\n",
    "a=\"hello world\"\n",
    "count=0\n",
    "for i in a:\n",
    "    if i in 'aeiou':\n",
    "        count +=1\n",
    "print(count)"
   ]
  },
  {
   "cell_type": "code",
   "execution_count": 198,
   "id": "82585def-bfc3-4c14-9a2d-3990ce8d06a2",
   "metadata": {},
   "outputs": [
    {
     "name": "stdin",
     "output_type": "stream",
     "text": [
      "enter something aryan@123\n"
     ]
    },
    {
     "name": "stdout",
     "output_type": "stream",
     "text": [
      "count of digit is 3\n",
      "count of alpha is 5\n",
      "count of special is 1\n"
     ]
    }
   ],
   "source": [
    "#wap to count no of digit,alphabet and special character\n",
    "a=input(\"enter something\")\n",
    "count_digit=0\n",
    "count_alpha=0\n",
    "count_special=0\n",
    "for i in a:\n",
    "    if i.isdigit():\n",
    "        count_digit +=1\n",
    "    elif i.isalpha():\n",
    "        count_alpha +=1\n",
    "    else:\n",
    "        count_special +=1\n",
    "print(\"count of digit is\",count_digit)\n",
    "print(\"count of alpha is\",count_alpha)\n",
    "print(\"count of special is\",count_special)\n"
   ]
  },
  {
   "cell_type": "code",
   "execution_count": 261,
   "id": "20d53b0f-9bca-4cef-93df-b4633c77c7e3",
   "metadata": {},
   "outputs": [
    {
     "name": "stdout",
     "output_type": "stream",
     "text": [
      "count of vowel is 6\n",
      "count of consonant is 8\n",
      "count of special is 6\n"
     ]
    }
   ],
   "source": [
    "#wap to count special character vowel and consonant\n",
    "a=\"welcome to a city@#$\"\n",
    "vowels = \"aeiouAEIOU\"\n",
    "s_ch = \"@#$%^&* \"\n",
    "count_special=0\n",
    "count_vowel=0\n",
    "count_consonant=0\n",
    "for i in a:\n",
    "    if i in vowels:\n",
    "        count_vowel +=1\n",
    "    elif i in s_ch:\n",
    "        count_special +=1\n",
    "    else:\n",
    "        count_consonant +=1\n",
    "print(\"count of vowel is\",count_vowel)\n",
    "print(\"count of consonant is\",count_consonant)\n",
    "print(\"count of special is\",count_special)"
   ]
  },
  {
   "cell_type": "code",
   "execution_count": null,
   "id": "b5acc009-eeb9-4ff7-b843-267d87d1f39d",
   "metadata": {},
   "outputs": [],
   "source": [
    " #prime number (range is from 2,n as if n+1 then almost every element would divide ut by it self ex if 7 and n+1 goes to 7 so 7/7=1)\n",
    "n=int(input(\"enter a number\"))\n",
    "if n==0 or n==1:\n",
    "    print(\"not a prime number\")\n",
    "elif n>1:\n",
    "    for i in range(2,n):\n",
    "        if n%i==0:\n",
    "            print(n,\"not a prime number\")\n",
    "            break\n",
    "    else:\n",
    "            print(n,\"prime number\")\n",
    "else:\n",
    "    print(n,\"not a prime number\")"
   ]
  },
  {
   "cell_type": "code",
   "execution_count": 246,
   "id": "b617d5de-3fef-45bd-bd63-efb9a28579a2",
   "metadata": {},
   "outputs": [
    {
     "name": "stdout",
     "output_type": "stream",
     "text": [
      "5\n"
     ]
    }
   ],
   "source": [
    "#Count How Many Times a Digit Appears in a Number\n",
    "a=33453339\n",
    "count=0\n",
    "for i in str(a):\n",
    "    if i=='3':\n",
    "        count +=1\n",
    "print(count)"
   ]
  },
  {
   "cell_type": "code",
   "execution_count": 247,
   "id": "3b54fcf6-f89b-4fce-a49f-06e3951dbf76",
   "metadata": {},
   "outputs": [
    {
     "name": "stdout",
     "output_type": "stream",
     "text": [
      "[2, 4, 5, 6, 7]\n"
     ]
    }
   ],
   "source": [
    "# Remove Duplicates from a List (without using set)\n",
    "numbers = [2, 4, 5, 2, 4, 6, 7, 5]\n",
    "unique=[]\n",
    "for i in numbers:\n",
    "    if i not in unique:\n",
    "        unique.append(i)\n",
    "print(unique)"
   ]
  },
  {
   "cell_type": "code",
   "execution_count": null,
   "id": "b85ed062-7282-4bbe-89dd-861e738faa71",
   "metadata": {},
   "outputs": [],
   "source": [
    "# i always tells us about the movement \n",
    "#j always tells us about will always print and always change in j for all kind of question"
   ]
  },
  {
   "cell_type": "code",
   "execution_count": 302,
   "id": "8546f0f9-fed9-4dce-8032-ab39e8bae590",
   "metadata": {},
   "outputs": [
    {
     "name": "stdout",
     "output_type": "stream",
     "text": [
      "* * * * * \n",
      "* * * * * \n",
      "* * * * * \n",
      "* * * * * \n",
      "* * * * * \n"
     ]
    }
   ],
   "source": [
    "#square\n",
    "n=5\n",
    "for i in range(n):\n",
    "    for j in range(n):\n",
    "        print(\"*\",end=\" \")\n",
    "    print()"
   ]
  },
  {
   "cell_type": "code",
   "execution_count": 271,
   "id": "2c80654c-e714-4925-bbf2-10cd06e1d9b2",
   "metadata": {},
   "outputs": [
    {
     "name": "stdout",
     "output_type": "stream",
     "text": [
      "* \n",
      "* * \n",
      "* * * \n",
      "* * * * \n",
      "* * * * * \n"
     ]
    }
   ],
   "source": [
    "#right angle triangle\n",
    "n=5\n",
    "for i in range(n):\n",
    "    for j in range(i+1):\n",
    "        print(\"*\",end=\" \")\n",
    "    print()\n"
   ]
  },
  {
   "cell_type": "code",
   "execution_count": 278,
   "id": "cf2268a8-c669-47de-83ec-664f24870c92",
   "metadata": {},
   "outputs": [
    {
     "name": "stdout",
     "output_type": "stream",
     "text": [
      "* * * * * \n",
      "* * * * \n",
      "* * * \n",
      "* * \n",
      "* \n"
     ]
    }
   ],
   "source": [
    "#inverted right triangle\n",
    "#1st->5(n)-0(n)=5, 5(n)-1(i)=4\n",
    "n=5\n",
    "for i in range(n):\n",
    "    for j in range(n-i):\n",
    "        print(\"*\",end=\" \")\n",
    "    print()"
   ]
  },
  {
   "cell_type": "code",
   "execution_count": 28,
   "id": "a950cbcc-974d-46fd-b1c9-ef891cc8e361",
   "metadata": {},
   "outputs": [
    {
     "name": "stdout",
     "output_type": "stream",
     "text": [
      "        * \n",
      "      * * \n",
      "    * * * \n",
      "  * * * * \n",
      "* * * * * \n"
     ]
    }
   ],
   "source": [
    "#left angle triangle\n",
    "n=5\n",
    "for i in range(n):\n",
    "    for j in range(n-i-1):\n",
    "        print(\" \",end=\" \")\n",
    "    for j in range(i+1):\n",
    "            print(\"*\",end=\" \")\n",
    "    print()"
   ]
  },
  {
   "cell_type": "code",
   "execution_count": 422,
   "id": "9b410cc4-85cf-44e9-a3e1-af5a895da75e",
   "metadata": {},
   "outputs": [
    {
     "name": "stdout",
     "output_type": "stream",
     "text": [
      "* * * * * \n",
      "  * * * * \n",
      "    * * * \n",
      "      * * \n",
      "        * \n"
     ]
    }
   ],
   "source": [
    "#inverted left angle trianle \n",
    "n=5\n",
    "for i in range(n):\n",
    "    for j in range(i):\n",
    "        print(\" \",end=\" \")\n",
    "    for j in range(n-i):\n",
    "          print(\"*\",end=\" \")\n",
    "    print()\n",
    "      "
   ]
  },
  {
   "cell_type": "code",
   "execution_count": 314,
   "id": "cac7693a-25ef-4db6-8a90-b5f73d0203ef",
   "metadata": {},
   "outputs": [
    {
     "name": "stdout",
     "output_type": "stream",
     "text": [
      "1 2 3 4 5 \n",
      "1 2 3 4 5 \n",
      "1 2 3 4 5 \n",
      "1 2 3 4 5 \n",
      "1 2 3 4 5 \n"
     ]
    }
   ],
   "source": [
    "n=5\n",
    "for i in range(n):\n",
    "        for j in range(1,6):\n",
    "            print(j,end=\" \")\n",
    "        print()"
   ]
  },
  {
   "cell_type": "code",
   "execution_count": 358,
   "id": "4581d76f-6a32-482b-b5b8-a582544b71cd",
   "metadata": {},
   "outputs": [
    {
     "name": "stdout",
     "output_type": "stream",
     "text": [
      "1 \n",
      "1 2 \n",
      "1 2 3 \n",
      "1 2 3 4 \n",
      "1 2 3 4 5 \n"
     ]
    }
   ],
   "source": [
    " for i in range(1,6):\n",
    "    for j in range(1,i+1):\n",
    "        print(j,end=\" \")\n",
    "    print()"
   ]
  },
  {
   "cell_type": "code",
   "execution_count": 423,
   "id": "bae89e3a-911b-421d-9de4-31f5b3c4e71d",
   "metadata": {},
   "outputs": [
    {
     "name": "stdout",
     "output_type": "stream",
     "text": [
      "12345\n",
      "1234\n",
      "123\n",
      "12\n",
      "1\n"
     ]
    }
   ],
   "source": [
    "n=5\n",
    "for i in range(1,6):\n",
    "    for j in range(1,n-i+2):\n",
    "        print(j,end=\"\")\n",
    "    print()"
   ]
  },
  {
   "cell_type": "code",
   "execution_count": 349,
   "id": "0b205351-8bcb-4720-ba5e-d34879de9620",
   "metadata": {},
   "outputs": [
    {
     "name": "stdout",
     "output_type": "stream",
     "text": [
      "1 1 1 1 \n",
      "2 2 2 2 \n",
      "3 3 3 3 \n",
      "4 4 4 4 \n"
     ]
    }
   ],
   "source": [
    "n=5\n",
    "for i in range(1,5):\n",
    "    for j in range(1,n):\n",
    "        print(i,end=\" \")\n",
    "    print()"
   ]
  },
  {
   "cell_type": "code",
   "execution_count": 356,
   "id": "876fa552-8cc1-4e18-abaa-bde9bc5ff128",
   "metadata": {},
   "outputs": [
    {
     "name": "stdout",
     "output_type": "stream",
     "text": [
      "1 \n",
      "2 2 \n",
      "3 3 3 \n",
      "4 4 4 4 \n",
      "5 5 5 5 5 \n"
     ]
    }
   ],
   "source": [
    "\n",
    "for i in range(1,6):\n",
    "    for j in range(i):\n",
    "        print(i,end=\" \")\n",
    "    print()"
   ]
  },
  {
   "cell_type": "code",
   "execution_count": 366,
   "id": "d7c738ee-936f-473f-99a6-ab3cbaa1f611",
   "metadata": {},
   "outputs": [
    {
     "name": "stdout",
     "output_type": "stream",
     "text": [
      "5 \n",
      "5 4 \n",
      "5 4 3 \n",
      "5 4 3 2 \n",
      "5 4 3 2 1 \n"
     ]
    }
   ],
   "source": [
    "for i in range(1,6):\n",
    "    for j in range(5,5-i,-1):\n",
    "        print(j,end=\" \")\n",
    "    print()\n"
   ]
  },
  {
   "cell_type": "code",
   "execution_count": 37,
   "id": "4af42b15-e5a8-42ee-84b8-8d638ff104f1",
   "metadata": {},
   "outputs": [
    {
     "name": "stdout",
     "output_type": "stream",
     "text": [
      "5 4 3 2 1 \n",
      "5 4 3 2 \n",
      "5 4 3 \n",
      "5 4 \n",
      "5 \n",
      "\n",
      "\n",
      "\n"
     ]
    }
   ],
   "source": [
    "for i in range(1,6):\n",
    "    for j in range(5,i-1,-1):\n",
    "        print(j,end=\" \")\n",
    "    print()"
   ]
  },
  {
   "cell_type": "code",
   "execution_count": 51,
   "id": "421c0a8a-4b38-45ad-99f4-1bb4e2426967",
   "metadata": {},
   "outputs": [
    {
     "name": "stdout",
     "output_type": "stream",
     "text": [
      "        * \n",
      "      * * * \n",
      "    * * * * * \n",
      "  * * * * * * * \n",
      "* * * * * * * * * \n"
     ]
    }
   ],
   "source": [
    "#loop don't have as such as overlapping\n",
    "#pyramid \n",
    "n=5\n",
    "for i in range(n):\n",
    "    for j in range(n-i-1):\n",
    "        print(\" \",end=\" \")\n",
    "    for j in range(2*i+1):\n",
    "        print(\"*\",end=\" \")\n",
    "    print()"
   ]
  },
  {
   "cell_type": "code",
   "execution_count": 74,
   "id": "c9178a02-bf55-4c31-958d-8ee042f1fc35",
   "metadata": {},
   "outputs": [
    {
     "name": "stdout",
     "output_type": "stream",
     "text": [
      "* * * * * * * * * \n",
      "  * * * * * * * \n",
      "    * * * * * \n",
      "      * * * \n",
      "        * \n"
     ]
    }
   ],
   "source": [
    "#we solve this questioon in chunks\n",
    "#first for loop is for printing space \n",
    "#second for loop is for priting *\n",
    "#third for loop is for print left star as we are assuming that this inverted pyramidd is made up one inverted left angle triangle and\n",
    "#one inverted right anfle triangle so this last for loopis to print inverted right angle traiangle\n",
    "n=5\n",
    "for i in range(n):\n",
    "    for j in range(i):\n",
    "        print(\" \",end=\" \")\n",
    "    for j in range(n-i):\n",
    "        print(\"*\",end=\" \")\n",
    "    for j in range(n-i-1):\n",
    "        print(\"*\",end=\" \")\n",
    "    print()"
   ]
  },
  {
   "cell_type": "code",
   "execution_count": 30,
   "id": "9175d78c-ea76-4cde-8a54-fdef129ee689",
   "metadata": {},
   "outputs": [
    {
     "name": "stdin",
     "output_type": "stream",
     "text": [
      "enter a number 6\n"
     ]
    },
    {
     "name": "stdout",
     "output_type": "stream",
     "text": [
      "          A \n",
      "        A B C \n",
      "      A B C D E \n",
      "    A B C D E F G \n",
      "  A B C D E F G H I \n",
      "A B C D E F G H I J K \n"
     ]
    }
   ],
   "source": [
    "n=int(input(\"enter a number\"))\n",
    "for i in range(n):\n",
    "    for j in range(n-i-1):\n",
    "        print(\" \",end=\" \")\n",
    "    for j in range(2*i+1):\n",
    "        print(chr(65+j),end=\" \")\n",
    "    print()"
   ]
  },
  {
   "cell_type": "code",
   "execution_count": 69,
   "id": "92a0c648-41ba-4917-bb80-46ef3ed50853",
   "metadata": {},
   "outputs": [
    {
     "name": "stdout",
     "output_type": "stream",
     "text": [
      "        * \n",
      "      * * * \n",
      "    * * * * * \n",
      "  * * * * * * * \n",
      "* * * * * * * * * \n",
      "  * * * * * * * \n",
      "    * * * * * \n",
      "      * * * \n",
      "        * \n",
      "          \n"
     ]
    }
   ],
   "source": [
    "#for diamond we combine two programs\n",
    "#for uppar part we definr a variable then write a program for pyramid\n",
    "#for lower part we define a variable k and then write a program for inverted pyramid\n",
    "n=5\n",
    "\n",
    "for i in range(n):\n",
    "    for j in range(n-i-1):\n",
    "        print(\" \",end=\" \")\n",
    "    for j in range(2*i+1):\n",
    "        print(\"*\",end=\" \")\n",
    "    print()\n",
    "k = 5\n",
    "for i in range(k):\n",
    "    for j in range(i+1):\n",
    "        print(\" \",end=\" \")\n",
    "    for j in range(k-i-2):\n",
    "        print(\"*\",end=\" \")\n",
    "    for j in range(k-i-1):\n",
    "        print(\"*\",end=\" \")\n",
    "    print()\n",
    "    "
   ]
  },
  {
   "cell_type": "code",
   "execution_count": 74,
   "id": "c849165b-3574-413a-9a25-ae1d1c4d7e88",
   "metadata": {},
   "outputs": [
    {
     "name": "stdout",
     "output_type": "stream",
     "text": [
      "        * \n",
      "      * * * \n",
      "    * * * * * \n",
      "  * * * * * * * \n",
      "* * * * * * * * * \n",
      "  # # # $ $ $ $ \n",
      "    # # $ $ $ \n",
      "      # $ $ \n",
      "        $ \n",
      "          \n"
     ]
    }
   ],
   "source": [
    "n=5\n",
    "for i in range(n):\n",
    "    for j in range(n-i-1):\n",
    "        print(\" \",end=\" \")\n",
    "    for j in range(2*i+1):\n",
    "        print(\"*\",end=\" \")\n",
    "    print()\n",
    "k=5\n",
    "for i in range(k):\n",
    "    for j in range(i+1):\n",
    "        print(\" \",end=\" \")\n",
    "    for j in range(k-i-2):\n",
    "        print(\"#\",end=\" \")\n",
    "    for j in range(k-i-1):\n",
    "        print(\"$\",end=\" \")\n",
    "    print()"
   ]
  },
  {
   "cell_type": "code",
   "execution_count": 92,
   "id": "9d6b7cfa-8dbe-482b-b158-515b69db6f1d",
   "metadata": {},
   "outputs": [
    {
     "name": "stdout",
     "output_type": "stream",
     "text": [
      "Amit\n"
     ]
    }
   ],
   "source": [
    "# some imp methods of strings that we will use in program\n",
    "a=\"amit\"\n",
    "print(a.title())\n",
    "\n",
    "#capitalise first letter"
   ]
  },
  {
   "cell_type": "code",
   "execution_count": 93,
   "id": "a2be9fd4-9c60-44c4-a9f9-f72732d8f0c0",
   "metadata": {},
   "outputs": [
    {
     "name": "stdout",
     "output_type": "stream",
     "text": [
      "65\n",
      "D\n"
     ]
    }
   ],
   "source": [
    "print(ord(\"A\")) #it will print the ascii value of a character\n",
    "print(chr(68)) #it will print on 68th colomn what ascii value is there"
   ]
  },
  {
   "cell_type": "code",
   "execution_count": 95,
   "id": "ef8e121c-1b9a-41c0-8870-b15b5564240c",
   "metadata": {},
   "outputs": [
    {
     "data": {
      "text/plain": [
       "'Welcomr To Bhopal'"
      ]
     },
     "execution_count": 95,
     "metadata": {},
     "output_type": "execute_result"
    }
   ],
   "source": [
    "a=\"welcomr to bhopal\"\n",
    "a.title()\n",
    "#capatalise all the first word"
   ]
  },
  {
   "cell_type": "code",
   "execution_count": 97,
   "id": "58f50abf-d8cd-48f5-8571-c85ede68f8f2",
   "metadata": {},
   "outputs": [
    {
     "data": {
      "text/plain": [
       "'WELCOMR TO BHOPAL'"
      ]
     },
     "execution_count": 97,
     "metadata": {},
     "output_type": "execute_result"
    }
   ],
   "source": [
    "a=\"welcomr to bhopal\"\n",
    "a.upper()\n",
    "#capatalise complete string"
   ]
  },
  {
   "cell_type": "code",
   "execution_count": 99,
   "id": "9ff6d7cb-9cd2-4eca-a633-efa87aec9736",
   "metadata": {},
   "outputs": [
    {
     "data": {
      "text/plain": [
       "'welcomr to bhopal'"
      ]
     },
     "execution_count": 99,
     "metadata": {},
     "output_type": "execute_result"
    }
   ],
   "source": [
    "a=\"welcomr to bhopal\"\n",
    "a.lower()\n",
    "#lowers all word"
   ]
  },
  {
   "cell_type": "code",
   "execution_count": 102,
   "id": "7ce371ad-8e08-4093-9472-c47c25fe925c",
   "metadata": {},
   "outputs": [
    {
     "data": {
      "text/plain": [
       "'Welcomr to bhopal'"
      ]
     },
     "execution_count": 102,
     "metadata": {},
     "output_type": "execute_result"
    }
   ],
   "source": [
    "a=\"welcomr to bhopal\"\n",
    "a.capitalize()\n",
    "#only capital first letter of string"
   ]
  },
  {
   "cell_type": "code",
   "execution_count": 105,
   "id": "ad9aaaa7-cf60-4dab-9329-aaf28a18c301",
   "metadata": {},
   "outputs": [
    {
     "name": "stdout",
     "output_type": "stream",
     "text": [
      "False\n",
      "False\n",
      "True\n"
     ]
    }
   ],
   "source": [
    "s=\"welcome123\"\n",
    "print(s.isalpha()) #give true only when complete string contain alphabet\n",
    "print(s.isdigit()) #gives true only when complete string contain digit\n",
    "print(s.isalnum()) #checks for a string which contains both number and alphabet mixture and it will give true for all wheather digit,number and combination of both\n"
   ]
  },
  {
   "cell_type": "code",
   "execution_count": 106,
   "id": "cc019dc8-8e53-49a2-a011-4d02fa053028",
   "metadata": {},
   "outputs": [
    {
     "name": "stdout",
     "output_type": "stream",
     "text": [
      "2\n"
     ]
    }
   ],
   "source": [
    "#gives count of particular thing given in the like 'a' will give count of a in string\n",
    "a=\"aryan\"\n",
    "print(a.count('a'))\n"
   ]
  },
  {
   "cell_type": "code",
   "execution_count": 19,
   "id": "743342bc-f290-422b-8f5b-e32867c7720b",
   "metadata": {},
   "outputs": [
    {
     "name": "stdout",
     "output_type": "stream",
     "text": [
      "welcame ta bhopal\n",
      "welcometobhopal\n",
      "swagat to bhopal\n",
      "welcome to bhopal\n"
     ]
    }
   ],
   "source": [
    "s=\"welcome to bhopal\"\n",
    "print(s.replace(\"o\",\"a\",2)) #will replace o to a but as 2 is defined so will work only on 2 element we can increase or decrease that value\n",
    "print(s.replace(\" \",\"\"))\n",
    "print(s.replace(\"welcome\",\"swagat\",1))\n",
    "print(s)\n"
   ]
  },
  {
   "cell_type": "code",
   "execution_count": 109,
   "id": "b6fe61c9-547c-4857-9bf3-7be12b2e17b7",
   "metadata": {},
   "outputs": [
    {
     "name": "stdout",
     "output_type": "stream",
     "text": [
      "4\n",
      "4\n"
     ]
    }
   ],
   "source": [
    "# index will only work on ekement which is ordered but find will work on element which is not ordered\n",
    "s=\"welcome to bhopal\"\n",
    "print(s.find(\"o\"))\n",
    "print(s.index(\"o\"))\n"
   ]
  },
  {
   "cell_type": "code",
   "execution_count": 110,
   "id": "e8e6d6be-7a40-4cc7-8708-0ae19b37c141",
   "metadata": {},
   "outputs": [
    {
     "name": "stdin",
     "output_type": "stream",
     "text": [
      "enter a number 5\n"
     ]
    },
    {
     "name": "stdout",
     "output_type": "stream",
     "text": [
      "0 no of times loop runs | 1 no of times loop runs | 2 no of times loop runs | 3 no of times loop runs | 4 no of times loop runs | 5 no of times loop runs | 6 is the final value of loop\n"
     ]
    }
   ],
   "source": [
    "#while loop \n",
    "i=0\n",
    "n=int(input(\"enter a number\"))\n",
    "while i<=n:\n",
    "    print(i,\"no of times loop runs\",end=\" | \")\n",
    "    i=i+1\n",
    "print(i,\"is the final value of loop\")"
   ]
  },
  {
   "cell_type": "code",
   "execution_count": 4,
   "id": "221d1ec4-f366-4a20-8299-dc9eb28d6e6c",
   "metadata": {},
   "outputs": [
    {
     "name": "stdout",
     "output_type": "stream",
     "text": [
      "45\n"
     ]
    }
   ],
   "source": [
    "i=0\n",
    "sum=0\n",
    "while i<10:\n",
    "    sum=sum+i\n",
    "    i=i+1\n",
    "print(sum)"
   ]
  },
  {
   "cell_type": "code",
   "execution_count": 11,
   "id": "a7e8d64f-702d-4d6a-9614-ba72ab3aea6e",
   "metadata": {},
   "outputs": [
    {
     "name": "stdout",
     "output_type": "stream",
     "text": [
      "10\n",
      "9\n",
      "8\n",
      "7\n",
      "6\n",
      "5\n",
      "4\n",
      "3\n",
      "2\n",
      "1\n"
     ]
    }
   ],
   "source": [
    "#reverse\n",
    "num=10\n",
    "while num>=1:\n",
    "    print(num)\n",
    "    num -=1"
   ]
  },
  {
   "cell_type": "code",
   "execution_count": null,
   "id": "1ad6c73e-8ded-4185-8d38-e30eb0764373",
   "metadata": {},
   "outputs": [],
   "source": [
    "n=int(input(\"enter a number\"))\n",
    "while n>0:\n",
    "    print(i)\n",
    "    n -=1"
   ]
  },
  {
   "cell_type": "code",
   "execution_count": 17,
   "id": "528053eb-9b03-414b-8735-722244c0e4bb",
   "metadata": {},
   "outputs": [
    {
     "name": "stdout",
     "output_type": "stream",
     "text": [
      "120\n"
     ]
    }
   ],
   "source": [
    "#factorial\n",
    "num=5\n",
    "factorial=1\n",
    "while num>0:\n",
    "    factorial *=num\n",
    "    num -=1\n",
    "print(factorial)"
   ]
  },
  {
   "cell_type": "code",
   "execution_count": 17,
   "id": "5b5630eb-fe42-497a-a575-885e42146cef",
   "metadata": {},
   "outputs": [
    {
     "name": "stdout",
     "output_type": "stream",
     "text": [
      "789576567998766\n"
     ]
    }
   ],
   "source": [
    "#fetching max from a given list whose initially the first value is max\n",
    "a=[10, 20, 30, 50, 60, 789576567998766,203,4978]\n",
    "max_element=a[0]\n",
    "for i in a:\n",
    "    if i>max_element:\n",
    "        max_element=i\n",
    "print(max_element)\n",
    "\n",
    " "
   ]
  },
  {
   "cell_type": "code",
   "execution_count": 20,
   "id": "59ecada1-183e-4339-8e8c-c38b53692947",
   "metadata": {},
   "outputs": [
    {
     "name": "stdout",
     "output_type": "stream",
     "text": [
      "10\n"
     ]
    }
   ],
   "source": [
    "#min\n",
    "a=[67,10, 20, 30, 50, 60, 789576567998766,203,4978]\n",
    "min_element=a[0]\n",
    "for i in a:\n",
    "    if i<min_element:\n",
    "        min_element=i\n",
    "print(min_element)"
   ]
  },
  {
   "cell_type": "code",
   "execution_count": 15,
   "id": "f51c1c76-3ed1-4cbd-b11b-1c194f2860d8",
   "metadata": {},
   "outputs": [
    {
     "name": "stdout",
     "output_type": "stream",
     "text": [
      "87730729778242.67\n"
     ]
    }
   ],
   "source": [
    "#average\n",
    "a=[67,10, 20, 30, 50, 60, 789576567998766,203,4978]\n",
    "sum=0\n",
    "length=len(a)\n",
    "for i in a:\n",
    "    sum +=i\n",
    "    average=sum/length\n",
    "print(average)"
   ]
  },
  {
   "cell_type": "code",
   "execution_count": 15,
   "id": "715e986f-654d-46f3-9c20-467c18a7a06b",
   "metadata": {},
   "outputs": [
    {
     "name": "stdout",
     "output_type": "stream",
     "text": [
      "2\n"
     ]
    }
   ],
   "source": [
    "#wap to count no of string from a given list of string.the string length is more than 2 or more and first and last character are same\n",
    "#expected result = 2\n",
    "l=['abc','xyz','aba','1221']\n",
    "length=len(l)\n",
    "count=0\n",
    "for i in l:\n",
    "    if length>2:\n",
    "        if i[0]==i[-1]:\n",
    "            count +=1\n",
    "print(count)"
   ]
  },
  {
   "cell_type": "code",
   "execution_count": 7,
   "id": "0ddfb76a-b09e-42b4-ac79-a896be5668b2",
   "metadata": {},
   "outputs": [
    {
     "name": "stdout",
     "output_type": "stream",
     "text": [
      "[1, 19, 100, 200]\n"
     ]
    }
   ],
   "source": [
    "#pogram for ascending\n",
    "l=[100,1,200,19]\n",
    "for i in range(len(l)):\n",
    "    for j in range(i+1,len(l)):\n",
    "        if l[i]>l[j]:\n",
    "            l[i],l[j]=l[j],l[i]           \n",
    "print(l)"
   ]
  },
  {
   "cell_type": "code",
   "execution_count": 8,
   "id": "3bd35969-ba06-495e-a635-5769d905e8d8",
   "metadata": {},
   "outputs": [
    {
     "name": "stdout",
     "output_type": "stream",
     "text": [
      "[200, 100, 19, 1]\n"
     ]
    }
   ],
   "source": [
    "#PROGRAM FOR DECENDING\n",
    "l=[100,1,200,19]\n",
    "for i in range(len(l)):\n",
    "    for j in range(i+1,len(l)):\n",
    "        if l[i]<l[j]:\n",
    "            l[i],l[j]=l[j],l[i]\n",
    "print(l)"
   ]
  },
  {
   "cell_type": "code",
   "execution_count": 4,
   "id": "29a48132-cb0e-4648-aac2-60fd34d98b1f",
   "metadata": {},
   "outputs": [
    {
     "name": "stdout",
     "output_type": "stream",
     "text": [
      "{'red': 2, 'yellow': 1, 'green': 1}\n"
     ]
    }
   ],
   "source": [
    "a=[\"red\",'yellow','green','red']\n",
    "d={}\n",
    "for i in a:\n",
    "    if i in d:\n",
    "        d[i] +=1\n",
    "    else:\n",
    "        d[i]=1\n",
    "print(d)"
   ]
  },
  {
   "cell_type": "code",
   "execution_count": 28,
   "id": "ce12144c-b958-4d12-9a45-b5d2eee68cdc",
   "metadata": {},
   "outputs": [
    {
     "name": "stdout",
     "output_type": "stream",
     "text": [
      "{'A': 0, 'B': 1, 'C': 4, 'D': 9, 'E': 16, 'F': 25}\n"
     ]
    }
   ],
   "source": [
    "l=[0,1,2,3,4,5]\n",
    "d={}\n",
    "for i in l:\n",
    "    d[chr(65+i)]=i*i\n",
    "print(d)\n",
    "        "
   ]
  },
  {
   "cell_type": "code",
   "execution_count": 2,
   "id": "d37f4aa1-f4c2-4295-be62-f1baf257c3d4",
   "metadata": {},
   "outputs": [
    {
     "name": "stdout",
     "output_type": "stream",
     "text": [
      "<class 'int'>\n",
      "<class 'tuple'>\n"
     ]
    }
   ],
   "source": [
    "#doubt\n",
    "t = (1)\n",
    "print(type(t))\n",
    "t2 = (1,)\n",
    "print(type(t2))"
   ]
  },
  {
   "cell_type": "code",
   "execution_count": 7,
   "id": "6a6b9ff1-5416-4f52-9266-ff2ce28d963e",
   "metadata": {},
   "outputs": [
    {
     "name": "stdout",
     "output_type": "stream",
     "text": [
      "5\n",
      "5\n",
      "0\n",
      "0\n"
     ]
    }
   ],
   "source": [
    "print(0 or 5)\n",
    "print(5 or 0)\n",
    "print(0 and 5)\n",
    "print(5 and 0)"
   ]
  },
  {
   "cell_type": "code",
   "execution_count": null,
   "id": "a85b4755-c91e-46a5-8687-0242d2e317aa",
   "metadata": {},
   "outputs": [],
   "source": [
    "why are strings immutable in nature?\n",
    "once created string cannot ne changed.any modification create a new string."
   ]
  },
  {
   "cell_type": "code",
   "execution_count": null,
   "id": "125dba10-d37f-40d1-b870-fe2a863f73d5",
   "metadata": {},
   "outputs": [],
   "source": [
    "str1 = \"Hello\"\n",
    "str2 = \"Hello\"\n",
    "print(str1 is str2)\n",
    "Answer: The output will be True.\n",
    "Explanation: Python has a feature called \"string interning\" for short, common strings. To save memory and improve performance, \n",
    "the interpreter will often create a single copy of identical string literals at startup. In this case, str1 and str2 will both point to \n",
    "the same memory location, making the is check return True. However, be aware that this is an implementation detail and not guaranteed \n",
    "for all strings. The is operator is generally not reliable for value comparisons."
   ]
  },
  {
   "cell_type": "code",
   "execution_count": 6,
   "id": "8b97e160-b175-41a9-9335-d49c32503146",
   "metadata": {},
   "outputs": [
    {
     "name": "stdout",
     "output_type": "stream",
     "text": [
      "False\n",
      "True\n",
      "False\n",
      "False\n"
     ]
    }
   ],
   "source": [
    "x = 10\n",
    "y = \"10\"\n",
    "z = 10.0\n",
    "print(x == y)\n",
    "print(x == z) #doubt\n",
    "print(x is y)\n",
    "print(x is z)\n",
    "'''x == z is True because Python performs type coercion for numerical comparisons. The integer 10 is treated as a float 10.0 for the \n",
    "comparison, so they are considered equal in value.'''"
   ]
  },
  {
   "cell_type": "code",
   "execution_count": 10,
   "id": "b4f03ee9-f899-410e-8eb6-b7012f282211",
   "metadata": {},
   "outputs": [
    {
     "data": {
      "text/plain": [
       "20"
      ]
     },
     "execution_count": 10,
     "metadata": {},
     "output_type": "execute_result"
    }
   ],
   "source": [
    "# functions \n",
    "# use in error handling\n",
    "# type 1- with argument with return type\n",
    "def max_2(a,b):\n",
    "    if a>b:\n",
    "        return a\n",
    "    else:\n",
    "        return b\n",
    "max_2(10,20)"
   ]
  },
  {
   "cell_type": "code",
   "execution_count": 11,
   "id": "b8af5387-ba23-4836-900f-6b79b8bb7cd8",
   "metadata": {},
   "outputs": [
    {
     "data": {
      "text/plain": [
       "30"
      ]
     },
     "execution_count": 11,
     "metadata": {},
     "output_type": "execute_result"
    }
   ],
   "source": [
    "def max_3(a,b,c):\n",
    "    if a>b and a>c:\n",
    "        return a\n",
    "    elif b>a and b>c:\n",
    "        return b\n",
    "    else:\n",
    "        return c\n",
    "max_3(10,20,30)"
   ]
  },
  {
   "cell_type": "code",
   "execution_count": 49,
   "id": "b6e76879-2305-4859-9498-710f2a8db042",
   "metadata": {},
   "outputs": [
    {
     "name": "stdout",
     "output_type": "stream",
     "text": [
      "9 not a prime number\n"
     ]
    }
   ],
   "source": [
    "#type 2  with argument without return type\n",
    "def prime(a):\n",
    "    if a==0 or a==1:\n",
    "        print(\"not a prime\")\n",
    "    elif a>1:\n",
    "        for i in range(2,a):\n",
    "            if a%i==0:\n",
    "                print(a,\"not a prime number\")\n",
    "                break\n",
    "        else:\n",
    "            print(a,\"prime number\")\n",
    "    else:\n",
    "        print(a,\"not a prime number\")\n",
    "prime(9)\n"
   ]
  },
  {
   "cell_type": "code",
   "execution_count": 61,
   "id": "602c528b-d510-49cb-a1be-e35f6e35e43b",
   "metadata": {},
   "outputs": [
    {
     "name": "stdin",
     "output_type": "stream",
     "text": [
      "enter a number 5\n"
     ]
    },
    {
     "name": "stdout",
     "output_type": "stream",
     "text": [
      "0 1 1 2 3 "
     ]
    }
   ],
   "source": [
    "# type 3 without argument without return type\n",
    "def fibo():\n",
    "    a=0\n",
    "    b=1\n",
    "    n=int(input(\"enter a number\"))\n",
    "    print(a,b,end=' ')\n",
    "    for i in range(2,n):\n",
    "        c=a+b\n",
    "        print(c,end=\" \")\n",
    "        a=b\n",
    "        b=c\n",
    "fibo()        "
   ]
  },
  {
   "cell_type": "code",
   "execution_count": 55,
   "id": "06d00c8c-14c6-4b59-8e3a-a8ca19482e8c",
   "metadata": {},
   "outputs": [
    {
     "name": "stdin",
     "output_type": "stream",
     "text": [
      "enter a number 5\n"
     ]
    },
    {
     "name": "stdout",
     "output_type": "stream",
     "text": [
      "0 1 1 2 3 "
     ]
    }
   ],
   "source": []
  }
 ],
 "metadata": {
  "kernelspec": {
   "display_name": "Python [conda env:base] *",
   "language": "python",
   "name": "conda-base-py"
  },
  "language_info": {
   "codemirror_mode": {
    "name": "ipython",
    "version": 3
   },
   "file_extension": ".py",
   "mimetype": "text/x-python",
   "name": "python",
   "nbconvert_exporter": "python",
   "pygments_lexer": "ipython3",
   "version": "3.13.5"
  }
 },
 "nbformat": 4,
 "nbformat_minor": 5
}
