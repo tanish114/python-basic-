{
 "cells": [
  {
   "cell_type": "code",
   "execution_count": 5,
   "id": "e822a604-4be5-4ea7-b2b1-dc115adefbfc",
   "metadata": {},
   "outputs": [
    {
     "name": "stdout",
     "output_type": "stream",
     "text": [
      "10\n",
      "100\n"
     ]
    }
   ],
   "source": [
    "#userinput-0\n",
    "a=10\n",
    "b=100\n",
    "print(a)\n",
    "print(b)\n"
   ]
  },
  {
   "cell_type": "code",
   "execution_count": 3,
   "id": "21864251-ca9a-4e04-b594-e681e8bf8bb0",
   "metadata": {},
   "outputs": [
    {
     "name": "stdout",
     "output_type": "stream",
     "text": [
      "<class 'str'>\n"
     ]
    }
   ],
   "source": [
    "b='10'\n",
    "print(type(b))"
   ]
  },
  {
   "cell_type": "code",
   "execution_count": 1,
   "id": "ca7a7de0-3962-4423-96db-bb84f177e8ad",
   "metadata": {},
   "outputs": [
    {
     "name": "stdin",
     "output_type": "stream",
     "text": [
      "enter your name ak\n"
     ]
    }
   ],
   "source": [
    "a=input(\"enter your name\")"
   ]
  },
  {
   "cell_type": "code",
   "execution_count": 3,
   "id": "e805f356-43fb-4485-9b39-cd9bcfeff5c1",
   "metadata": {},
   "outputs": [
    {
     "name": "stdin",
     "output_type": "stream",
     "text": [
      "enter your name 12\n"
     ]
    }
   ],
   "source": [
    "b=int(input(\"enter your name\"))"
   ]
  },
  {
   "cell_type": "code",
   "execution_count": 5,
   "id": "d8c4b92a-78bf-4b3b-9405-e87721b09180",
   "metadata": {},
   "outputs": [
    {
     "name": "stdin",
     "output_type": "stream",
     "text": [
      "enter the number 10.35\n"
     ]
    }
   ],
   "source": [
    "c=float(input(\"enter the number\"))"
   ]
  },
  {
   "cell_type": "code",
   "execution_count": 6,
   "id": "51389300-6df5-47cb-89ae-a3707cf9065a",
   "metadata": {},
   "outputs": [
    {
     "name": "stdout",
     "output_type": "stream",
     "text": [
      "30\n",
      "200\n",
      "-10\n",
      "0.5\n"
     ]
    }
   ],
   "source": [
    "\n",
    "a=10\n",
    "b=20\n",
    "print(a+b)\n",
    "print(a*b)\n",
    "print(a-b)\n",
    "print(a/b)"
   ]
  },
  {
   "cell_type": "code",
   "execution_count": 10,
   "id": "42aa71a9-84b5-4487-9b3f-0570addd0fa0",
   "metadata": {},
   "outputs": [
    {
     "name": "stdin",
     "output_type": "stream",
     "text": [
      "enter thne num 10\n",
      "enter the number 10\n",
      "enter the number 10\n"
     ]
    },
    {
     "name": "stdout",
     "output_type": "stream",
     "text": [
      "30\n"
     ]
    }
   ],
   "source": [
    "#userinput-1\n",
    "a=int(input(\"enter thne num\"))\n",
    "b=int(input(\"enter the number\"))\n",
    "c=int(input(\"enter the number\"))\n",
    "d=a+b+c\n",
    "print(d)"
   ]
  },
  {
   "cell_type": "code",
   "execution_count": 12,
   "id": "e75f5fb5-30ed-4adb-b5a7-e9077168ea13",
   "metadata": {},
   "outputs": [
    {
     "name": "stdin",
     "output_type": "stream",
     "text": [
      "enter the number 20\n"
     ]
    },
    {
     "name": "stdout",
     "output_type": "stream",
     "text": [
      "20\n"
     ]
    }
   ],
   "source": [
    "#userinput-2\n",
    "a=input(\"enter the number\")\n",
    "print(a)"
   ]
  },
  {
   "cell_type": "code",
   "execution_count": 14,
   "id": "e2db334f-8059-468d-97ba-69fe8405f729",
   "metadata": {},
   "outputs": [
    {
     "name": "stdin",
     "output_type": "stream",
     "text": [
      "enter the number 10\n"
     ]
    },
    {
     "name": "stdout",
     "output_type": "stream",
     "text": [
      "10\n"
     ]
    }
   ],
   "source": [
    "a=int(input(\"enter the number\"))\n",
    "print(a)"
   ]
  },
  {
   "cell_type": "code",
   "execution_count": 16,
   "id": "c527b1d0-ae6a-4ee5-b950-bd60f120b57e",
   "metadata": {},
   "outputs": [
    {
     "name": "stdin",
     "output_type": "stream",
     "text": [
      "enter the number 11.9867\n"
     ]
    },
    {
     "name": "stdout",
     "output_type": "stream",
     "text": [
      "11.9867\n"
     ]
    }
   ],
   "source": [
    "a=float(input(\"enter the number\"))\n",
    "print(a)\n"
   ]
  },
  {
   "cell_type": "code",
   "execution_count": 22,
   "id": "52f6e832-f4c5-41b3-a00f-a1128c32ca40",
   "metadata": {},
   "outputs": [
    {
     "name": "stdin",
     "output_type": "stream",
     "text": [
      "enter the number 10\n",
      "enter the number 10\n",
      "enter the number 10\n"
     ]
    },
    {
     "name": "stdout",
     "output_type": "stream",
     "text": [
      "30\n",
      "<class 'int'>\n"
     ]
    }
   ],
   "source": [
    "a=input(\"enter the number\")\n",
    "b=int(input(\"enter the number\"))\n",
    "c=float(input(\"enter the number\"))\n",
    "\n",
    "d=int(a);\n",
    "e=int(b);\n",
    "f=int(c);\n",
    "\n",
    "g=d+e+f\n",
    "print(g)\n",
    "print(type(g))"
   ]
  },
  {
   "cell_type": "code",
   "execution_count": 20,
   "id": "2bf88496-2785-416b-8445-902c23b0e685",
   "metadata": {},
   "outputs": [
    {
     "name": "stdout",
     "output_type": "stream",
     "text": [
      "30\n"
     ]
    }
   ],
   "source": [
    "a=10\n",
    "b=20\n",
    "c=a+b\n",
    "print(c)"
   ]
  },
  {
   "cell_type": "code",
   "execution_count": 21,
   "id": "8ffaf97a-359c-450a-9857-4db0248aa113",
   "metadata": {},
   "outputs": [
    {
     "name": "stdout",
     "output_type": "stream",
     "text": [
      "1020\n"
     ]
    }
   ],
   "source": [
    "a=\"10\"\n",
    "b=\"20\"\n",
    "c=a+b\n",
    "print(c)\n"
   ]
  },
  {
   "cell_type": "code",
   "execution_count": 25,
   "id": "72d15875-8761-4ff4-be76-9a46d7b0962a",
   "metadata": {},
   "outputs": [
    {
     "name": "stdin",
     "output_type": "stream",
     "text": [
      "enter a number 10\n",
      "enter a number 20\n",
      "enter a number 10.90\n"
     ]
    },
    {
     "name": "stdout",
     "output_type": "stream",
     "text": [
      "40\n"
     ]
    }
   ],
   "source": [
    "a=input(\"enter a number\")\n",
    "b=int(input(\"enter a number\"))\n",
    "c=float(input(\"enter a number\"))\n",
    "\n",
    "d=int(a)\n",
    "e=int(b)\n",
    "f=int(c)\n",
    "g=d+e+f\n",
    "print(g)"
   ]
  },
  {
   "cell_type": "code",
   "execution_count": 27,
   "id": "c0cd8b09-53f6-4862-ad15-7aae86b4d6fe",
   "metadata": {},
   "outputs": [
    {
     "name": "stdin",
     "output_type": "stream",
     "text": [
      "enter a number 10\n",
      "enter a number 10\n",
      "enter a number 10\n"
     ]
    },
    {
     "name": "stdout",
     "output_type": "stream",
     "text": [
      "<class 'int'>\n"
     ]
    }
   ],
   "source": [
    "a=input(\"enter a number\")\n",
    "b=int(input(\"enter a number\"))\n",
    "c=float(input(\"enter a number\"))\n",
    "\n",
    "a=int(a)\n",
    "b=int(b)\n",
    "c=int(c)\n",
    "print(type(a))"
   ]
  },
  {
   "cell_type": "code",
   "execution_count": 36,
   "id": "9d3a2488-c232-4dcf-81ad-f962aa1ddc05",
   "metadata": {},
   "outputs": [
    {
     "data": {
      "text/plain": [
       "40"
      ]
     },
     "execution_count": 36,
     "metadata": {},
     "output_type": "execute_result"
    }
   ],
   "source": [
    "a=10\n",
    "b=20\n",
    "sum=a+b\n",
    "sum = sum+10\n",
    "sum\n"
   ]
  },
  {
   "cell_type": "code",
   "execution_count": 41,
   "id": "99572741-812d-498a-b238-bed2366e6510",
   "metadata": {},
   "outputs": [
    {
     "data": {
      "text/plain": [
       "90"
      ]
     },
     "execution_count": 41,
     "metadata": {},
     "output_type": "execute_result"
    }
   ],
   "source": [
    "sum += 10\n",
    "sum"
   ]
  },
  {
   "cell_type": "code",
   "execution_count": 47,
   "id": "3c3e7a0f-258f-49dd-a2de-9f4009b8857d",
   "metadata": {},
   "outputs": [
    {
     "name": "stdin",
     "output_type": "stream",
     "text": [
      "enter a no 12\n",
      "enter a no 12\n"
     ]
    },
    {
     "name": "stdout",
     "output_type": "stream",
     "text": [
      "The sum of two number is : 24\n"
     ]
    }
   ],
   "source": [
    "#Arithematic operatora #basic mathmetical approach\n",
    "a=int(input(\"enter a no\"))\n",
    "b=int (input(\"enter a no\"))\n",
    "c=a+b\n",
    "print(\"The sum of two number is :\",c)"
   ]
  },
  {
   "cell_type": "code",
   "execution_count": 48,
   "id": "5a60f94c-90ee-47c5-95c5-9ac54a5d8c29",
   "metadata": {},
   "outputs": [
    {
     "name": "stdin",
     "output_type": "stream",
     "text": [
      "enter a no 12\n",
      "enter a no 12\n"
     ]
    },
    {
     "name": "stdout",
     "output_type": "stream",
     "text": [
      "the multiplication of two no is : 144\n"
     ]
    }
   ],
   "source": [
    "a=int(input(\"enter a no\"))\n",
    "b=int(input(\"enter a no\"))\n",
    "c=a*b\n",
    "print(\"the multiplication of two no is :\",c)"
   ]
  },
  {
   "cell_type": "code",
   "execution_count": 49,
   "id": "77e372a8-26ae-497a-b43d-65ab39cf5d42",
   "metadata": {},
   "outputs": [
    {
     "data": {
      "text/plain": [
       "40"
      ]
     },
     "execution_count": 49,
     "metadata": {},
     "output_type": "execute_result"
    }
   ],
   "source": [
    "mul = 20\n",
    "mul = mul *2\n",
    "mul\n"
   ]
  },
  {
   "cell_type": "code",
   "execution_count": 50,
   "id": "7831ca15-570b-42aa-b624-1402e8504dfe",
   "metadata": {},
   "outputs": [
    {
     "data": {
      "text/plain": [
       "40"
      ]
     },
     "execution_count": 50,
     "metadata": {},
     "output_type": "execute_result"
    }
   ],
   "source": [
    "mul = 20\n",
    "mul *= 2\n",
    "mul"
   ]
  },
  {
   "cell_type": "code",
   "execution_count": 51,
   "id": "6f5d5d45-77e5-4c55-8f1c-75bf7e78019e",
   "metadata": {},
   "outputs": [
    {
     "name": "stdout",
     "output_type": "stream",
     "text": [
      "10 20 30\n"
     ]
    }
   ],
   "source": [
    "a,b,c= 10,20,30\n",
    "print(a,b,c)"
   ]
  },
  {
   "cell_type": "code",
   "execution_count": 52,
   "id": "f62683a6-4a11-4a9e-86a5-780e9e8f29ab",
   "metadata": {},
   "outputs": [
    {
     "name": "stdin",
     "output_type": "stream",
     "text": [
      "enter a no 23\n",
      "enter a no 11\n"
     ]
    },
    {
     "name": "stdout",
     "output_type": "stream",
     "text": [
      "the difference of two number is : 12\n"
     ]
    }
   ],
   "source": [
    "a=int(input(\"enter a no\"))\n",
    "b=int(input(\"enter a no\"))\n",
    "c=a-b\n",
    "print(\"the difference of two number is :\",c)"
   ]
  },
  {
   "cell_type": "code",
   "execution_count": 53,
   "id": "0db6d68a-6880-4aac-b89e-ab95c6b5d085",
   "metadata": {},
   "outputs": [
    {
     "name": "stdin",
     "output_type": "stream",
     "text": [
      "enter a number 50\n",
      "enter a mumber 10\n"
     ]
    },
    {
     "name": "stdout",
     "output_type": "stream",
     "text": [
      "the divide of two number is : 5.0\n"
     ]
    }
   ],
   "source": [
    "a=int(input(\"enter a number\"))\n",
    "b=int(input(\"enter a mumber\"))\n",
    "c=a/b\n",
    "print(\"the divide of two number is :\",c)"
   ]
  },
  {
   "cell_type": "code",
   "execution_count": 57,
   "id": "64a10612-9767-4598-96cd-a3ce85d5aac0",
   "metadata": {},
   "outputs": [
    {
     "name": "stdin",
     "output_type": "stream",
     "text": [
      "enter a number 7\n",
      "enter a mumber 3\n"
     ]
    },
    {
     "name": "stdout",
     "output_type": "stream",
     "text": [
      "the floor division of two number is : 2\n"
     ]
    }
   ],
   "source": [
    "a=int(input(\"enter a number\"))\n",
    "b=int(input(\"enter a mumber\"))\n",
    "c=a//b # floor division\n",
    "print(\"the floor division of two number is :\",c)"
   ]
  },
  {
   "cell_type": "code",
   "execution_count": 58,
   "id": "884f3ed8-4e39-47aa-b7f2-ad34059cb721",
   "metadata": {},
   "outputs": [
    {
     "name": "stdin",
     "output_type": "stream",
     "text": [
      "enter a number 9\n",
      "enter a mumber 2\n"
     ]
    },
    {
     "name": "stdout",
     "output_type": "stream",
     "text": [
      "the reminder of two number is : 1\n"
     ]
    }
   ],
   "source": [
    "a=int(input(\"enter a number\"))\n",
    "b=int(input(\"enter a mumber\"))\n",
    "c=a%b #moudules\n",
    "print(\"the reminder of two number is :\",c)"
   ]
  },
  {
   "cell_type": "code",
   "execution_count": 65,
   "id": "14e056b2-02ea-4388-bcec-3f01c0703a7d",
   "metadata": {},
   "outputs": [
    {
     "data": {
      "text/plain": [
       "False"
      ]
     },
     "execution_count": 65,
     "metadata": {},
     "output_type": "execute_result"
    }
   ],
   "source": [
    "#comparision operator (only works on numerical not on string)\n",
    "a = 20\n",
    "b = 50\n",
    "#a>b\n",
    "#a<b\n",
    "#a>=b\n",
    "#a<=b\n",
    "#a!=b\n",
    "#a==b\n",
    "#a<>b(this is also a not equal to sign but not work in python)"
   ]
  },
  {
   "cell_type": "code",
   "execution_count": 66,
   "id": "2277fbed-a182-4f7d-ac5c-c7f93f884db7",
   "metadata": {},
   "outputs": [
    {
     "name": "stdin",
     "output_type": "stream",
     "text": [
      "enter a no 12\n",
      "enter a no 12\n"
     ]
    },
    {
     "name": "stdout",
     "output_type": "stream",
     "text": [
      "24\n"
     ]
    }
   ],
   "source": [
    "#question 1\n",
    "a=int(input(\"enter a no\"))\n",
    "b=int(input(\"enter a no\"))\n",
    "c=a+b\n",
    "print(c)"
   ]
  },
  {
   "cell_type": "code",
   "execution_count": 67,
   "id": "d37046d2-e734-46f3-9bd1-b6135c823a59",
   "metadata": {},
   "outputs": [
    {
     "name": "stdin",
     "output_type": "stream",
     "text": [
      "enter a no 12\n",
      "enter the no 10\n"
     ]
    },
    {
     "name": "stdout",
     "output_type": "stream",
     "text": [
      "1.2\n"
     ]
    }
   ],
   "source": [
    "#question 2\n",
    "a=int(input(\"enter a no\"))\n",
    "z=int(input(\"enter the no\"))\n",
    "c=a/z\n",
    "print(c)"
   ]
  },
  {
   "cell_type": "code",
   "execution_count": 68,
   "id": "75237461-3f9c-4962-9177-d5464a2d1a36",
   "metadata": {},
   "outputs": [
    {
     "name": "stdin",
     "output_type": "stream",
     "text": [
      "enter a no 12\n"
     ]
    },
    {
     "name": "stdout",
     "output_type": "stream",
     "text": [
      "<class 'int'>\n"
     ]
    }
   ],
   "source": [
    "#question 3\n",
    "a=int(input(\"enter a no\"))\n",
    "print(type(a))"
   ]
  },
  {
   "cell_type": "code",
   "execution_count": 70,
   "id": "3d2187ce-7435-4ecc-823c-99ebd97c6223",
   "metadata": {},
   "outputs": [
    {
     "data": {
      "text/plain": [
       "False"
      ]
     },
     "execution_count": 70,
     "metadata": {},
     "output_type": "execute_result"
    }
   ],
   "source": [
    "#question 4\n",
    "a = int(34)\n",
    "b = int(80)\n",
    "a>b"
   ]
  },
  {
   "cell_type": "code",
   "execution_count": 73,
   "id": "2648aed2-0de0-4df5-ad0b-2354fb9d3c36",
   "metadata": {},
   "outputs": [
    {
     "name": "stdin",
     "output_type": "stream",
     "text": [
      "enter a no 12\n",
      "enter the no 13\n"
     ]
    },
    {
     "name": "stdout",
     "output_type": "stream",
     "text": [
      "12.5\n"
     ]
    }
   ],
   "source": [
    "#question 5\n",
    "a=int(input(\"enter a no\"))\n",
    "b=int(input(\"enter the no\"))\n",
    "c=(a+b)/2\n",
    "print(c)"
   ]
  },
  {
   "cell_type": "code",
   "execution_count": 74,
   "id": "5df3c718-4d23-443f-93ab-c520e5ce8dc2",
   "metadata": {},
   "outputs": [
    {
     "name": "stdin",
     "output_type": "stream",
     "text": [
      "enter a no 21\n"
     ]
    },
    {
     "name": "stdout",
     "output_type": "stream",
     "text": [
      "441\n"
     ]
    }
   ],
   "source": [
    "#question 6 \n",
    "a=int(input(\"enter a no\"))\n",
    "b=a**2\n",
    "#b=a*a\n",
    "print(b)"
   ]
  },
  {
   "cell_type": "code",
   "execution_count": 79,
   "id": "5b6e34d3-590f-4115-a6a1-2449142edd56",
   "metadata": {},
   "outputs": [
    {
     "name": "stdout",
     "output_type": "stream",
     "text": [
      "True\n",
      "True\n"
     ]
    }
   ],
   "source": [
    "#membership operator - in and not in\n",
    "# boolean- true and false\n",
    "# works on multiple element\n",
    "a=[1,2,3,4]\n",
    "print(3 in a)\n",
    "print(5 not in a)"
   ]
  },
  {
   "cell_type": "code",
   "execution_count": 429,
   "id": "fe35380a-7249-4fe1-a2aa-8f5483cfc74d",
   "metadata": {},
   "outputs": [
    {
     "data": {
      "text/plain": [
       "[90, 32, 78, 56, 14, 30, 20]"
      ]
     },
     "execution_count": 429,
     "metadata": {},
     "output_type": "execute_result"
    }
   ],
   "source": [
    "# list\n",
    "# every element is comma saparated\n",
    "# list always gets create in sqaure bracket \n",
    "# hetrogenius in nature(we can store multiple types of data types)\n",
    "# mutable(changebale) in nature\n",
    "# ordered in nature\n",
    "# indexing always start from 0\n",
    "# unorder means element cannot be enter in middle\n",
    "'''a=[\"a\",10.20]\n",
    "print(a)\n",
    "print(type(a))'''\n",
    "\n",
    "#list methods\n",
    "a=[20,30,14,56,78,32,90]\n",
    "\n",
    "#sort \n",
    "'''a.sort()\n",
    "a'''\n",
    "# sort reverse\n",
    "a.reverse()\n",
    "a\n",
    "# index  a.index"
   ]
  },
  {
   "cell_type": "code",
   "execution_count": null,
   "id": "673dd5a9-96e9-45a4-ad08-6938dc1d02e8",
   "metadata": {},
   "outputs": [],
   "source": [
    "a=[10,20,30]\n",
    "a[1]=23\n",
    "\n",
    "b = \"cybrom\"\n",
    "b[2] =\"a\"\n",
    "# string does not support assigning"
   ]
  },
  {
   "cell_type": "code",
   "execution_count": 434,
   "id": "a3fff05b-9c59-4595-a761-0128e593ba1f",
   "metadata": {},
   "outputs": [
    {
     "name": "stdin",
     "output_type": "stream",
     "text": [
      "enter a number 13\n"
     ]
    },
    {
     "name": "stdout",
     "output_type": "stream",
     "text": [
      "[13]\n"
     ]
    }
   ],
   "source": [
    "a=int(input(\"enter a number\"))\n",
    "b=[]\n",
    "b.append(a)\n",
    "print(b)\n",
    "\n"
   ]
  },
  {
   "cell_type": "code",
   "execution_count": 76,
   "id": "0c4dea3e-6dfd-4470-89e2-598594f63122",
   "metadata": {},
   "outputs": [
    {
     "name": "stdout",
     "output_type": "stream",
     "text": [
      "[12, 10.2]\n"
     ]
    }
   ],
   "source": [
    "a[0] = 12\n",
    "print(a)"
   ]
  },
  {
   "cell_type": "code",
   "execution_count": 77,
   "id": "e544b9df-3e4f-4cfa-a1b6-f03a81398b47",
   "metadata": {},
   "outputs": [
    {
     "name": "stdout",
     "output_type": "stream",
     "text": [
      "[12, 10.2, 13]\n"
     ]
    }
   ],
   "source": [
    "a.append(13)\n",
    "print(a)"
   ]
  },
  {
   "cell_type": "code",
   "execution_count": 80,
   "id": "c1478621-12af-448e-8027-7d65c44f3350",
   "metadata": {},
   "outputs": [
    {
     "data": {
      "text/plain": [
       "True"
      ]
     },
     "execution_count": 80,
     "metadata": {},
     "output_type": "execute_result"
    }
   ],
   "source": [
    "# identity operator(is, is not) bollean true and false \n",
    "# use to identify if a is like b in structure or not \n",
    "# works only in signle element\n",
    "a = 13\n",
    "b = 12\n",
    "a is not b\n"
   ]
  },
  {
   "cell_type": "code",
   "execution_count": 82,
   "id": "346f20c9-be7b-4dbd-9d2a-250ae69180a7",
   "metadata": {},
   "outputs": [
    {
     "name": "stdin",
     "output_type": "stream",
     "text": [
      "enter p 12\n",
      "enter r 12\n",
      "enter t 12\n"
     ]
    },
    {
     "name": "stdout",
     "output_type": "stream",
     "text": [
      "17.28\n"
     ]
    }
   ],
   "source": [
    "#simple interest question(done by own)\n",
    "a=int(input(\"enter p\"))\n",
    "b=int(input(\"enter r\"))\n",
    "c=int(input(\"enter t\"))\n",
    "d=(a*b*c)/100\n",
    "print(d)"
   ]
  },
  {
   "cell_type": "code",
   "execution_count": null,
   "id": "85a1e8f6-d5b0-4433-ab2e-4ba791f375f7",
   "metadata": {},
   "outputs": [],
   "source": [
    "#conditional statement\n",
    "# 1- if \n",
    "# 2- else\n",
    "# 3-elif\n",
    "# :(identitation) \n"
   ]
  },
  {
   "cell_type": "code",
   "execution_count": 17,
   "id": "c62ab81e-0d4f-4f17-8576-41c82097e917",
   "metadata": {},
   "outputs": [
    {
     "name": "stdin",
     "output_type": "stream",
     "text": [
      "enter a number 11\n"
     ]
    },
    {
     "name": "stdout",
     "output_type": "stream",
     "text": [
      "odd number\n"
     ]
    }
   ],
   "source": [
    "# even or odd \n",
    "n=int(input(\"enter a number\"))\n",
    "if n%2==0:\n",
    "    print(\"even number\")\n",
    "else:\n",
    "    print(\"odd number\")"
   ]
  },
  {
   "cell_type": "code",
   "execution_count": 90,
   "id": "9e2bd03f-dee6-4173-ab3a-4db8d70c3212",
   "metadata": {},
   "outputs": [
    {
     "name": "stdin",
     "output_type": "stream",
     "text": [
      "enter a number 12\n"
     ]
    },
    {
     "name": "stdout",
     "output_type": "stream",
     "text": [
      "positive\n"
     ]
    }
   ],
   "source": [
    "# +ve,_ve,zero\n",
    "n = int(input(\"enter a number\"))\n",
    "if(n>0):\n",
    "      print(\"positive\")\n",
    "elif(n<0):\n",
    "      print(\"negative\")\n",
    "else:\n",
    "       print(\"zero\")"
   ]
  },
  {
   "cell_type": "code",
   "execution_count": 29,
   "id": "81b15097-3d72-4d23-8230-5e7052c56730",
   "metadata": {},
   "outputs": [
    {
     "name": "stdin",
     "output_type": "stream",
     "text": [
      "enter your marks 90\n"
     ]
    },
    {
     "name": "stdout",
     "output_type": "stream",
     "text": [
      "A\n"
     ]
    }
   ],
   "source": [
    "#grade calculater\n",
    "num=int(input(\"enter your marks\"))\n",
    "if num>= 90 and num<= 100:\n",
    "    print(\"A\")\n",
    "elif num>= 80 and num<=89:\n",
    "    print(\"B\")\n",
    "elif num>= 70 and num<= 79:\n",
    "    print(\"C\")\n",
    "elif num>= 60 and num<= 69:\n",
    "    print(\"D\")\n",
    "else:\n",
    "    print(\"F\")\n",
    "    \n"
   ]
  },
  {
   "cell_type": "code",
   "execution_count": 20,
   "id": "7f7a36b4-2fbb-4e65-8d3a-6b4ff1cdf2d5",
   "metadata": {},
   "outputs": [
    {
     "name": "stdin",
     "output_type": "stream",
     "text": [
      "enter a number 2\n"
     ]
    },
    {
     "name": "stdout",
     "output_type": "stream",
     "text": [
      "not\n"
     ]
    }
   ],
   "source": [
    "# divisibility by 5 and 7\n",
    "num=int(input(\"enter a number\"))\n",
    "if num%5==0 and num%7==0:\n",
    "    print(\"divisible by 5 and 7\")\n",
    "else:\n",
    "    print(\"not\")"
   ]
  },
  {
   "cell_type": "code",
   "execution_count": 22,
   "id": "37a53130-d5a3-446d-be56-2da42ca3db8a",
   "metadata": {},
   "outputs": [
    {
     "name": "stdin",
     "output_type": "stream",
     "text": [
      "enter your age 11\n"
     ]
    },
    {
     "name": "stdout",
     "output_type": "stream",
     "text": [
      "not\n"
     ]
    }
   ],
   "source": [
    "#checking for voting age\n",
    "age=int(input(\"enter your age\"))\n",
    "if age>=18:\n",
    "    print(\"eligible to vote\")\n",
    "else:\n",
    "    print(\"not\")"
   ]
  },
  {
   "cell_type": "code",
   "execution_count": 24,
   "id": "77e10930-5016-4a08-997b-482b11df3bf3",
   "metadata": {},
   "outputs": [
    {
     "name": "stdin",
     "output_type": "stream",
     "text": [
      "enter the temperature in dgree celsius 112\n"
     ]
    },
    {
     "name": "stdout",
     "output_type": "stream",
     "text": [
      "its a hot day\n"
     ]
    }
   ],
   "source": [
    "#Write a Python program that checks the temperature and provides a message based on the temperature value.\n",
    "#If the temperature is above 27 degrees Celsius, it should print \"It's a hot day.\" If the temperature is 27 degrees or below, \n",
    "#it should print \"It's not a hot day.\"\n",
    "temp=float(input(\"enter the temperature in dgree celsius\"))\n",
    "if temp>27:\n",
    "    print(\"its a hot day\")\n",
    "else:\n",
    "    print(\"not a hot day\")"
   ]
  },
  {
   "cell_type": "code",
   "execution_count": 28,
   "id": "ba8e88fa-74dc-4fa2-a264-2ab68b304199",
   "metadata": {},
   "outputs": [
    {
     "name": "stdin",
     "output_type": "stream",
     "text": [
      "enter your age 3888\n"
     ]
    },
    {
     "name": "stdout",
     "output_type": "stream",
     "text": [
      "eniors\n"
     ]
    }
   ],
   "source": [
    "#Write a Python program that classifies a person's age into one of the following categories: \"Infant,\" \"Child,\" \"Teenager,\" \"Adult,\" or \n",
    "#\"Senior.\" The program should ask the user for their age and then display the corresponding classification based on the following\n",
    "#guidelines:  Infants: 0-2 years old\n",
    "   #Children: 3-12 years old\n",
    "   #Teenagers: 13-19 years old\n",
    "    #Adults: 20-64 years old\n",
    "    #eniors: 65 years old and older\n",
    "age=int(input(\"enter your age\"))\n",
    "if age>=0 and age<=2:\n",
    "    print(\"infants\")\n",
    "elif age>=3 and age<=12:\n",
    "    print(\"children\")\n",
    "elif age>=13 and age<=19:\n",
    "    print(\"teenager\")\n",
    "elif age>=20 and age<=64:\n",
    "    print(\"adults\")\n",
    "else:\n",
    "    print(\"eniors\")"
   ]
  },
  {
   "cell_type": "code",
   "execution_count": 4,
   "id": "ead93424-e159-4b49-a372-e7c450367dd0",
   "metadata": {},
   "outputs": [
    {
     "name": "stdin",
     "output_type": "stream",
     "text": [
      "enter the available amount 1000\n",
      "enter the withdrawal amount 900\n"
     ]
    },
    {
     "name": "stdout",
     "output_type": "stream",
     "text": [
      "amount can be withdraw\n",
      "Amount left is : 100\n"
     ]
    }
   ],
   "source": [
    "\n",
    "a=int(input(\"enter the available amount\"))\n",
    "b=int(input(\"enter the withdrawal amount\"))\n",
    "\n",
    "if a<b:\n",
    "    print(\"insuffciant fund\")\n",
    "elif a>=b:\n",
    "    print(\"amount can be withdraw\")\n",
    "    print(\"Amount left is :\",a-b)\n",
    "\n",
    "\n"
   ]
  },
  {
   "cell_type": "code",
   "execution_count": 9,
   "id": "5c34faea-efe4-4dff-ab00-ac052d3db7dc",
   "metadata": {},
   "outputs": [
    {
     "name": "stdin",
     "output_type": "stream",
     "text": [
      "enter the marks of maths 90\n",
      "enter the marks of science 90\n",
      "enter the marks of social science 90\n",
      "enter the marks of hindi 90\n",
      "enter the marks of english 90\n"
     ]
    },
    {
     "name": "stdout",
     "output_type": "stream",
     "text": [
      "90.0\n"
     ]
    }
   ],
   "source": [
    "#student percentage calculator\n",
    "a=int(input(\"enter the marks of maths\"))\n",
    "b=int(input(\"enter the marks of science\"))\n",
    "c=int(input(\"enter the marks of social science\"))\n",
    "d=int(input(\"enter the marks of hindi\"))\n",
    "e=int(input(\"enter the marks of english\"))\n",
    "\n",
    "percentage=(a+b+c+d+e)*100/500\n",
    "print(percentage)"
   ]
  },
  {
   "cell_type": "code",
   "execution_count": 16,
   "id": "b130e196-26e0-455e-9bd1-a3b305723c26",
   "metadata": {},
   "outputs": [
    {
     "name": "stdin",
     "output_type": "stream",
     "text": [
      "enter the first side of triangle 10\n",
      "enter the second side of triangle 10\n",
      "enter the third side of triangle 7\n"
     ]
    },
    {
     "name": "stdout",
     "output_type": "stream",
     "text": [
      "isosceles triangle\n"
     ]
    }
   ],
   "source": [
    "#type of triangle\n",
    "a=int(input(\"enter the first side of triangle\"))\n",
    "b=int(input(\"enter the second side of triangle\"))\n",
    "c=int(input(\"enter the third side of triangle\"))\n",
    "\n",
    "if a==b and a==c:\n",
    "    print(\"equilateral traingle\")\n",
    "elif a==b or b==c:\n",
    "    print(\"isosceles triangle\")\n",
    "else:\n",
    "    print(\"scalene triangle\")\n"
   ]
  },
  {
   "cell_type": "code",
   "execution_count": 23,
   "id": "94a08a61-dbff-4c0d-8b98-dace0d269ede",
   "metadata": {},
   "outputs": [
    {
     "name": "stdin",
     "output_type": "stream",
     "text": [
      "enter first number 12\n",
      "enter a character *\n",
      "enter second number 12\n"
     ]
    },
    {
     "name": "stdout",
     "output_type": "stream",
     "text": [
      "result 144.0\n"
     ]
    }
   ],
   "source": [
    "#simple calculater\n",
    "a=float(input(\"enter first number\"))\n",
    "operator=input(\"enter a character\")\n",
    "b=float(input(\"enter second number\"))\n",
    "\n",
    "if operator == \"+\":\n",
    "    print(\"result\",a+b)\n",
    "elif operator == \"-\":\n",
    "    print(\"result\",a-b)\n",
    "elif operator == \"*\":\n",
    "    print(\"result\",a*b)\n",
    "elif operator == \"/\":\n",
    "    print(\"result\",a/b)\n",
    "else:\n",
    "    print(\"result\",a%b)\n",
    "\n",
    "\n"
   ]
  },
  {
   "cell_type": "code",
   "execution_count": 119,
   "id": "b9946035-34d8-44ed-81cb-291d5d2cfddd",
   "metadata": {},
   "outputs": [
    {
     "name": "stdin",
     "output_type": "stream",
     "text": [
      "enter units 12\n"
     ]
    },
    {
     "name": "stdout",
     "output_type": "stream",
     "text": [
      "your bill is : 160.0\n"
     ]
    }
   ],
   "source": [
    "\"\"\"Write a program to calculate electricity bill based on units:\n",
    "0–100 units → ₹5/unit\n",
    "101–200 → ₹7/unit\n",
    "201–300 → ₹10/unit\n",
    "Above 300 → ₹15/unit\n",
    "Also add ₹100 fixed charge.\"\"\"\n",
    "\n",
    "unit=float(input(\"enter units\"))\n",
    "\n",
    "if unit>0 and unit<=100:\n",
    "    print(\"your bill is :\",(unit*5)+100)\n",
    "elif unit>100 and unit<=200:\n",
    "    print(\"your bill is :\",100*5+(unit-100)*7+100)\n",
    "elif unit>200 and unit<=300:\n",
    "    print(\"your bill is :\",100*5+100*7+(unit-200)*10+100)\n",
    "else:\n",
    "    print(\"your bill is :\",100*5+100*7+100*10+(unit-300)*15+100)"
   ]
  },
  {
   "cell_type": "code",
   "execution_count": 48,
   "id": "99004130-725a-43cf-9f6d-8ef5a03fbb6a",
   "metadata": {},
   "outputs": [
    {
     "name": "stdin",
     "output_type": "stream",
     "text": [
      "enter your age 11\n",
      "enter your salary 100000\n",
      "enter your credit score 899\n"
     ]
    },
    {
     "name": "stdout",
     "output_type": "stream",
     "text": [
      "age is too less\n"
     ]
    }
   ],
   "source": [
    "age=int(input(\"enter your age\"))\n",
    "salary=float(input(\"enter your salary\"))\n",
    "credit_score=int(input(\"enter your credit score\"))\n",
    "\n",
    "if age>=21 and age<=60:\n",
    "    if salary>25000:\n",
    "        if credit_score>=700:\n",
    "            print(\"eligible to take loan\")\n",
    "        else:\n",
    "            print(\"credit score is too less\")\n",
    "    else:\n",
    "        print(\"salary is too less\") \n",
    "else:\n",
    "    print(\"age is too less\")\n",
    "\n",
    "\n",
    "\n",
    "\n",
    "\n",
    "\n"
   ]
  },
  {
   "cell_type": "code",
   "execution_count": 112,
   "id": "62c21f09-9a37-46b5-8197-1435af458d67",
   "metadata": {},
   "outputs": [
    {
     "name": "stdin",
     "output_type": "stream",
     "text": [
      "enter a number 101\n"
     ]
    },
    {
     "name": "stdout",
     "output_type": "stream",
     "text": [
      "Valid number\n"
     ]
    }
   ],
   "source": [
    "# Number in Range but Not Multiples\n",
    "#Check if a number is between 100 and 999 and is not divisible by 2, 3, or 5.\n",
    "#👉 Output: \"Valid Number\" or \"Invalid Number\"\n",
    "\n",
    "num=int(input(\"enter a number\"))\n",
    "if (num>=100 and num<=999) and (num%2!=0 and num%3!=0 and num%5!=0):\n",
    "    print(\"Valid number\")\n",
    "else:\n",
    "    print(\"Invalid number\")"
   ]
  },
  {
   "cell_type": "code",
   "execution_count": 114,
   "id": "7e108a1d-b5ca-4ee0-b029-6b69b373173e",
   "metadata": {},
   "outputs": [
    {
     "name": "stdin",
     "output_type": "stream",
     "text": [
      "enter your marks in maths 10\n",
      "enter your marks in eng 29\n",
      "enter your marks in hindi 15\n",
      "enter your marks in science 13\n",
      "enter your marks in social 14\n"
     ]
    },
    {
     "name": "stdout",
     "output_type": "stream",
     "text": [
      "fail\n"
     ]
    }
   ],
   "source": [
    "#Exam Pass/Fail Criteria\n",
    "#Take marks of 5 subjects. A student:\n",
    "#Passes if all marks ≥ 40 and average ≥ 50\n",
    "#Else fails\n",
    "a=int(input(\"enter your marks in maths\"))\n",
    "b=int(input(\"enter your marks in eng\"))\n",
    "c=int(input(\"enter your marks in hindi\"))\n",
    "d=int(input(\"enter your marks in science\"))\n",
    "e=int(input(\"enter your marks in social\"))\n",
    "\n",
    "sum=a+b+c+d+e\n",
    "avg=sum/5\n",
    "if (a>=40 and b>=40 and c>=40 and d>=40 and e>=40) and (avg>=50):\n",
    "    print(\"pass\")\n",
    "else:\n",
    "    print(\"fail\")\n",
    "\n",
    "    \n"
   ]
  },
  {
   "cell_type": "code",
   "execution_count": 123,
   "id": "9bc495fd-3339-4494-95f7-9a3c82a45337",
   "metadata": {},
   "outputs": [
    {
     "name": "stdin",
     "output_type": "stream",
     "text": [
      "enter your age 21\n",
      "enter what time it is(am/pm) 19\n"
     ]
    },
    {
     "name": "stdout",
     "output_type": "stream",
     "text": [
      "135.0\n"
     ]
    }
   ],
   "source": [
    "age=int(input(\"enter your age\")) \n",
    "time=int(input(\"enter what time it is(am/pm)\")) \n",
    "if age<12: \n",
    "    price=100 \n",
    "elif age>=60: \n",
    "    price=80 \n",
    "else: \n",
    "    price=150\n",
    "\n",
    "if time>18 and time<=24: \n",
    "    price-=price*0.10\n",
    "\n",
    "print(price)"
   ]
  },
  {
   "cell_type": "code",
   "execution_count": null,
   "id": "54d3582c-ad05-4a57-be0a-32c5c720cce1",
   "metadata": {},
   "outputs": [],
   "source": [
    "# Ends with 7 -  num % 10 == 7 (% 10 will alwys give the last element and equating it with 7 will check if the last number is 7 or not)"
   ]
  },
  {
   "cell_type": "code",
   "execution_count": 49,
   "id": "4f1701b1-5f01-4644-99c8-c73a122dfb98",
   "metadata": {},
   "outputs": [
    {
     "name": "stdout",
     "output_type": "stream",
     "text": [
      "70\n"
     ]
    }
   ],
   "source": [
    "# indexing \n",
    "a=[10,20,30,40,[50,60,70]]\n",
    "print(a[4][2])"
   ]
  },
  {
   "cell_type": "code",
   "execution_count": 51,
   "id": "e5dd332e-b904-4dff-80d0-adfc08cdf297",
   "metadata": {},
   "outputs": [
    {
     "name": "stdout",
     "output_type": "stream",
     "text": [
      "[50, 60, 70, 200, [45, 55, 65, ['A', 'B', 'c']]]\n"
     ]
    }
   ],
   "source": [
    "a=[10,20,30,40,[50,60,70,200,[45,55,65,[\"A\",\"B\",\"c\"]]]]\n",
    "# print B\n",
    "print(a[4])"
   ]
  },
  {
   "cell_type": "code",
   "execution_count": 52,
   "id": "822cb326-b0c4-4649-ab26-86a61a22b535",
   "metadata": {},
   "outputs": [
    {
     "name": "stdout",
     "output_type": "stream",
     "text": [
      "[45, 55, 65, ['A', 'B', 'c']]\n"
     ]
    }
   ],
   "source": [
    "print(a[4][4])"
   ]
  },
  {
   "cell_type": "code",
   "execution_count": 53,
   "id": "7bec6380-64e6-4a8e-a0ba-d0b23f460185",
   "metadata": {},
   "outputs": [
    {
     "name": "stdout",
     "output_type": "stream",
     "text": [
      "['A', 'B', 'c']\n"
     ]
    }
   ],
   "source": [
    "print(a[4][4][3])"
   ]
  },
  {
   "cell_type": "code",
   "execution_count": 54,
   "id": "08aa6fe7-32ad-42d4-b8eb-8e234a6d3430",
   "metadata": {},
   "outputs": [
    {
     "name": "stdout",
     "output_type": "stream",
     "text": [
      "B\n"
     ]
    }
   ],
   "source": [
    "print(a[4][4][3][1])"
   ]
  },
  {
   "cell_type": "code",
   "execution_count": null,
   "id": "de331ed3-7f4a-4105-8a66-ac0b85cd19e2",
   "metadata": {},
   "outputs": [],
   "source": [
    "# positive indexing that we studied till now\n"
   ]
  },
  {
   "cell_type": "code",
   "execution_count": 57,
   "id": "15170c78-357d-4b6c-bfcd-288fbaea8eb2",
   "metadata": {},
   "outputs": [
    {
     "name": "stdout",
     "output_type": "stream",
     "text": [
      "[50, 60, 70, 200, [45, 55, 65, ['A', 'B', 'c']]]\n"
     ]
    }
   ],
   "source": [
    "#negative indexing\n",
    "a=[10,20,30,40,[50,60,70,200,[45,55,65,[\"A\",\"B\",\"c\"]]]]\n",
    "print(a[-1])"
   ]
  },
  {
   "cell_type": "code",
   "execution_count": 59,
   "id": "f9743cfc-f14f-408f-9af1-5094bc37fc87",
   "metadata": {},
   "outputs": [
    {
     "name": "stdout",
     "output_type": "stream",
     "text": [
      "200\n"
     ]
    }
   ],
   "source": [
    "print(a[-1][-2])"
   ]
  },
  {
   "cell_type": "code",
   "execution_count": 60,
   "id": "874d0c48-e076-495e-b350-2f36bb05be54",
   "metadata": {},
   "outputs": [
    {
     "name": "stdout",
     "output_type": "stream",
     "text": [
      "[50, 60, 70, 200, [45, 55, 65, ['A', 'B', 'c']]]\n"
     ]
    }
   ],
   "source": [
    "print(a[-1])"
   ]
  },
  {
   "cell_type": "code",
   "execution_count": 61,
   "id": "28335101-5fc3-4986-88b5-71aef39105d7",
   "metadata": {},
   "outputs": [
    {
     "name": "stdout",
     "output_type": "stream",
     "text": [
      "[45, 55, 65, ['A', 'B', 'c']]\n"
     ]
    }
   ],
   "source": [
    "print(a[-1][-1])"
   ]
  },
  {
   "cell_type": "code",
   "execution_count": 62,
   "id": "7a525b2c-e6db-4332-8bba-93bfa8484142",
   "metadata": {},
   "outputs": [
    {
     "name": "stdout",
     "output_type": "stream",
     "text": [
      "45\n"
     ]
    }
   ],
   "source": [
    "print(a[-1][-1][-4])"
   ]
  },
  {
   "cell_type": "code",
   "execution_count": 66,
   "id": "f18152d6-10fc-4520-a19b-5b561367741f",
   "metadata": {},
   "outputs": [
    {
     "name": "stdout",
     "output_type": "stream",
     "text": [
      "B\n"
     ]
    }
   ],
   "source": [
    "print(a[-1][-1][-1][-2])"
   ]
  },
  {
   "cell_type": "code",
   "execution_count": 71,
   "id": "41885d4c-4ae7-48ba-a6da-1c9d8717435d",
   "metadata": {},
   "outputs": [
    {
     "name": "stdout",
     "output_type": "stream",
     "text": [
      "p\n",
      "n\n"
     ]
    }
   ],
   "source": [
    "# questions on indexing\n",
    "#Print the first and last character of the string \"Python\" using indexing.\n",
    "a=\"python\"\n",
    "print(a[0])\n",
    "print(a[5])"
   ]
  },
  {
   "cell_type": "code",
   "execution_count": 72,
   "id": "4e6cad84-e1dc-4917-805b-4e6f7006634d",
   "metadata": {},
   "outputs": [
    {
     "name": "stdout",
     "output_type": "stream",
     "text": [
      "yth\n"
     ]
    }
   ],
   "source": [
    "#Print \"yth\" from the string \"Python\" using slice indexing.\n",
    "a=\"python\"\n",
    "print(a[1:4])"
   ]
  },
  {
   "cell_type": "code",
   "execution_count": 83,
   "id": "d6fa19d3-ad60-45fb-b65b-670713fe2ee9",
   "metadata": {},
   "outputs": [
    {
     "name": "stdout",
     "output_type": "stream",
     "text": [
      "idxn\n"
     ]
    }
   ],
   "source": [
    "#Print every 2nd character of the string \"indexing\".\n",
    "a=\"indexing\"\n",
    "print(a[0:9:2])"
   ]
  },
  {
   "cell_type": "code",
   "execution_count": 87,
   "id": "e058c03a-2828-45a9-a812-83b3f1e59ea0",
   "metadata": {},
   "outputs": [
    {
     "name": "stdout",
     "output_type": "stream",
     "text": [
      "ing\n",
      "ing\n"
     ]
    }
   ],
   "source": [
    "#Print the last 3 characters of the string \"Programming\".\n",
    "a=\"Programming\"\n",
    "print(a[-3:])\n",
    "#or\n",
    "print(a[8:11])"
   ]
  },
  {
   "cell_type": "code",
   "execution_count": 88,
   "id": "140ddae7-6c0f-4a65-a25b-7749b7a1aa8c",
   "metadata": {},
   "outputs": [
    {
     "name": "stdout",
     "output_type": "stream",
     "text": [
      "c\n"
     ]
    }
   ],
   "source": [
    "#Access the 3rd element of the list ['a', 'b', 'c', 'd'].\n",
    "a=['a', 'b', 'c', 'd']\n",
    "print(a[2])"
   ]
  },
  {
   "cell_type": "code",
   "execution_count": 92,
   "id": "7b0f1153-827e-4f0e-bcb6-3a033d22616d",
   "metadata": {},
   "outputs": [
    {
     "name": "stdout",
     "output_type": "stream",
     "text": [
      "[2, 4, 6, 8]\n"
     ]
    }
   ],
   "source": [
    "# From the list [0,1,2,3,4,5,6,7,8,9], extract [2, 4, 6, 8] using slicing.\n",
    "a=[0,1,2,3,4,5,6,7,8,9]\n",
    "print(a[2:9:2])"
   ]
  },
  {
   "cell_type": "code",
   "execution_count": 136,
   "id": "d0472f48-9d4a-49c4-a3dd-b417b91877a9",
   "metadata": {},
   "outputs": [
    {
     "data": {
      "text/plain": [
       "[0, 1, [2, 3, [4, 5, [6, 'seven']]]]"
      ]
     },
     "execution_count": 136,
     "metadata": {},
     "output_type": "execute_result"
    }
   ],
   "source": [
    "#Replace the element 7 with 'seven'.\n",
    "lst = [0, 1, [2, 3, [4, 5, [6, 7]]]]\n",
    "lst[2][2][2][1] = \"seven\"\n",
    "lst"
   ]
  },
  {
   "cell_type": "code",
   "execution_count": 67,
   "id": "08adf468-983f-47a2-95f4-410bd0be41f0",
   "metadata": {},
   "outputs": [
    {
     "name": "stdout",
     "output_type": "stream",
     "text": [
      "[10, 20, 30, 40, 50, 60, 70, 80]\n"
     ]
    }
   ],
   "source": [
    "# slicing(positive slicing)\n",
    "a=[10,20,30,40,50,60,70,80,90,100]\n",
    "# format:-starting position(inclusive),ending position(not inclusive),stepsize(if given two it will jump one value)\n",
    "print(a[0:8])"
   ]
  },
  {
   "cell_type": "code",
   "execution_count": 68,
   "id": "323e3879-a86a-4bab-a7a0-d4b4a51a722a",
   "metadata": {},
   "outputs": [
    {
     "name": "stdout",
     "output_type": "stream",
     "text": [
      "[10, 30, 50, 70]\n"
     ]
    }
   ],
   "source": [
    "print(a[0:8:2])\n"
   ]
  },
  {
   "cell_type": "code",
   "execution_count": 69,
   "id": "6cea250b-7d30-402b-bd82-3a9df52c62cb",
   "metadata": {},
   "outputs": [
    {
     "name": "stdout",
     "output_type": "stream",
     "text": [
      "[20, 50]\n"
     ]
    }
   ],
   "source": [
    "print(a[1:6:3])"
   ]
  },
  {
   "cell_type": "code",
   "execution_count": null,
   "id": "8632844e-8f7b-41c9-95b5-31ca35c9d6dd",
   "metadata": {},
   "outputs": [],
   "source": [
    "#negative slicing (we have to always give stepsize because it act as direction as well by default its always +1)"
   ]
  },
  {
   "cell_type": "code",
   "execution_count": null,
   "id": "d8b55b39-be5e-4128-9aef-2e6b47c2a7b5",
   "metadata": {},
   "outputs": [],
   "source": []
  },
  {
   "cell_type": "code",
   "execution_count": 137,
   "id": "efae0be1-f23f-4378-93e7-e28d64f8a28f",
   "metadata": {},
   "outputs": [
    {
     "name": "stdout",
     "output_type": "stream",
     "text": [
      "[30, 40, 50]\n"
     ]
    }
   ],
   "source": [
    "a=[10,20,30,40,50,60]\n",
    "print(a[-4:-1])"
   ]
  },
  {
   "cell_type": "code",
   "execution_count": 138,
   "id": "514f9e50-efd3-4941-bc97-552419bdc195",
   "metadata": {},
   "outputs": [
    {
     "name": "stdout",
     "output_type": "stream",
     "text": [
      "[]\n"
     ]
    }
   ],
   "source": [
    "print(a[-1:-4])"
   ]
  },
  {
   "cell_type": "code",
   "execution_count": 139,
   "id": "980058de-6b05-4b66-b791-61a478978daf",
   "metadata": {},
   "outputs": [
    {
     "name": "stdout",
     "output_type": "stream",
     "text": [
      "[50, 40, 30]\n"
     ]
    }
   ],
   "source": [
    "print(a[4:1:-1])"
   ]
  },
  {
   "cell_type": "code",
   "execution_count": 140,
   "id": "82b23c0e-f12b-4e7f-95fb-8b4afe74b444",
   "metadata": {},
   "outputs": [
    {
     "name": "stdout",
     "output_type": "stream",
     "text": [
      "[60, 50, 40, 30, 20, 10]\n"
     ]
    }
   ],
   "source": [
    "#REVERSE\n",
    "print(a[::-1]) "
   ]
  },
  {
   "cell_type": "code",
   "execution_count": 147,
   "id": "3ee2a5ef-c677-4a9f-bbc9-ba665d024676",
   "metadata": {},
   "outputs": [
    {
     "name": "stdin",
     "output_type": "stream",
     "text": [
      "enter a number 11\n"
     ]
    },
    {
     "name": "stdout",
     "output_type": "stream",
     "text": [
      "odd\n",
      "positive\n"
     ]
    }
   ],
   "source": [
    "#nested if else questions\n",
    "# positive zero or negative and if positive so check even or odd \n",
    "a=int(input(\"enter a number\"))\n",
    "\n",
    "if a>0:\n",
    "    if a%2==0:\n",
    "        print(\"even\")\n",
    "    else:\n",
    "        print(\"odd\")\n",
    "        print(\"positive\")\n",
    "elif a<0:\n",
    "    print(\"negative\")\n",
    "else:\n",
    "    print(\"zero\")"
   ]
  },
  {
   "cell_type": "code",
   "execution_count": 149,
   "id": "893dce35-1493-4a2a-b4a4-35ced37288c1",
   "metadata": {},
   "outputs": [
    {
     "name": "stdin",
     "output_type": "stream",
     "text": [
      "enter a number 210\n"
     ]
    },
    {
     "name": "stdout",
     "output_type": "stream",
     "text": [
      "number is in range\n",
      "number is divvisible by both 3 and 7\n"
     ]
    }
   ],
   "source": [
    "# wap to check a three digit number is divisible by both 3 and 7 if number exceed three digits it shows number is u difined\n",
    "num=int(input(\"enter a number\"))\n",
    "\n",
    "if num>99 and num<=999:\n",
    "    if num%3==0 and num%7==0:\n",
    "        print(\"number is in range\")\n",
    "        print(\"number is divisible by both 3 and 7\")\n",
    "else:\n",
    "    print(\"number is undifined\")"
   ]
  },
  {
   "cell_type": "code",
   "execution_count": 155,
   "id": "6e2233f0-4d39-445e-a5cb-158670e86623",
   "metadata": {},
   "outputs": [
    {
     "name": "stdin",
     "output_type": "stream",
     "text": [
      "enter a number 20\n",
      "enter a number 10\n",
      "enter a number 20\n"
     ]
    },
    {
     "name": "stdout",
     "output_type": "stream",
     "text": [
      "its a tie\n"
     ]
    }
   ],
   "source": [
    "a=int(input(\"enter a number\"))\n",
    "b=int(input(\"enter a number\"))\n",
    "c=int(input(\"enter a number\"))\n",
    "if a>b and a>c:\n",
    "    print(\"a is greatest\")\n",
    "elif b>a and b>c:\n",
    "    print(\"b is greatest\")\n",
    "elif c>a and c>b:\n",
    "    print(\"c is greatest\")\n",
    "else:\n",
    "    if a==b or b==c or c==a  or a==b==c:\n",
    "        print(\"its a tie\")"
   ]
  },
  {
   "cell_type": "code",
   "execution_count": 164,
   "id": "b8496f90-da36-4564-8788-0931e3b3d0e6",
   "metadata": {},
   "outputs": [
    {
     "name": "stdin",
     "output_type": "stream",
     "text": [
      "enter the type of card (debit/credit) credit\n",
      "enter the amount to be withdrawan 5000000\n"
     ]
    },
    {
     "name": "stdout",
     "output_type": "stream",
     "text": [
      "Limit exceed\n"
     ]
    }
   ],
   "source": [
    "# ATM Withdrawal Validator\n",
    "#Ask the user to enter:\n",
    "#Card type: debit or credit\n",
    "#Amount to withdraw\n",
    "#Rules:\n",
    "#If card is debit:\n",
    "#Max limit is ₹20,000\n",
    "#If amount ≤ 20000 → print \"Transaction Approved\"\n",
    "#Else → print \"Limit Exceeded\"\n",
    "#If card is credit:\n",
    "#Max limit is ₹50,000\n",
    "#If amount ≤ 50000 → print \"Transaction Approved\"\n",
    "#Else → print \"Limit Exceeded\"\n",
    "#Else → print \"Invalid Card Type\"\n",
    "\n",
    "card=input(\"enter the type of card (debit/credit)\")\n",
    "amount=int(input(\"enter the amount to be withdrawan\"))\n",
    "      \n",
    "if card==\"debit\":\n",
    "    if amount<=20000:\n",
    "        print(\"Tranaction approved\")\n",
    "    else:\n",
    "        print(\"Limit exceed\")\n",
    "elif card==\"credit\":\n",
    "    if amount<=50000:\n",
    "        print(\"Tranaction approved\")\n",
    "    else:\n",
    "        print(\"Limit exceed\")\n",
    "else:\n",
    "    print(\"invalid card type\")\n",
    "    \n",
    "\n",
    "\n",
    "\n"
   ]
  },
  {
   "cell_type": "code",
   "execution_count": 178,
   "id": "85a48fd2-fe87-42a1-a31b-a93469254854",
   "metadata": {},
   "outputs": [
    {
     "name": "stdin",
     "output_type": "stream",
     "text": [
      "enter the units 475\n"
     ]
    },
    {
     "name": "stdout",
     "output_type": "stream",
     "text": [
      "your bill is : 1025\n"
     ]
    }
   ],
   "source": [
    "# Electricity Bill Calculator\n",
    "#Input the number of units consumed.\n",
    "#If units ≤ 100 → ₹1/unit\n",
    "#If 101–300:\n",
    "#First 100 → ₹1/unit\n",
    "#Remaining → ₹2/unit\n",
    "#If units > 300:\n",
    "#First 100 → ₹1/unit\n",
    "#Next 200 → ₹2/unit\n",
    "#Remaining → ₹3/unit\n",
    "#Finally, print the total bill \n",
    "unit=int(input(\"enter the units\"))\n",
    "if unit<=100:\n",
    "    print(\"your bill is :\",unit*1)\n",
    "elif unit>100 and unit<=300:\n",
    "    print(\"your bill is :\",100*1+(unit-100)*2)\n",
    "else:\n",
    "    if unit>300:\n",
    "        print(\"your bill is :\",100*1+200*2+(unit-300)*3)\n"
   ]
  },
  {
   "cell_type": "code",
   "execution_count": 218,
   "id": "05711254-0770-4dbd-93fb-39736a3839e1",
   "metadata": {},
   "outputs": [
    {
     "name": "stdin",
     "output_type": "stream",
     "text": [
      "enter your gender(male/female) male\n",
      "enter your age 44\n",
      "enter your salary 1000000\n"
     ]
    },
    {
     "name": "stdout",
     "output_type": "stream",
     "text": [
      "your tax amount is : 100000.0\n",
      "your net slary is : 900000.0\n"
     ]
    }
   ],
   "source": [
    "#Q1. Employee Salary Tax Calculator\n",
    "#Take the following inputs:\n",
    "#Employee gender (male / female)\n",
    "#Age\n",
    "#Annual salary\n",
    "#Conditions:\n",
    "#If male:\n",
    "#If age < 60:\n",
    "#If salary > ₹10,00,000 → 30% tax\n",
    "#If salary > ₹5,00,000 → 20% tax\n",
    "#Else → 10% tax\n",
    "#Else → 5% tax\n",
    "#If female:\n",
    "#If salary > ₹7,00,000 → 25% tax\n",
    "#Else → 10% tax\n",
    "#Print the tax amount and net salary.\n",
    "\n",
    "gender=input(\"enter your gender(male/female)\")\n",
    "age=int(input(\"enter your age\"))\n",
    "annual_salary=float(input(\"enter your salary\"))\n",
    "tax_amount=0\n",
    "net_salary=0\n",
    "if gender==\"male\":\n",
    "    if age<60:\n",
    "        if annual_salary>1000000:\n",
    "            tax_amount=annual_salary*0.30\n",
    "            net_salary=annual_salary-tax_amount\n",
    "        else:\n",
    "            tax_amount=annual_salary*0.10\n",
    "            net_salary=annual_salary-tax_amount\n",
    "else:\n",
    "        tax_amount=annual_salary*0.5\n",
    "        net_salary=annual_salary-tax_amount \n",
    "if gender==\"female\": \n",
    "    if annual_salary>700000:\n",
    "        tax_amount=annual_salary*0.25\n",
    "        net_salary=annual_salary-tax_amount \n",
    "else:\n",
    "  tax_amount=annual_salary*0.10\n",
    "  net_salary=annual_salary-tax_amount \n",
    "print(\"your tax amount is :\",tax_amount)\n",
    "print(\"your net slary is :\",net_salary)\n"
   ]
  },
  {
   "cell_type": "code",
   "execution_count": 275,
   "id": "0a311409-4ae8-4067-8d8e-7f601997e0b7",
   "metadata": {},
   "outputs": [
    {
     "name": "stdin",
     "output_type": "stream",
     "text": [
      "enter marks in aptitude 56\n",
      "enter your marks in tecchnical 66\n",
      "enter your marks in english 78\n"
     ]
    }
   ],
   "source": [
    " #Online Exam Result Evaluator\n",
    "#Inputs:\n",
    "#Marks in 3 sections: Aptitude, Technical, English\n",
    "#Conditions:\n",
    "#Each section must be ≥ 40\n",
    "#Overall average must be ≥ 60\n",
    "#If Aptitude ≥ 90 → “Excellent Logical Skills”\n",
    "#If Technical ≥ 90 → “Excellent Coding Skills”\n",
    "\n",
    "marks1=int(input(\"enter marks in aptitude\"))\n",
    "marks2=int(input(\"enter your marks in tecchnical\"))\n",
    "marks3=int(input(\"enter your marks in english\"))\n",
    "average=(marks1+marks2+marks3)/3\n",
    "if marks1>=40 and marks2>=40 and marks3>=40:\n",
    "    if average>=60:\n",
    "        if marks1>=90:\n",
    "            print(\"Excellent Logical Skills\")\n",
    "        else:\n",
    "            if marks2>90:\n",
    "                print(\"excellente in coding\")"
   ]
  },
  {
   "cell_type": "code",
   "execution_count": 280,
   "id": "aca61e64-0294-4c1a-b1da-af07d9c60e65",
   "metadata": {},
   "outputs": [
    {
     "name": "stdin",
     "output_type": "stream",
     "text": [
      "enter your stream (Science, Commerce, Arts) science\n",
      "enter your marks in boards 88\n",
      "enter your marks in enterance exam 74\n"
     ]
    },
    {
     "name": "stdout",
     "output_type": "stream",
     "text": [
      "admit\n"
     ]
    }
   ],
   "source": [
    "# University Admission System\n",
    "#Input:\n",
    "#Stream applied (Science, Commerce, Arts)\n",
    "#12th board marks\n",
    "#Entrance exam score\n",
    "\n",
    "#Rules:\n",
    "#For Science:\n",
    "#Board marks ≥ 80 and Entrance ≥ 70 → Admit\n",
    "#Else → Reject\n",
    "#For Commerce:\n",
    "#Board marks ≥ 75 and Entrance ≥ 60 → Admit\n",
    "#For Arts:\n",
    "#Only Board marks ≥ 65 → Admit\n",
    "#Any invalid stream → Error\n",
    "\n",
    "stream=input(\"enter your stream (Science, Commerce, Arts)\")\n",
    "marks=float(input(\"enter your marks in boards\"))\n",
    "Entrance_exam=float(input(\"enter your marks in enterance exam\"))\n",
    "if stream==\"science\":\n",
    "    if marks>=80:\n",
    "        if Entrance_exam>=70:\n",
    "            print(\"admit\")\n",
    "        else:\n",
    "            print(\"reject\")\n",
    "elif stream==\"commerce\":\n",
    "    if marks>=75:\n",
    "        if Entrance_exam>=60:\n",
    "            print(\"admit\")\n",
    "        else:\n",
    "            print(\"reject\")\n",
    "elif stream==\"arts\":\n",
    "    if marks>=65:\n",
    "        print(\"admit\")\n",
    "\n",
    "else:\n",
    "    print(\"invalid stream\")"
   ]
  },
  {
   "cell_type": "code",
   "execution_count": 343,
   "id": "80cae318-eab4-4586-aa14-b69eba207513",
   "metadata": {},
   "outputs": [
    {
     "name": "stdin",
     "output_type": "stream",
     "text": [
      "do you have a passport (yes/no) yes\n",
      "do you have a visa (yes/no) yes\n",
      "whats your temperature 22\n"
     ]
    },
    {
     "name": "stdout",
     "output_type": "stream",
     "text": [
      "allowed to check in\n"
     ]
    }
   ],
   "source": [
    "#Flight Check-in Kiosk System\n",
    "#Input:\n",
    "#Has Passport? (yes/no)\n",
    "#Has Visa? (yes/no)\n",
    "#Temperature in Celsius\n",
    "\n",
    "#Logic:\n",
    "#If passport = yes:\n",
    "#If visa = yes:\n",
    "#If temperature ≤ 37.5 → \"Allowed to Check-in\"\n",
    "#Else → \"Denied due to high temperature\"\n",
    "#Else → \"Visa Required\"\n",
    "#Else → \"Passport Required\"\n",
    "\n",
    "passport=input(\"do you have a passport (yes/no)\")\n",
    "visa=input(\"do you have a visa (yes/no)\")\n",
    "Temperature=float(input(\"whats your temperature\"))\n",
    "\n",
    "if passport==\"yes\":\n",
    "    if visa==\"yes\":\n",
    "        if Temperature<=37.5:\n",
    "            print(\"allowed to check in\")\n",
    "        else:\n",
    "            print(\"Denied due to high temperature\")\n",
    "    else:\n",
    "        print(\"visa required\")\n",
    "else:\n",
    "    print(\"passport required\")\n",
    "   \n",
    "\n",
    "\n",
    "\n",
    "\n",
    "  "
   ]
  },
  {
   "cell_type": "code",
   "execution_count": 53,
   "id": "1ca91ebd-12fc-48c5-80f5-d49be30e6ba6",
   "metadata": {},
   "outputs": [
    {
     "name": "stdin",
     "output_type": "stream",
     "text": [
      "enter a string d\n"
     ]
    },
    {
     "name": "stdout",
     "output_type": "stream",
     "text": [
      "starting with consonants\n"
     ]
    }
   ],
   "source": [
    "#wap to check if starting with A or starting with vowel or consonant\n",
    "a=input(\"enter a string\")\n",
    "if a.isalpha():\n",
    "    if a.upper :\n",
    "        if a[0]==\"A\":\n",
    "            print(\"starting with A\")\n",
    "        elif a.lower():\n",
    "            if a[0] in 'aeiou':\n",
    "                print(\"starting with vowel\")\n",
    "            else:\n",
    "                print(\"starting with consonants\")\n",
    "    \n",
    "            "
   ]
  },
  {
   "cell_type": "code",
   "execution_count": 423,
   "id": "b0ffbdba-3c7b-443d-8fc8-f5aa4a7e4624",
   "metadata": {},
   "outputs": [
    {
     "name": "stdin",
     "output_type": "stream",
     "text": [
      "enter what would you like to drink tea or coffee tea\n",
      "with sugar or without sugar sugar\n"
     ]
    },
    {
     "name": "stdout",
     "output_type": "stream",
     "text": [
      "here is your coffee with sugar\n"
     ]
    }
   ],
   "source": [
    "#tea and coffee \n",
    "beverage=input(\"enter what would you like to drink tea or coffee\")\n",
    "\n",
    "if beverage==\"tea\":\n",
    "    ask=input(\"with sugar or without sugar\")\n",
    "    if ask==\"sugar\":\n",
    "        print(\"here is your tea with sugar\")\n",
    "    else:\n",
    "        print(\"here is your tea without sugar\")\n",
    "elif beverage==\"coffee\":\n",
    "    know=input(\"milk or without milk\")\n",
    "    if know==\"milk\":\n",
    "        print(\"hre is your coffee with milk\")\n",
    "    else:\n",
    "        print(\"here is your coffee without milk\")\n",
    "else:\n",
    "    print(\"beverage wrong entered\")\n",
    "    \n",
    "\n"
   ]
  },
  {
   "cell_type": "code",
   "execution_count": 403,
   "id": "c65eef4f-6559-49ae-ac7f-b4e8cbd582df",
   "metadata": {},
   "outputs": [
    {
     "name": "stdin",
     "output_type": "stream",
     "text": [
      "enter a 3 letter word klq\n"
     ]
    },
    {
     "name": "stdout",
     "output_type": "stream",
     "text": [
      "mixed\n"
     ]
    }
   ],
   "source": [
    "#Layered Vowel Game\n",
    "#Take a 3-letter word. If:\n",
    "#All are vowels → “Triple Vowel”\n",
    "#Starts and ends with vowels → “Sandwich Vowel”\n",
    "#Only middle is vowel → “Core Vowel”\n",
    "#Else → “Mixed”\n",
    "a=input(\"enter a 3 letter word\")\n",
    "if a.isalpha():\n",
    "    if len(a)==3:\n",
    "        if a.lower() in 'aeiou':\n",
    "            print(\"Triple Vowel\")\n",
    "        elif a[0] and a[2] in 'aeiou':\n",
    "            print(\"sandwich vowel\")\n",
    "        elif a[1] in 'aeiou':\n",
    "            print(\"core vowel\")\n",
    "        else:\n",
    "            print(\"mixed\")\n",
    "                "
   ]
  },
  {
   "cell_type": "code",
   "execution_count": 418,
   "id": "80bb2860-271b-478c-ba6d-2e5ce1f3d13f",
   "metadata": {},
   "outputs": [
    {
     "name": "stdin",
     "output_type": "stream",
     "text": [
      "enter a four digit number 1234\n"
     ]
    },
    {
     "name": "stdout",
     "output_type": "stream",
     "text": [
      "not a pallindrome\n",
      "the number is even\n"
     ]
    }
   ],
   "source": [
    "# wap to check a input of three digit number if it is a pallindrome check even or not\n",
    "num=input(\"enter a four digit number\")\n",
    "num_int = int(num)\n",
    "if num_int>999 and num_int<=9999:\n",
    "    if num[::] == num[::-1]:\n",
    "        print(\"pallindrome\")\n",
    "    else:\n",
    "        print(\"not a pallindrome\")\n",
    "        if num_int%2==0:\n",
    "            print(\"the number is even\")\n",
    "        else:\n",
    "            print(\"the number is odd.\")\n",
    "else:\n",
    "    print(\"the number is not a four digit number\")"
   ]
  },
  {
   "cell_type": "code",
   "execution_count": 422,
   "id": "c26fe964-1765-44c2-9ae0-cde24284a7a8",
   "metadata": {},
   "outputs": [
    {
     "name": "stdin",
     "output_type": "stream",
     "text": [
      "enter a year 1900\n"
     ]
    },
    {
     "name": "stdout",
     "output_type": "stream",
     "text": [
      "not a leap year\n"
     ]
    }
   ],
   "source": [
    "#leap year\n",
    "year=int(input(\"enter a year\"))\n",
    "if (year%4==0 and year % 100 !=0) or year%400==0:\n",
    "    print(\"leap year\")\n",
    "else:\n",
    "    print(\"not a leap year\")"
   ]
  },
  {
   "cell_type": "code",
   "execution_count": 435,
   "id": "8036b4a3-3bab-4d3d-9efe-14f71143bb2a",
   "metadata": {},
   "outputs": [
    {
     "ename": "TypeError",
     "evalue": "'tuple' object does not support item assignment",
     "output_type": "error",
     "traceback": [
      "\u001b[1;31m---------------------------------------------------------------------------\u001b[0m",
      "\u001b[1;31mTypeError\u001b[0m                                 Traceback (most recent call last)",
      "Cell \u001b[1;32mIn[435], line 14\u001b[0m\n\u001b[0;32m     12\u001b[0m b\u001b[38;5;241m=\u001b[39m(\u001b[38;5;124m\"\u001b[39m\u001b[38;5;124mA\u001b[39m\u001b[38;5;124m\"\u001b[39m,\u001b[38;5;241m12\u001b[39m,\u001b[38;5;241m13\u001b[39m)\n\u001b[0;32m     13\u001b[0m c \u001b[38;5;241m=\u001b[39m a[\u001b[38;5;241m0\u001b[39m]\n\u001b[1;32m---> 14\u001b[0m a[\u001b[38;5;241m0\u001b[39m] \u001b[38;5;241m=\u001b[39m \u001b[38;5;241m20\u001b[39m\n",
      "\u001b[1;31mTypeError\u001b[0m: 'tuple' object does not support item assignment"
     ]
    }
   ],
   "source": [
    "#built in dattype\n",
    "\n",
    "#string\n",
    "#int\n",
    "#float\n",
    "#boolean\n",
    "#list[],tuple(),set{},dictionary{} (primative data types)\n",
    "\n",
    "\n",
    "# tuple- collection of element \n",
    "# written in paranthesis ()\n",
    "# comma seperated every element \n",
    "# hetrogenius in nature\n",
    "# indexed(ordered) in nature\n",
    "# immutuable(unchangeable) in nature\n",
    "a=(1,2,3)\n",
    "b=(\"A\",12,13)\n",
    "c = a[0]\n",
    "a[0] = 20 #impossible\n"
   ]
  },
  {
   "cell_type": "code",
   "execution_count": 436,
   "id": "2bb657a1-543b-434b-a6d1-94d70a317c58",
   "metadata": {},
   "outputs": [
    {
     "name": "stdout",
     "output_type": "stream",
     "text": [
      "{'name': ['amit', 'aryan', 'ajay'], 'subject': 'python', 'batch': 'p=60'}\n",
      "aryan\n",
      "python\n"
     ]
    }
   ],
   "source": [
    "#dictionary- ordered collection of element\n",
    "# denoted by {} key:value pair\n",
    "#unindexed\n",
    "#hetrogenius\n",
    "#mutuable\n",
    "\n",
    "d={\"name\":[\"amit\",\"aryan\",\"ajay\"],\"subject\":\"python\",\"batch\":\"p=60\"}\n",
    "print(d)\n",
    "print(d[\"name\"][1])\n",
    "print(d[\"subject\"])"
   ]
  },
  {
   "cell_type": "code",
   "execution_count": null,
   "id": "4432bcf8-652d-4be0-93de-78b45b5618a1",
   "metadata": {},
   "outputs": [],
   "source": [
    "di={\"name\":[\"amit\",\"aryan\",\"deepesh\"],\"subject\":[\"python\",\"sql\"],\"batch\":[\"p-60\",\"p-98\"]}\n",
    "print(di)"
   ]
  },
  {
   "cell_type": "code",
   "execution_count": 438,
   "id": "18f1c749-0bc6-44a8-aa06-72bab26f05c8",
   "metadata": {},
   "outputs": [
    {
     "name": "stdout",
     "output_type": "stream",
     "text": [
      "{10, 10.5, 'cybrom', 'hello'}\n",
      "{10, 10.5, 'cybrom', 'hello'}\n"
     ]
    }
   ],
   "source": [
    "#set- collection of element,can never be empty\n",
    "# denoted  by {} with comma seperated\n",
    "#unindexed\n",
    "#unordered\n",
    "#mutuable\n",
    "#hetrogenius\n",
    "#no duplicate values is allowed\n",
    "s={10,10.5,\"hello\",\"cybrom\"}\n",
    "print(s)\n",
    "s.add(\"hello\")\n",
    "print(s)"
   ]
  },
  {
   "cell_type": "code",
   "execution_count": 441,
   "id": "2f48eb34-2d82-4638-8d1b-5022efc7544e",
   "metadata": {},
   "outputs": [
    {
     "name": "stdout",
     "output_type": "stream",
     "text": [
      "0,1,2,3,4,5,"
     ]
    }
   ],
   "source": [
    "# for loop\n",
    "for i in range(6):\n",
    "   # print(i)\n",
    "    print(i,end = \",\")\n"
   ]
  },
  {
   "cell_type": "code",
   "execution_count": 453,
   "id": "e9dc43ca-c48a-4f17-ae7b-44f7a528f8df",
   "metadata": {},
   "outputs": [
    {
     "name": "stdout",
     "output_type": "stream",
     "text": [
      "1/2/3/4/5/6/7/8/9/10/"
     ]
    }
   ],
   "source": [
    "# Print numbers from 1 to 10\n",
    "for i in range(1,11):\n",
    "    #print(i)\n",
    "     print(i,end = \",\")"
   ]
  },
  {
   "cell_type": "code",
   "execution_count": 459,
   "id": "5e35bb9f-9596-4747-a5f4-f360df6522c1",
   "metadata": {},
   "outputs": [
    {
     "name": "stdout",
     "output_type": "stream",
     "text": [
      "2,4,6,8,10,12,14,16,18,20,"
     ]
    }
   ],
   "source": [
    "#  Print all even numbers from 2 to 20\n",
    "for i in range(2,21,2):\n",
    "    print(i,end=\",\")\n",
    "    "
   ]
  },
  {
   "cell_type": "code",
   "execution_count": 462,
   "id": "1655d334-122e-48b6-bb17-b7f525f82dfd",
   "metadata": {},
   "outputs": [
    {
     "name": "stdout",
     "output_type": "stream",
     "text": [
      "3,6,9,12,15,"
     ]
    }
   ],
   "source": [
    "# Print the first 5 multiples of 3\n",
    "'''for i in range(3,16,3):\n",
    "    print(i)'''\n",
    "    #OR\n",
    "for i in range(1,6):\n",
    "    print(i*3,end=\",\")"
   ]
  },
  {
   "cell_type": "code",
   "execution_count": 474,
   "id": "e5317c1a-71e7-45c4-812c-17eb9530a103",
   "metadata": {},
   "outputs": [
    {
     "name": "stdout",
     "output_type": "stream",
     "text": [
      "10\n",
      "9\n",
      "8\n",
      "7\n",
      "6\n",
      "5\n",
      "4\n",
      "3\n",
      "2\n",
      "1\n"
     ]
    }
   ],
   "source": [
    "#Print all numbers from 10 to 1 in reverse\n",
    "for i in range(10,0,-1):\n",
    "    print(i) "
   ]
  },
  {
   "cell_type": "code",
   "execution_count": 477,
   "id": "1680c52e-51de-40d4-a00d-dc723de254de",
   "metadata": {},
   "outputs": [
    {
     "name": "stdout",
     "output_type": "stream",
     "text": [
      "1\n",
      "4\n",
      "9\n",
      "16\n",
      "25\n"
     ]
    }
   ],
   "source": [
    "# Print the square of numbers from 1 to 5\n",
    "for i in range(1,6):\n",
    "    print(i*i)"
   ]
  },
  {
   "cell_type": "code",
   "execution_count": 480,
   "id": "157494fc-e174-4a05-ab5f-aa1fdaf736b4",
   "metadata": {},
   "outputs": [
    {
     "name": "stdout",
     "output_type": "stream",
     "text": [
      "1,2,3,4,5,"
     ]
    }
   ],
   "source": [
    "# print the elements of a list\n",
    "my_list=[1,2,3,4,5]\n",
    "for item in my_list:\n",
    "    print(item,end=\",\")"
   ]
  },
  {
   "cell_type": "code",
   "execution_count": 486,
   "id": "3223a347-4eba-4426-b9d1-31ae65ca9862",
   "metadata": {},
   "outputs": [
    {
     "name": "stdout",
     "output_type": "stream",
     "text": [
      "hello\n",
      "hello\n",
      "hello\n",
      "hello\n"
     ]
    }
   ],
   "source": [
    "# print hello 4 times\n",
    "for i in range(4):\n",
    "    print(\"hello\")"
   ]
  },
  {
   "cell_type": "code",
   "execution_count": 489,
   "id": "3d3827ce-528e-4a15-a6af-dfacb8e35399",
   "metadata": {},
   "outputs": [
    {
     "name": "stdout",
     "output_type": "stream",
     "text": [
      "1,3,5,7,9,11,13,15,17,19,"
     ]
    }
   ],
   "source": [
    "# Print first 10 odd numbers\n",
    "for i in range (1,20,2):\n",
    "    print(i,end=\",\")"
   ]
  },
  {
   "cell_type": "code",
   "execution_count": 490,
   "id": "edf2c550-d2f7-49e1-895f-b99686913826",
   "metadata": {},
   "outputs": [
    {
     "name": "stdout",
     "output_type": "stream",
     "text": [
      "1 1\n",
      "2 4\n",
      "3 9\n",
      "4 16\n",
      "5 25\n"
     ]
    }
   ],
   "source": [
    "#Print numbers from 1 to 5 along with their squares\n",
    "for i in range (1,6):\n",
    "    print(i,i*i)"
   ]
  },
  {
   "cell_type": "code",
   "execution_count": 491,
   "id": "371ee4b4-d6a3-41c7-8a4a-1cea69b62e99",
   "metadata": {},
   "outputs": [
    {
     "name": "stdout",
     "output_type": "stream",
     "text": [
      "a\n",
      "m\n",
      "a\n",
      "n\n"
     ]
    }
   ],
   "source": [
    "# Print each letter of a string\n",
    "name=\"aman\"\n",
    "for letter in name:\n",
    "    print(letter)"
   ]
  },
  {
   "cell_type": "code",
   "execution_count": 492,
   "id": "6465de2d-f066-4ba1-a9df-c860b9dd24a8",
   "metadata": {},
   "outputs": [
    {
     "name": "stdout",
     "output_type": "stream",
     "text": [
      "3\n",
      "6\n",
      "9\n",
      "12\n",
      "15\n",
      "18\n",
      "21\n",
      "24\n",
      "27\n",
      "30\n"
     ]
    }
   ],
   "source": [
    "# Print numbers divisible by 3 from 1 to 30\n",
    "for i in range(1,31):\n",
    "    if i%3==0:\n",
    "        print(i)"
   ]
  },
  {
   "cell_type": "code",
   "execution_count": 494,
   "id": "126e4b0d-6ebb-412a-8971-7c4f09ada9a3",
   "metadata": {},
   "outputs": [
    {
     "name": "stdin",
     "output_type": "stream",
     "text": [
      "enter a number 11\n"
     ]
    },
    {
     "name": "stdout",
     "output_type": "stream",
     "text": [
      "11,22,33,44,55,66,77,88,99,110,"
     ]
    }
   ],
   "source": [
    "# Print multiplication table of any number given by user\n",
    "number=int(input(\"enter a number\"))\n",
    "for i in range(1,11):\n",
    "    print(i*number,end=\",\")"
   ]
  },
  {
   "cell_type": "code",
   "execution_count": 496,
   "id": "849a66c5-0f2d-4862-8396-13bd14b199fd",
   "metadata": {},
   "outputs": [
    {
     "name": "stdout",
     "output_type": "stream",
     "text": [
      "20,18,16,14,12,10,8,6,4,2,0,-2,-4,"
     ]
    }
   ],
   "source": [
    "n=20\n",
    "for i in range (n,-5,-2):\n",
    "    print(i,end=\",\")"
   ]
  },
  {
   "cell_type": "code",
   "execution_count": 513,
   "id": "5d74ff2c-c73c-4694-b265-d8972b97c2cd",
   "metadata": {},
   "outputs": [
    {
     "name": "stdout",
     "output_type": "stream",
     "text": [
      "1 is odd\n",
      "2 is even\n",
      "3 is odd\n",
      "4 is even\n",
      "5 is odd\n",
      "6 is even\n",
      "7 is odd\n",
      "8 is even\n",
      "9 is odd\n",
      "10 is even\n",
      "11 is odd\n",
      "12 is even\n",
      "13 is odd\n",
      "14 is even\n",
      "15 is odd\n",
      "16 is even\n",
      "17 is odd\n",
      "18 is even\n",
      "19 is odd\n",
      "20 is even\n"
     ]
    }
   ],
   "source": [
    "#wap to check from1-20 which are evena and which are odd\n",
    "for i in range(1,21,):\n",
    "    if i%2==0:\n",
    "        print(i,\"is even\")\n",
    "    else:\n",
    "        print(i,\"is odd\")\n"
   ]
  },
  {
   "cell_type": "code",
   "execution_count": 543,
   "id": "bde9faed-84bb-4fa1-934d-81d5544c058f",
   "metadata": {},
   "outputs": [
    {
     "name": "stdin",
     "output_type": "stream",
     "text": [
      "enter a number 10\n"
     ]
    },
    {
     "name": "stdout",
     "output_type": "stream",
     "text": [
      "1\n",
      "3\n",
      "6\n",
      "10\n",
      "15\n",
      "21\n",
      "28\n",
      "36\n",
      "45\n",
      "55\n"
     ]
    }
   ],
   "source": [
    "#wap for sum of first n natural number\n",
    "num=int(input(\"enter a number\"))\n",
    "sum = 0\n",
    "for i in range(1,num+1):\n",
    "    sum=sum+i\n",
    "    print(sum)"
   ]
  },
  {
   "cell_type": "code",
   "execution_count": 552,
   "id": "19e57b3e-66ad-4067-ae19-01e613fd40a4",
   "metadata": {},
   "outputs": [
    {
     "name": "stdin",
     "output_type": "stream",
     "text": [
      "enter a number 700\n"
     ]
    },
    {
     "name": "stdout",
     "output_type": "stream",
     "text": [
      "350\n"
     ]
    }
   ],
   "source": [
    "\n",
    "n=int(input(\"enter a number\"))\n",
    "count=0\n",
    "for i in range (1,n+1):\n",
    "    if i%2==0:\n",
    "        count=count+1\n",
    "print(count)\n",
    "      "
   ]
  },
  {
   "cell_type": "code",
   "execution_count": 557,
   "id": "3877c068-fa64-458e-b4d8-82ba6292cc8a",
   "metadata": {},
   "outputs": [
    {
     "name": "stdout",
     "output_type": "stream",
     "text": [
      "9\n"
     ]
    }
   ],
   "source": [
    "# same question on above but on list\n",
    "a=[1,2,3,4,5,6,7,8,9,11,12,13,14,15,16,17,18,19,20]\n",
    "count=0\n",
    "for i in (a):\n",
    "    if i%2==0:\n",
    "        count +=1\n",
    "print(count)\n"
   ]
  },
  {
   "cell_type": "code",
   "execution_count": 561,
   "id": "56d8adb0-7d24-4dc3-bee7-95a37da29597",
   "metadata": {},
   "outputs": [
    {
     "name": "stdout",
     "output_type": "stream",
     "text": [
      "11\n"
     ]
    }
   ],
   "source": [
    "#Count how many numbers are greater than 10\n",
    "a=[1,2,3,4,5,6,7,8,9,10,11,12,13,141,51,544,5,784,974,87454,8754,7974,7,]\n",
    "count=0\n",
    "for i in (a):\n",
    "    if i>10:\n",
    "        count +=1\n",
    "print(count)\n",
    "    "
   ]
  },
  {
   "cell_type": "code",
   "execution_count": 72,
   "id": "13ea72b4-ef52-421f-adcb-c0097ec8c3df",
   "metadata": {},
   "outputs": [
    {
     "name": "stdout",
     "output_type": "stream",
     "text": [
      "[2, 4, 6, 8, 10, 12, 544, 784, 974, 87454, 8754, 7974]\n"
     ]
    }
   ],
   "source": [
    "#Create a new list with only even numbers\n",
    "a=[1,2,3,4,5,6,7,8,9,10,11,12,13,141,51,544,5,784,974,87454,8754,7974,7,]\n",
    "even=[]\n",
    "for i in a:\n",
    "    if i%2==0:\n",
    "        even.append(i) \n",
    "print(even)"
   ]
  },
  {
   "cell_type": "code",
   "execution_count": 5,
   "id": "d1439ef4-ce25-406d-9eb0-d6c41c42774e",
   "metadata": {},
   "outputs": [
    {
     "name": "stdout",
     "output_type": "stream",
     "text": [
      "2\n"
     ]
    }
   ],
   "source": [
    "#Count how many strings are longer than 3 letters\n",
    "a=['sun','heat','car','hot','land','hi']\n",
    "count=0\n",
    "for words in a:\n",
    "    if len(words)>3:\n",
    "        count += 1\n",
    "print(count)"
   ]
  },
  {
   "cell_type": "code",
   "execution_count": 74,
   "id": "f84a2928-3a68-44ce-a04b-fa304b2bb77a",
   "metadata": {},
   "outputs": [
    {
     "name": "stdout",
     "output_type": "stream",
     "text": [
      "[2, 50, 72, 110, 128, 1690, 1702, 16902, 168, 128, 162]\n"
     ]
    }
   ],
   "source": [
    "#Create a new list of squares of numbers\n",
    "a=[1,25,36,55,64,845,851,8451,84,64,81]\n",
    "square = []\n",
    "for i in a:\n",
    "    square.append(i*2)\n",
    "print(square)"
   ]
  },
  {
   "cell_type": "code",
   "execution_count": 14,
   "id": "bd28f0b0-3d01-48d5-a3f7-c6fa3a2636c4",
   "metadata": {},
   "outputs": [
    {
     "name": "stdout",
     "output_type": "stream",
     "text": [
      "7\n"
     ]
    }
   ],
   "source": [
    "#Count how many numbers are divisible by 5\n",
    "a=[10,15,18,20,35,30,64,97,65,24,77,88,99,44,99,56,55]\n",
    "count=0\n",
    "for i in a:\n",
    "    if i%5==0:\n",
    "        count +=1\n",
    "print(count)"
   ]
  },
  {
   "cell_type": "code",
   "execution_count": 16,
   "id": "c91ba4cf-79fa-460b-ab96-1029f2527353",
   "metadata": {},
   "outputs": [
    {
     "name": "stdout",
     "output_type": "stream",
     "text": [
      "a\n",
      "a\n"
     ]
    }
   ],
   "source": [
    "#Print each vowel in a string\n",
    "text=\"alpha\"\n",
    "for ch in text:\n",
    "    if ch in 'aeiou':\n",
    "        print(ch)"
   ]
  },
  {
   "cell_type": "code",
   "execution_count": 32,
   "id": "6f225792-1183-4705-9949-a14bf2a5b601",
   "metadata": {},
   "outputs": [
    {
     "name": "stdout",
     "output_type": "stream",
     "text": [
      "apple\n",
      "air\n"
     ]
    }
   ],
   "source": [
    "#Print names that start with 'a'\n",
    "a=['sun','heat','car','hot','land','hi','apple','air']\n",
    "for i in a:\n",
    "    if i[0]==\"a\":\n",
    "        print(i)"
   ]
  },
  {
   "cell_type": "code",
   "execution_count": 39,
   "id": "0d9e87bf-697d-414f-95c5-67d98faf9fa2",
   "metadata": {},
   "outputs": [
    {
     "name": "stdout",
     "output_type": "stream",
     "text": [
      "4\n"
     ]
    }
   ],
   "source": [
    "#Count how many vowels are in the string \"python programming\" using a for loop.\n",
    "a=\"python programming\"\n",
    "count=0\n",
    "for i in a:\n",
    "    if i in 'aeiou':\n",
    "        count += 1\n",
    "print(count)"
   ]
  },
  {
   "cell_type": "code",
   "execution_count": 40,
   "id": "9a05db82-e2d1-45df-9202-23758bfed6e2",
   "metadata": {},
   "outputs": [
    {
     "name": "stdout",
     "output_type": "stream",
     "text": [
      "3\n",
      "6\n",
      "9\n",
      "12\n",
      "18\n",
      "21\n",
      "24\n",
      "27\n",
      "33\n",
      "36\n",
      "39\n",
      "42\n",
      "48\n"
     ]
    }
   ],
   "source": [
    "#Print all numbers divisible by 3 but not by 5 from 1 to 50\n",
    "for i in range(1,51):\n",
    "    if i%3==0 and i%5!=0:\n",
    "        print(i)"
   ]
  },
  {
   "cell_type": "code",
   "execution_count": 58,
   "id": "b647aa01-a197-46b9-92b0-897831da0bfe",
   "metadata": {},
   "outputs": [
    {
     "name": "stdout",
     "output_type": "stream",
     "text": [
      "Amaan\n",
      "Raj\n"
     ]
    }
   ],
   "source": [
    " #From a dictionary of marks, print only the names of students who scored above 75\n",
    "Dictionary= {\"Amaan\": 90, \"Tina\": 60, \"Raj\": 78, \"Ali\": 50}\n",
    "for i in Dictionary:\n",
    "    if Dictionary[i]>75:\n",
    "        print(i)"
   ]
  },
  {
   "cell_type": "code",
   "execution_count": 60,
   "id": "f7c6feb6-6624-4bd6-981a-124b2de7c9e9",
   "metadata": {},
   "outputs": [
    {
     "name": "stdout",
     "output_type": "stream",
     "text": [
      "7650\n"
     ]
    }
   ],
   "source": [
    "# Find the sum of all even numbers from 100 to 200 using range()\n",
    "sum=0\n",
    "for i in range(100,201):\n",
    "    if i%2==0:\n",
    "        sum += i\n",
    "print(sum)\n",
    "    "
   ]
  },
  {
   "cell_type": "code",
   "execution_count": 87,
   "id": "a4479ad2-5ffb-4640-9038-3af082fae2f8",
   "metadata": {},
   "outputs": [
    {
     "name": "stdin",
     "output_type": "stream",
     "text": [
      "enter a number 10\n"
     ]
    },
    {
     "name": "stdout",
     "output_type": "stream",
     "text": [
      "sum of even is 30\n",
      "sum of odd is 25\n",
      "count of even is 5\n",
      "count of odd is 5\n"
     ]
    }
   ],
   "source": [
    "#wap to print the sum and count of first n even and odd number \n",
    "a=int(input(\"enter a number\"))\n",
    "sum_of_even=0\n",
    "sum_of_odd=0\n",
    "count_of_even=0\n",
    "count_of_odd=0\n",
    "for i in range (1,a+1):\n",
    "    if i%2==0:\n",
    "        sum_of_even = sum_of_even+i\n",
    "        count_of_even +=1\n",
    "    else:\n",
    "        sum_of_odd=sum_of_odd+i\n",
    "        count_of_odd +=1\n",
    "print(\"sum of even is\",sum_of_even)\n",
    "print(\"sum of odd is\",sum_of_odd)\n",
    "print(\"count of even is\",count_of_even)\n",
    "print(\"count of odd is\",count_of_odd)\n",
    "            \n",
    "\n",
    "\n"
   ]
  },
  {
   "cell_type": "code",
   "execution_count": 93,
   "id": "5dd13dcd-abfc-46be-9427-a4edc4df7450",
   "metadata": {},
   "outputs": [
    {
     "name": "stdin",
     "output_type": "stream",
     "text": [
      "enter a number 5\n"
     ]
    },
    {
     "name": "stdout",
     "output_type": "stream",
     "text": [
      "120\n"
     ]
    }
   ],
   "source": [
    "#factorail \n",
    "a=int(input(\"enter a number\"))\n",
    "factorial = 1\n",
    "for i in range (1,a+1):\n",
    "    factorial *=i\n",
    "print(factorial)\n",
    "    "
   ]
  },
  {
   "cell_type": "code",
   "execution_count": null,
   "id": "35d325b7-32d6-48b2-85ce-b66be8c35ce3",
   "metadata": {},
   "outputs": [
    {
     "name": "stdin",
     "output_type": "stream",
     "text": [
      "enter a number 59416521588791584\n"
     ]
    }
   ],
   "source": [
    "a=int(input(\"enter a number\"))\n",
    "factorial=1\n",
    "for i in range(1,a+1):\n",
    "    factorial *=i\n",
    "print(factorial)"
   ]
  },
  {
   "cell_type": "code",
   "execution_count": null,
   "id": "a6110d18-8f4c-4884-a0f8-25a563343443",
   "metadata": {},
   "outputs": [],
   "source": [
    "#fibonachi series\n",
    "a=0\n",
    "b=1\n",
    "n=int(input(\"enter a number\"))\n",
    "print(a,b,end=\" \")\n",
    "for i in range (2,n):\n",
    "    c=a+b\n",
    "    print(c,end=\" \")\n",
    "    a=b\n",
    "    b=c\n"
   ]
  },
  {
   "cell_type": "code",
   "execution_count": 133,
   "id": "97c1c467-f1c3-4e88-805d-e0c87afe6c44",
   "metadata": {},
   "outputs": [
    {
     "name": "stdout",
     "output_type": "stream",
     "text": [
      "2\n"
     ]
    }
   ],
   "source": [
    "#Python program to count the total number of digits in a number.\n",
    "num=12\n",
    "int_num=str(num)\n",
    "count=0\n",
    "for i in int_num:\n",
    "    count +=1\n",
    "print(count)"
   ]
  },
  {
   "cell_type": "code",
   "execution_count": 191,
   "id": "8ecc77de-8d55-4f90-be37-12714bc9e4c3",
   "metadata": {},
   "outputs": [
    {
     "name": "stdin",
     "output_type": "stream",
     "text": [
      "enter something 123tanish\n"
     ]
    },
    {
     "name": "stdout",
     "output_type": "stream",
     "text": [
      "3\n",
      "6\n"
     ]
    }
   ],
   "source": [
    "#Python program that accepts a string and calculates the number of digits and letters.\n",
    "a=input(\"enter something\")\n",
    "count_digit=0\n",
    "count_letters=0\n",
    "for i in a:\n",
    "    if i.isdigit():\n",
    "        count_digit +=1\n",
    "    else:\n",
    "        count_letters +=1\n",
    "print(count_digit)\n",
    "print(count_letters)"
   ]
  },
  {
   "cell_type": "code",
   "execution_count": 194,
   "id": "c71e018a-6043-46c0-9508-466f489ace4b",
   "metadata": {},
   "outputs": [
    {
     "name": "stdout",
     "output_type": "stream",
     "text": [
      "3\n"
     ]
    }
   ],
   "source": [
    "#wap to count the vowels in a given string \"hello world\"\n",
    "a=\"hello world\"\n",
    "count=0\n",
    "for i in a:\n",
    "    if i in 'aeiou':\n",
    "        count +=1\n",
    "print(count)"
   ]
  },
  {
   "cell_type": "code",
   "execution_count": 198,
   "id": "82585def-bfc3-4c14-9a2d-3990ce8d06a2",
   "metadata": {},
   "outputs": [
    {
     "name": "stdin",
     "output_type": "stream",
     "text": [
      "enter something aryan@123\n"
     ]
    },
    {
     "name": "stdout",
     "output_type": "stream",
     "text": [
      "count of digit is 3\n",
      "count of alpha is 5\n",
      "count of special is 1\n"
     ]
    }
   ],
   "source": [
    "#wap to count no of digit,alphabet and special character\n",
    "a=input(\"enter something\")\n",
    "count_digit=0\n",
    "count_alpha=0\n",
    "count_special=0\n",
    "for i in a:\n",
    "    if i.isdigit():\n",
    "        count_digit +=1\n",
    "    elif i.isalpha():\n",
    "        count_alpha +=1\n",
    "    else:\n",
    "        count_special +=1\n",
    "print(\"count of digit is\",count_digit)\n",
    "print(\"count of alpha is\",count_alpha)\n",
    "print(\"count of special is\",count_special)\n"
   ]
  },
  {
   "cell_type": "code",
   "execution_count": 261,
   "id": "20d53b0f-9bca-4cef-93df-b4633c77c7e3",
   "metadata": {},
   "outputs": [
    {
     "name": "stdout",
     "output_type": "stream",
     "text": [
      "count of vowel is 6\n",
      "count of consonant is 8\n",
      "count of special is 6\n"
     ]
    }
   ],
   "source": [
    "#wap to count special character vowel and consonant\n",
    "a=\"welcome to a city@#$\"\n",
    "vowels = \"aeiouAEIOU\"\n",
    "s_ch = \"@#$%^&* \"\n",
    "count_special=0\n",
    "count_vowel=0\n",
    "count_consonant=0\n",
    "for i in a:\n",
    "    if i in vowels:\n",
    "        count_vowel +=1\n",
    "    elif i in s_ch:\n",
    "        count_special +=1\n",
    "    else:\n",
    "        count_consonant +=1\n",
    "print(\"count of vowel is\",count_vowel)\n",
    "print(\"count of consonant is\",count_consonant)\n",
    "print(\"count of special is\",count_special)"
   ]
  },
  {
   "cell_type": "code",
   "execution_count": null,
   "id": "b5acc009-eeb9-4ff7-b843-267d87d1f39d",
   "metadata": {},
   "outputs": [],
   "source": [
    " #prime number (range is from 2,n as if n+1 then almost every element would divide ut by it self ex if 7 and n+1 goes to 7 so 7/7=1)\n",
    "n=int(input(\"enter a number\"))\n",
    "if n==0 or n==1:\n",
    "    print(\"not a prime number\")\n",
    "elif n>1:\n",
    "    for i in range(2,n):\n",
    "        if n%i==0:\n",
    "            print(n,\"not a prime number\")\n",
    "            break\n",
    "    else:\n",
    "            print(n,\"prime number\")\n",
    "else:\n",
    "    print(n,\"not a prime number\")"
   ]
  },
  {
   "cell_type": "code",
   "execution_count": 246,
   "id": "b617d5de-3fef-45bd-bd63-efb9a28579a2",
   "metadata": {},
   "outputs": [
    {
     "name": "stdout",
     "output_type": "stream",
     "text": [
      "5\n"
     ]
    }
   ],
   "source": [
    "#Count How Many Times a Digit Appears in a Number\n",
    "a=33453339\n",
    "count=0\n",
    "for i in str(a):\n",
    "    if i=='3':\n",
    "        count +=1\n",
    "print(count)"
   ]
  },
  {
   "cell_type": "code",
   "execution_count": 247,
   "id": "3b54fcf6-f89b-4fce-a49f-06e3951dbf76",
   "metadata": {},
   "outputs": [
    {
     "name": "stdout",
     "output_type": "stream",
     "text": [
      "[2, 4, 5, 6, 7]\n"
     ]
    }
   ],
   "source": [
    "# Remove Duplicates from a List (without using set)\n",
    "numbers = [2, 4, 5, 2, 4, 6, 7, 5]\n",
    "unique=[]\n",
    "for i in numbers:\n",
    "    if i not in unique:\n",
    "        unique.append(i)\n",
    "print(unique)"
   ]
  },
  {
   "cell_type": "code",
   "execution_count": null,
   "id": "b85ed062-7282-4bbe-89dd-861e738faa71",
   "metadata": {},
   "outputs": [],
   "source": [
    "# pattern printing questions\n",
    "# i always tells us about the movement \n",
    "#j always tells us about will always print and always change in j for all kind of question"
   ]
  },
  {
   "cell_type": "code",
   "execution_count": 302,
   "id": "8546f0f9-fed9-4dce-8032-ab39e8bae590",
   "metadata": {},
   "outputs": [
    {
     "name": "stdout",
     "output_type": "stream",
     "text": [
      "* * * * * \n",
      "* * * * * \n",
      "* * * * * \n",
      "* * * * * \n",
      "* * * * * \n"
     ]
    }
   ],
   "source": [
    "#square\n",
    "n=5\n",
    "for i in range(n):\n",
    "    for j in range(n):\n",
    "        print(\"*\",end=\" \")\n",
    "    print()"
   ]
  },
  {
   "cell_type": "code",
   "execution_count": 271,
   "id": "2c80654c-e714-4925-bbf2-10cd06e1d9b2",
   "metadata": {},
   "outputs": [
    {
     "name": "stdout",
     "output_type": "stream",
     "text": [
      "* \n",
      "* * \n",
      "* * * \n",
      "* * * * \n",
      "* * * * * \n"
     ]
    }
   ],
   "source": [
    "#right angle triangle\n",
    "n=5\n",
    "for i in range(n):\n",
    "    for j in range(i+1):\n",
    "        print(\"*\",end=\" \")\n",
    "    print()\n"
   ]
  },
  {
   "cell_type": "code",
   "execution_count": 278,
   "id": "cf2268a8-c669-47de-83ec-664f24870c92",
   "metadata": {},
   "outputs": [
    {
     "name": "stdout",
     "output_type": "stream",
     "text": [
      "* * * * * \n",
      "* * * * \n",
      "* * * \n",
      "* * \n",
      "* \n"
     ]
    }
   ],
   "source": [
    "#inverted right triangle\n",
    "#1st->5(n)-0(n)=5, 5(n)-1(i)=4\n",
    "n=5\n",
    "for i in range(n):\n",
    "    for j in range(n-i):\n",
    "        print(\"*\",end=\" \")\n",
    "    print()"
   ]
  },
  {
   "cell_type": "code",
   "execution_count": 28,
   "id": "a950cbcc-974d-46fd-b1c9-ef891cc8e361",
   "metadata": {},
   "outputs": [
    {
     "name": "stdout",
     "output_type": "stream",
     "text": [
      "        * \n",
      "      * * \n",
      "    * * * \n",
      "  * * * * \n",
      "* * * * * \n"
     ]
    }
   ],
   "source": [
    "#left angle triangle\n",
    "n=5\n",
    "for i in range(n):\n",
    "    for j in range(n-i-1):\n",
    "        print(\" \",end=\" \")\n",
    "    for j in range(i+1):\n",
    "            print(\"*\",end=\" \")\n",
    "    print()"
   ]
  },
  {
   "cell_type": "code",
   "execution_count": 422,
   "id": "9b410cc4-85cf-44e9-a3e1-af5a895da75e",
   "metadata": {},
   "outputs": [
    {
     "name": "stdout",
     "output_type": "stream",
     "text": [
      "* * * * * \n",
      "  * * * * \n",
      "    * * * \n",
      "      * * \n",
      "        * \n"
     ]
    }
   ],
   "source": [
    "#inverted left angle trianle \n",
    "n=5\n",
    "for i in range(n):\n",
    "    for j in range(i):\n",
    "        print(\" \",end=\" \")\n",
    "    for j in range(n-i):\n",
    "          print(\"*\",end=\" \")\n",
    "    print()\n",
    "      "
   ]
  },
  {
   "cell_type": "code",
   "execution_count": 314,
   "id": "cac7693a-25ef-4db6-8a90-b5f73d0203ef",
   "metadata": {},
   "outputs": [
    {
     "name": "stdout",
     "output_type": "stream",
     "text": [
      "1 2 3 4 5 \n",
      "1 2 3 4 5 \n",
      "1 2 3 4 5 \n",
      "1 2 3 4 5 \n",
      "1 2 3 4 5 \n"
     ]
    }
   ],
   "source": [
    "n=5\n",
    "for i in range(n):\n",
    "        for j in range(1,6):\n",
    "            print(j,end=\" \")\n",
    "        print()"
   ]
  },
  {
   "cell_type": "code",
   "execution_count": 358,
   "id": "4581d76f-6a32-482b-b5b8-a582544b71cd",
   "metadata": {},
   "outputs": [
    {
     "name": "stdout",
     "output_type": "stream",
     "text": [
      "1 \n",
      "1 2 \n",
      "1 2 3 \n",
      "1 2 3 4 \n",
      "1 2 3 4 5 \n"
     ]
    }
   ],
   "source": [
    " for i in range(1,6):\n",
    "    for j in range(1,i+1):\n",
    "        print(j,end=\" \")\n",
    "    print()"
   ]
  },
  {
   "cell_type": "code",
   "execution_count": 423,
   "id": "bae89e3a-911b-421d-9de4-31f5b3c4e71d",
   "metadata": {},
   "outputs": [
    {
     "name": "stdout",
     "output_type": "stream",
     "text": [
      "12345\n",
      "1234\n",
      "123\n",
      "12\n",
      "1\n"
     ]
    }
   ],
   "source": [
    "n=5\n",
    "for i in range(1,6):\n",
    "    for j in range(1,n-i+2):\n",
    "        print(j,end=\"\")\n",
    "    print()"
   ]
  },
  {
   "cell_type": "code",
   "execution_count": 349,
   "id": "0b205351-8bcb-4720-ba5e-d34879de9620",
   "metadata": {},
   "outputs": [
    {
     "name": "stdout",
     "output_type": "stream",
     "text": [
      "1 1 1 1 \n",
      "2 2 2 2 \n",
      "3 3 3 3 \n",
      "4 4 4 4 \n"
     ]
    }
   ],
   "source": [
    "n=5\n",
    "for i in range(1,5):\n",
    "    for j in range(1,n):\n",
    "        print(i,end=\" \")\n",
    "    print()"
   ]
  },
  {
   "cell_type": "code",
   "execution_count": 356,
   "id": "876fa552-8cc1-4e18-abaa-bde9bc5ff128",
   "metadata": {},
   "outputs": [
    {
     "name": "stdout",
     "output_type": "stream",
     "text": [
      "1 \n",
      "2 2 \n",
      "3 3 3 \n",
      "4 4 4 4 \n",
      "5 5 5 5 5 \n"
     ]
    }
   ],
   "source": [
    "\n",
    "for i in range(1,6):\n",
    "    for j in range(i):\n",
    "        print(i,end=\" \")\n",
    "    print()"
   ]
  },
  {
   "cell_type": "code",
   "execution_count": 366,
   "id": "d7c738ee-936f-473f-99a6-ab3cbaa1f611",
   "metadata": {},
   "outputs": [
    {
     "name": "stdout",
     "output_type": "stream",
     "text": [
      "5 \n",
      "5 4 \n",
      "5 4 3 \n",
      "5 4 3 2 \n",
      "5 4 3 2 1 \n"
     ]
    }
   ],
   "source": [
    "for i in range(1,6):\n",
    "    for j in range(5,5-i,-1):\n",
    "        print(j,end=\" \")\n",
    "    print()\n"
   ]
  },
  {
   "cell_type": "code",
   "execution_count": 37,
   "id": "4af42b15-e5a8-42ee-84b8-8d638ff104f1",
   "metadata": {},
   "outputs": [
    {
     "name": "stdout",
     "output_type": "stream",
     "text": [
      "5 4 3 2 1 \n",
      "5 4 3 2 \n",
      "5 4 3 \n",
      "5 4 \n",
      "5 \n",
      "\n",
      "\n",
      "\n"
     ]
    }
   ],
   "source": [
    "for i in range(1,6):\n",
    "    for j in range(5,i-1,-1):\n",
    "        print(j,end=\" \")\n",
    "    print()"
   ]
  },
  {
   "cell_type": "code",
   "execution_count": 51,
   "id": "421c0a8a-4b38-45ad-99f4-1bb4e2426967",
   "metadata": {},
   "outputs": [
    {
     "name": "stdout",
     "output_type": "stream",
     "text": [
      "        * \n",
      "      * * * \n",
      "    * * * * * \n",
      "  * * * * * * * \n",
      "* * * * * * * * * \n"
     ]
    }
   ],
   "source": [
    "#loop don't have as such as overlapping\n",
    "#pyramid \n",
    "n=5\n",
    "for i in range(n):\n",
    "    for j in range(n-i-1):\n",
    "        print(\" \",end=\" \")\n",
    "    for j in range(2*i+1):\n",
    "        print(\"*\",end=\" \")\n",
    "    print()"
   ]
  },
  {
   "cell_type": "code",
   "execution_count": 74,
   "id": "c9178a02-bf55-4c31-958d-8ee042f1fc35",
   "metadata": {},
   "outputs": [
    {
     "name": "stdout",
     "output_type": "stream",
     "text": [
      "* * * * * * * * * \n",
      "  * * * * * * * \n",
      "    * * * * * \n",
      "      * * * \n",
      "        * \n"
     ]
    }
   ],
   "source": [
    "#we solve this questioon in chunks\n",
    "#first for loop is for printing space \n",
    "#second for loop is for priting *\n",
    "#third for loop is for print left star as we are assuming that this inverted pyramidd is made up one inverted left angle triangle and\n",
    "#one inverted right anfle triangle so this last for loopis to print inverted right angle traiangle\n",
    "n=5\n",
    "for i in range(n):\n",
    "    for j in range(i):\n",
    "        print(\" \",end=\" \")\n",
    "    for j in range(n-i):\n",
    "        print(\"*\",end=\" \")\n",
    "    for j in range(n-i-1):\n",
    "        print(\"*\",end=\" \")\n",
    "    print()"
   ]
  },
  {
   "cell_type": "code",
   "execution_count": 30,
   "id": "9175d78c-ea76-4cde-8a54-fdef129ee689",
   "metadata": {},
   "outputs": [
    {
     "name": "stdin",
     "output_type": "stream",
     "text": [
      "enter a number 6\n"
     ]
    },
    {
     "name": "stdout",
     "output_type": "stream",
     "text": [
      "          A \n",
      "        A B C \n",
      "      A B C D E \n",
      "    A B C D E F G \n",
      "  A B C D E F G H I \n",
      "A B C D E F G H I J K \n"
     ]
    }
   ],
   "source": [
    "n=int(input(\"enter a number\"))\n",
    "for i in range(n):\n",
    "    for j in range(n-i-1):\n",
    "        print(\" \",end=\" \")\n",
    "    for j in range(2*i+1):\n",
    "        print(chr(65+j),end=\" \")\n",
    "    print()"
   ]
  },
  {
   "cell_type": "code",
   "execution_count": 69,
   "id": "92a0c648-41ba-4917-bb80-46ef3ed50853",
   "metadata": {},
   "outputs": [
    {
     "name": "stdout",
     "output_type": "stream",
     "text": [
      "        * \n",
      "      * * * \n",
      "    * * * * * \n",
      "  * * * * * * * \n",
      "* * * * * * * * * \n",
      "  * * * * * * * \n",
      "    * * * * * \n",
      "      * * * \n",
      "        * \n",
      "          \n"
     ]
    }
   ],
   "source": [
    "#for diamond we combine two programs\n",
    "#for uppar part we definr a variable then write a program for pyramid\n",
    "#for lower part we define a variable k and then write a program for inverted pyramid\n",
    "n=5\n",
    "\n",
    "for i in range(n):\n",
    "    for j in range(n-i-1):\n",
    "        print(\" \",end=\" \")\n",
    "    for j in range(2*i+1):\n",
    "        print(\"*\",end=\" \")\n",
    "    print()\n",
    "k = 5\n",
    "for i in range(k):\n",
    "    for j in range(i+1):\n",
    "        print(\" \",end=\" \")\n",
    "    for j in range(k-i-2):\n",
    "        print(\"*\",end=\" \")\n",
    "    for j in range(k-i-1):\n",
    "        print(\"*\",end=\" \")\n",
    "    print()\n",
    "    "
   ]
  },
  {
   "cell_type": "code",
   "execution_count": 74,
   "id": "c849165b-3574-413a-9a25-ae1d1c4d7e88",
   "metadata": {},
   "outputs": [
    {
     "name": "stdout",
     "output_type": "stream",
     "text": [
      "        * \n",
      "      * * * \n",
      "    * * * * * \n",
      "  * * * * * * * \n",
      "* * * * * * * * * \n",
      "  # # # $ $ $ $ \n",
      "    # # $ $ $ \n",
      "      # $ $ \n",
      "        $ \n",
      "          \n"
     ]
    }
   ],
   "source": [
    "n=5\n",
    "for i in range(n):\n",
    "    for j in range(n-i-1):\n",
    "        print(\" \",end=\" \")\n",
    "    for j in range(2*i+1):\n",
    "        print(\"*\",end=\" \")\n",
    "    print()\n",
    "k=5\n",
    "for i in range(k):\n",
    "    for j in range(i+1):\n",
    "        print(\" \",end=\" \")\n",
    "    for j in range(k-i-2):\n",
    "        print(\"#\",end=\" \")\n",
    "    for j in range(k-i-1):\n",
    "        print(\"$\",end=\" \")\n",
    "    print()"
   ]
  },
  {
   "cell_type": "code",
   "execution_count": 92,
   "id": "9d6b7cfa-8dbe-482b-b158-515b69db6f1d",
   "metadata": {},
   "outputs": [
    {
     "name": "stdout",
     "output_type": "stream",
     "text": [
      "Amit\n"
     ]
    }
   ],
   "source": [
    "# some imp methods of strings that we will use in program\n",
    "a=\"amit\"\n",
    "print(a.title())\n",
    "\n",
    "#capitalise first letter"
   ]
  },
  {
   "cell_type": "code",
   "execution_count": 93,
   "id": "a2be9fd4-9c60-44c4-a9f9-f72732d8f0c0",
   "metadata": {},
   "outputs": [
    {
     "name": "stdout",
     "output_type": "stream",
     "text": [
      "65\n",
      "D\n"
     ]
    }
   ],
   "source": [
    "print(ord(\"A\")) #it will print the ascii value of a character\n",
    "print(chr(68)) #it will print on 68th colomn what ascii value is there"
   ]
  },
  {
   "cell_type": "code",
   "execution_count": 95,
   "id": "ef8e121c-1b9a-41c0-8870-b15b5564240c",
   "metadata": {},
   "outputs": [
    {
     "data": {
      "text/plain": [
       "'Welcomr To Bhopal'"
      ]
     },
     "execution_count": 95,
     "metadata": {},
     "output_type": "execute_result"
    }
   ],
   "source": [
    "a=\"welcomr to bhopal\"\n",
    "a.title()\n",
    "#capatalise all the first word"
   ]
  },
  {
   "cell_type": "code",
   "execution_count": 97,
   "id": "58f50abf-d8cd-48f5-8571-c85ede68f8f2",
   "metadata": {},
   "outputs": [
    {
     "data": {
      "text/plain": [
       "'WELCOMR TO BHOPAL'"
      ]
     },
     "execution_count": 97,
     "metadata": {},
     "output_type": "execute_result"
    }
   ],
   "source": [
    "a=\"welcomr to bhopal\"\n",
    "a.upper()\n",
    "#capatalise complete string"
   ]
  },
  {
   "cell_type": "code",
   "execution_count": 99,
   "id": "9ff6d7cb-9cd2-4eca-a633-efa87aec9736",
   "metadata": {},
   "outputs": [
    {
     "data": {
      "text/plain": [
       "'welcomr to bhopal'"
      ]
     },
     "execution_count": 99,
     "metadata": {},
     "output_type": "execute_result"
    }
   ],
   "source": [
    "a=\"welcomr to bhopal\"\n",
    "a.lower()\n",
    "#lowers all word"
   ]
  },
  {
   "cell_type": "code",
   "execution_count": 102,
   "id": "7ce371ad-8e08-4093-9472-c47c25fe925c",
   "metadata": {},
   "outputs": [
    {
     "data": {
      "text/plain": [
       "'Welcomr to bhopal'"
      ]
     },
     "execution_count": 102,
     "metadata": {},
     "output_type": "execute_result"
    }
   ],
   "source": [
    "a=\"welcomr to bhopal\"\n",
    "a.capitalize()\n",
    "#only capital first letter of string"
   ]
  },
  {
   "cell_type": "code",
   "execution_count": 105,
   "id": "ad9aaaa7-cf60-4dab-9329-aaf28a18c301",
   "metadata": {},
   "outputs": [
    {
     "name": "stdout",
     "output_type": "stream",
     "text": [
      "False\n",
      "False\n",
      "True\n"
     ]
    }
   ],
   "source": [
    "s=\"welcome123\"\n",
    "print(s.isalpha()) #give true only when complete string contain alphabet\n",
    "print(s.isdigit()) #gives true only when complete string contain digit\n",
    "print(s.isalnum()) #checks for a string which contains both number and alphabet mixture and it will give true for all wheather digit,number and combination of both\n"
   ]
  },
  {
   "cell_type": "code",
   "execution_count": 106,
   "id": "cc019dc8-8e53-49a2-a011-4d02fa053028",
   "metadata": {},
   "outputs": [
    {
     "name": "stdout",
     "output_type": "stream",
     "text": [
      "2\n"
     ]
    }
   ],
   "source": [
    "#gives count of particular thing given in the like 'a' will give count of a in string\n",
    "a=\"aryan\"\n",
    "print(a.count('a'))\n"
   ]
  },
  {
   "cell_type": "code",
   "execution_count": 19,
   "id": "743342bc-f290-422b-8f5b-e32867c7720b",
   "metadata": {},
   "outputs": [
    {
     "name": "stdout",
     "output_type": "stream",
     "text": [
      "welcame ta bhopal\n",
      "welcometobhopal\n",
      "swagat to bhopal\n",
      "welcome to bhopal\n"
     ]
    }
   ],
   "source": [
    "s=\"welcome to bhopal\"\n",
    "print(s.replace(\"o\",\"a\",2)) #will replace o to a but as 2 is defined so will work only on 2 element we can increase or decrease that value\n",
    "print(s.replace(\" \",\"\"))\n",
    "print(s.replace(\"welcome\",\"swagat\",1))\n",
    "print(s)\n"
   ]
  },
  {
   "cell_type": "code",
   "execution_count": 109,
   "id": "b6fe61c9-547c-4857-9bf3-7be12b2e17b7",
   "metadata": {},
   "outputs": [
    {
     "name": "stdout",
     "output_type": "stream",
     "text": [
      "4\n",
      "4\n"
     ]
    }
   ],
   "source": [
    "# index will only work on ekement which is ordered but find will work on element which is not ordered\n",
    "s=\"welcome to bhopal\"\n",
    "print(s.find(\"o\"))\n",
    "print(s.index(\"o\"))\n"
   ]
  },
  {
   "cell_type": "code",
   "execution_count": 110,
   "id": "e8e6d6be-7a40-4cc7-8708-0ae19b37c141",
   "metadata": {},
   "outputs": [
    {
     "name": "stdin",
     "output_type": "stream",
     "text": [
      "enter a number 5\n"
     ]
    },
    {
     "name": "stdout",
     "output_type": "stream",
     "text": [
      "0 no of times loop runs | 1 no of times loop runs | 2 no of times loop runs | 3 no of times loop runs | 4 no of times loop runs | 5 no of times loop runs | 6 is the final value of loop\n"
     ]
    }
   ],
   "source": [
    "#while loop \n",
    "i=0\n",
    "n=int(input(\"enter a number\"))\n",
    "while i<=n:\n",
    "    print(i,\"no of times loop runs\",end=\" | \")\n",
    "    i=i+1\n",
    "print(i,\"is the final value of loop\")"
   ]
  },
  {
   "cell_type": "code",
   "execution_count": 4,
   "id": "221d1ec4-f366-4a20-8299-dc9eb28d6e6c",
   "metadata": {},
   "outputs": [
    {
     "name": "stdout",
     "output_type": "stream",
     "text": [
      "45\n"
     ]
    }
   ],
   "source": [
    "i=0\n",
    "sum=0\n",
    "while i<10:\n",
    "    sum=sum+i\n",
    "    i=i+1\n",
    "print(sum)"
   ]
  },
  {
   "cell_type": "code",
   "execution_count": 11,
   "id": "a7e8d64f-702d-4d6a-9614-ba72ab3aea6e",
   "metadata": {},
   "outputs": [
    {
     "name": "stdout",
     "output_type": "stream",
     "text": [
      "10\n",
      "9\n",
      "8\n",
      "7\n",
      "6\n",
      "5\n",
      "4\n",
      "3\n",
      "2\n",
      "1\n"
     ]
    }
   ],
   "source": [
    "#reverse\n",
    "num=10\n",
    "while num>=1:\n",
    "    print(num)\n",
    "    num -=1"
   ]
  },
  {
   "cell_type": "code",
   "execution_count": null,
   "id": "1ad6c73e-8ded-4185-8d38-e30eb0764373",
   "metadata": {},
   "outputs": [],
   "source": [
    "n=int(input(\"enter a number\"))\n",
    "while n>0:\n",
    "    print(i)\n",
    "    n -=1"
   ]
  },
  {
   "cell_type": "code",
   "execution_count": 17,
   "id": "528053eb-9b03-414b-8735-722244c0e4bb",
   "metadata": {},
   "outputs": [
    {
     "name": "stdout",
     "output_type": "stream",
     "text": [
      "120\n"
     ]
    }
   ],
   "source": [
    "#factorial\n",
    "num=5\n",
    "factorial=1\n",
    "while num>0:\n",
    "    factorial *=num\n",
    "    num -=1\n",
    "print(factorial)"
   ]
  },
  {
   "cell_type": "code",
   "execution_count": 17,
   "id": "5b5630eb-fe42-497a-a575-885e42146cef",
   "metadata": {},
   "outputs": [
    {
     "name": "stdout",
     "output_type": "stream",
     "text": [
      "789576567998766\n"
     ]
    }
   ],
   "source": [
    "#fetching max from a given list whose initially the first value is max\n",
    "a=[10, 20, 30, 50, 60, 789576567998766,203,4978]\n",
    "max_element=a[0]\n",
    "for i in a:\n",
    "    if i>max_element:\n",
    "        max_element=i\n",
    "print(max_element)\n",
    "\n",
    " "
   ]
  },
  {
   "cell_type": "code",
   "execution_count": 20,
   "id": "59ecada1-183e-4339-8e8c-c38b53692947",
   "metadata": {},
   "outputs": [
    {
     "name": "stdout",
     "output_type": "stream",
     "text": [
      "10\n"
     ]
    }
   ],
   "source": [
    "#min\n",
    "a=[67,10, 20, 30, 50, 60, 789576567998766,203,4978]\n",
    "min_element=a[0]\n",
    "for i in a:\n",
    "    if i<min_element:\n",
    "        min_element=i\n",
    "print(min_element)"
   ]
  },
  {
   "cell_type": "code",
   "execution_count": 15,
   "id": "f51c1c76-3ed1-4cbd-b11b-1c194f2860d8",
   "metadata": {},
   "outputs": [
    {
     "name": "stdout",
     "output_type": "stream",
     "text": [
      "87730729778242.67\n"
     ]
    }
   ],
   "source": [
    "#average\n",
    "a=[67,10, 20, 30, 50, 60, 789576567998766,203,4978]\n",
    "sum=0\n",
    "length=len(a)\n",
    "for i in a:\n",
    "    sum +=i\n",
    "    average=sum/length\n",
    "print(average)"
   ]
  },
  {
   "cell_type": "code",
   "execution_count": 15,
   "id": "715e986f-654d-46f3-9c20-467c18a7a06b",
   "metadata": {},
   "outputs": [
    {
     "name": "stdout",
     "output_type": "stream",
     "text": [
      "2\n"
     ]
    }
   ],
   "source": [
    "#wap to count no of string from a given list of string.the string length is more than 2 or more and first and last character are same\n",
    "#expected result = 2\n",
    "l=['abc','xyz','aba','1221']\n",
    "length=len(l)\n",
    "count=0\n",
    "for i in l:\n",
    "    if length>2:\n",
    "        if i[0]==i[-1]:\n",
    "            count +=1\n",
    "print(count)"
   ]
  },
  {
   "cell_type": "code",
   "execution_count": 7,
   "id": "0ddfb76a-b09e-42b4-ac79-a896be5668b2",
   "metadata": {},
   "outputs": [
    {
     "name": "stdout",
     "output_type": "stream",
     "text": [
      "[1, 19, 100, 200]\n"
     ]
    }
   ],
   "source": [
    "#pogram for ascending\n",
    "l=[100,1,200,19]\n",
    "for i in range(len(l)):\n",
    "    for j in range(i+1,len(l)):\n",
    "        if l[i]>l[j]:\n",
    "            l[i],l[j]=l[j],l[i]           \n",
    "print(l)"
   ]
  },
  {
   "cell_type": "code",
   "execution_count": 8,
   "id": "3bd35969-ba06-495e-a635-5769d905e8d8",
   "metadata": {},
   "outputs": [
    {
     "name": "stdout",
     "output_type": "stream",
     "text": [
      "[200, 100, 19, 1]\n"
     ]
    }
   ],
   "source": [
    "#PROGRAM FOR DECENDING\n",
    "l=[100,1,200,19]\n",
    "for i in range(len(l)):\n",
    "    for j in range(i+1,len(l)):\n",
    "        if l[i]<l[j]:\n",
    "            l[i],l[j]=l[j],l[i]\n",
    "print(l)"
   ]
  },
  {
   "cell_type": "code",
   "execution_count": 4,
   "id": "29a48132-cb0e-4648-aac2-60fd34d98b1f",
   "metadata": {},
   "outputs": [
    {
     "name": "stdout",
     "output_type": "stream",
     "text": [
      "{'red': 2, 'yellow': 1, 'green': 1}\n"
     ]
    }
   ],
   "source": [
    "a=[\"red\",'yellow','green','red']\n",
    "d={}\n",
    "for i in a:\n",
    "    if i in d:\n",
    "        d[i] +=1\n",
    "    else:\n",
    "        d[i]=1\n",
    "print(d)"
   ]
  },
  {
   "cell_type": "code",
   "execution_count": 28,
   "id": "ce12144c-b958-4d12-9a45-b5d2eee68cdc",
   "metadata": {},
   "outputs": [
    {
     "name": "stdout",
     "output_type": "stream",
     "text": [
      "{'A': 0, 'B': 1, 'C': 4, 'D': 9, 'E': 16, 'F': 25}\n"
     ]
    }
   ],
   "source": [
    "l=[0,1,2,3,4,5]\n",
    "d={}\n",
    "for i in l:\n",
    "    d[chr(65+i)]=i*i\n",
    "print(d)\n",
    "        "
   ]
  },
  {
   "cell_type": "code",
   "execution_count": 10,
   "id": "b4f03ee9-f899-410e-8eb6-b7012f282211",
   "metadata": {},
   "outputs": [
    {
     "data": {
      "text/plain": [
       "20"
      ]
     },
     "execution_count": 10,
     "metadata": {},
     "output_type": "execute_result"
    }
   ],
   "source": [
    "# functions \n",
    "# use in error handling\n",
    "# because of functions redundency gets reduced and reusability gets increased\n",
    "# type 1- with argument with return type\n",
    "def max_2(a,b):\n",
    "    if a>b:\n",
    "        return a\n",
    "    else:\n",
    "        return b\n",
    "max_2(10,20)"
   ]
  },
  {
   "cell_type": "code",
   "execution_count": 11,
   "id": "b8af5387-ba23-4836-900f-6b79b8bb7cd8",
   "metadata": {},
   "outputs": [
    {
     "data": {
      "text/plain": [
       "30"
      ]
     },
     "execution_count": 11,
     "metadata": {},
     "output_type": "execute_result"
    }
   ],
   "source": [
    "def max_3(a,b,c):\n",
    "    if a>b and a>c:\n",
    "        return a\n",
    "    elif b>a and b>c:\n",
    "        return b\n",
    "    else:\n",
    "        return c\n",
    "max_3(10,20,30)"
   ]
  },
  {
   "cell_type": "code",
   "execution_count": 49,
   "id": "b6e76879-2305-4859-9498-710f2a8db042",
   "metadata": {},
   "outputs": [
    {
     "name": "stdout",
     "output_type": "stream",
     "text": [
      "9 not a prime number\n"
     ]
    }
   ],
   "source": [
    "#type 2  with argument without return type\n",
    "def prime(a):\n",
    "    if a==0 or a==1:\n",
    "        print(\"not a prime\")\n",
    "    elif a>1:\n",
    "        for i in range(2,a):\n",
    "            if a%i==0:\n",
    "                print(a,\"not a prime number\")\n",
    "                break\n",
    "        else:\n",
    "            print(a,\"prime number\")\n",
    "    else:\n",
    "        print(a,\"not a prime number\")\n",
    "prime(9)\n"
   ]
  },
  {
   "cell_type": "code",
   "execution_count": 61,
   "id": "602c528b-d510-49cb-a1be-e35f6e35e43b",
   "metadata": {},
   "outputs": [
    {
     "name": "stdin",
     "output_type": "stream",
     "text": [
      "enter a number 5\n"
     ]
    },
    {
     "name": "stdout",
     "output_type": "stream",
     "text": [
      "0 1 1 2 3 "
     ]
    }
   ],
   "source": [
    "# type 3 without argument without return type\n",
    "def fibo():\n",
    "    a=0\n",
    "    b=1\n",
    "    n=int(input(\"enter a number\"))\n",
    "    print(a,b,end=' ')\n",
    "    for i in range(2,n):\n",
    "        c=a+b\n",
    "        print(c,end=\" \")\n",
    "        a=b\n",
    "        b=c\n",
    "fibo()        "
   ]
  },
  {
   "cell_type": "code",
   "execution_count": 84,
   "id": "06d00c8c-14c6-4b59-8e3a-a8ca19482e8c",
   "metadata": {},
   "outputs": [
    {
     "name": "stdout",
     "output_type": "stream",
     "text": [
      "120\n"
     ]
    }
   ],
   "source": [
    "#faactorial with function\n",
    "def factorial(n):\n",
    "    fact = 1\n",
    "    for i in range(1,n+1):\n",
    "        fact *= i\n",
    "    return fact\n",
    "print(factorial(5))"
   ]
  },
  {
   "cell_type": "code",
   "execution_count": 4,
   "id": "d8a0568a-3740-425f-9a9b-144d70d7846b",
   "metadata": {},
   "outputs": [
    {
     "name": "stdout",
     "output_type": "stream",
     "text": [
      "3\n"
     ]
    }
   ],
   "source": [
    "#Write a function that counts vowels in a string.\n",
    "def count_vowel(s):\n",
    "    vowel=\"aeiou\"\n",
    "    count=0\n",
    "    for i in s:\n",
    "        if i in vowel:\n",
    "            count +=1\n",
    "    return count\n",
    "print(count_vowel(\"hello world\"))\n"
   ]
  },
  {
   "cell_type": "code",
   "execution_count": 4,
   "id": "52e75f9e-25da-4cf1-a9a9-ed3cc8a6a877",
   "metadata": {},
   "outputs": [
    {
     "name": "stdout",
     "output_type": "stream",
     "text": [
      "True\n"
     ]
    }
   ],
   "source": [
    "#pallindrome with function\n",
    "def pallindrome(s):\n",
    "    return s==s[::-1]\n",
    "print(pallindrome(\"madam\"))\n",
    "\n"
   ]
  },
  {
   "cell_type": "code",
   "execution_count": 26,
   "id": "978505f5-cc35-4e8a-b2f0-11b786bc2478",
   "metadata": {},
   "outputs": [
    {
     "data": {
      "text/plain": [
       "6"
      ]
     },
     "execution_count": 26,
     "metadata": {},
     "output_type": "execute_result"
    }
   ],
   "source": [
    "#recursion function when function call itself within a function\n",
    "def sum(n):\n",
    "    if n==1:\n",
    "        return n\n",
    "    else:\n",
    "        return n+sum(n-1)\n",
    "sum(3)"
   ]
  },
  {
   "cell_type": "code",
   "execution_count": 29,
   "id": "8846d7ef-584e-4e0e-bcfc-83a290d92153",
   "metadata": {},
   "outputs": [
    {
     "data": {
      "text/plain": [
       "120"
      ]
     },
     "execution_count": 29,
     "metadata": {},
     "output_type": "execute_result"
    }
   ],
   "source": [
    "def fct(n):\n",
    "    if n==1:\n",
    "        return n\n",
    "    else:\n",
    "        return n*fct(n-1)\n",
    "fct(5)"
   ]
  },
  {
   "cell_type": "code",
   "execution_count": 33,
   "id": "2e3ce028-0bf8-46cc-a4b3-76f130aedcec",
   "metadata": {},
   "outputs": [
    {
     "data": {
      "text/plain": [
       "30"
      ]
     },
     "execution_count": 33,
     "metadata": {},
     "output_type": "execute_result"
    }
   ],
   "source": [
    "# functions using own functions\n",
    "def max_2(a,b):\n",
    "    if a>b:\n",
    "        return a\n",
    "    else:\n",
    "        return b\n",
    "def max_3(a,b,c):\n",
    "    if c>max_2(a,b):\n",
    "        return c\n",
    "    else:\n",
    "        return max_2(a,b)\n",
    "max_3(10,20,30)"
   ]
  },
  {
   "cell_type": "code",
   "execution_count": 36,
   "id": "56f6362e-7afb-4948-b2b6-598bbfc144c3",
   "metadata": {},
   "outputs": [
    {
     "name": "stdout",
     "output_type": "stream",
     "text": [
      "28\n",
      "navin\n"
     ]
    }
   ],
   "source": [
    "#types of arguments\n",
    "#1- keyword argument \n",
    "def person(name,age):\n",
    "    print(name)\n",
    "    print(age-5)\n",
    "\n",
    "person(28,'navin')\n",
    "#this will always show error as we cannot subtract age with anything for that we need to use keyword argument"
   ]
  },
  {
   "cell_type": "code",
   "execution_count": 39,
   "id": "b2eb0bc3-75a8-4159-8b67-347bf9923a63",
   "metadata": {},
   "outputs": [
    {
     "name": "stdout",
     "output_type": "stream",
     "text": [
      "navin\n",
      "27\n"
     ]
    }
   ],
   "source": [
    "#keyword argument correct code\n",
    "def person(name,age):\n",
    "    print(name)\n",
    "    print(age-5)\n",
    "\n",
    "person(age=32,name='navin')"
   ]
  },
  {
   "cell_type": "code",
   "execution_count": 43,
   "id": "6c3a3d77-1ef4-409f-9dcb-5f928ce5ac07",
   "metadata": {},
   "outputs": [
    {
     "name": "stdout",
     "output_type": "stream",
     "text": [
      "navin\n",
      "18\n"
     ]
    }
   ],
   "source": [
    "#type 2- Default argument\n",
    "def person(name,age=18):\n",
    "    print(name)\n",
    "    print(age)\n",
    "\n",
    "person('navin')\n",
    "# if we want to create a prgram for voting age and we don't want to show age thren we can set the default age =18"
   ]
  },
  {
   "cell_type": "code",
   "execution_count": 45,
   "id": "29b3b9dd-a2f5-408c-9f23-06a96a8817f2",
   "metadata": {},
   "outputs": [
    {
     "name": "stdout",
     "output_type": "stream",
     "text": [
      "navin\n",
      "28\n"
     ]
    }
   ],
   "source": [
    "#but if we pass the age when we call the function then it will overwrite the default parameter\n",
    "def person(name,age=18):\n",
    "    print(name)\n",
    "    print(age)\n",
    "\n",
    "person('navin',28)"
   ]
  },
  {
   "cell_type": "code",
   "execution_count": 47,
   "id": "65572cb9-db7c-4e8d-96d9-25a9aa4ed168",
   "metadata": {},
   "outputs": [
    {
     "name": "stdout",
     "output_type": "stream",
     "text": [
      "60\n"
     ]
    }
   ],
   "source": [
    "#variable length argument \n",
    "#used when we want to take multiple vlues \n",
    "# denoted by *\n",
    "\n",
    "def sum(a, *b):\n",
    "    c=a\n",
    "    for i in b:\n",
    "        c +=i\n",
    "    print(c)\n",
    "sum(10,20,30"
   ]
  },
  {
   "cell_type": "code",
   "execution_count": 51,
   "id": "fde7383b-dcaf-4972-a773-48b1e1f6c4cf",
   "metadata": {},
   "outputs": [
    {
     "name": "stdout",
     "output_type": "stream",
     "text": [
      "navin\n",
      "{'age': 29, 'city': 'mumbai', 'mob': 65974164}\n"
     ]
    }
   ],
   "source": [
    "#Keyworded Variable Length Arguments\n",
    "def person(name, **data):\n",
    "    print(name)\n",
    "    print(data)\n",
    "person('navin',age=29,city='mumbai',mob=65974164)"
   ]
  },
  {
   "cell_type": "code",
   "execution_count": 53,
   "id": "ae624e17-8ed9-4e7f-9725-30f5a3c88ae1",
   "metadata": {},
   "outputs": [
    {
     "name": "stdout",
     "output_type": "stream",
     "text": [
      "25\n"
     ]
    }
   ],
   "source": [
    "#anonymous function lambda\n",
    "f= lambda a:a*a\n",
    "b=f(5)\n",
    "print(b)"
   ]
  },
  {
   "cell_type": "code",
   "execution_count": 59,
   "id": "02575b5e-04b7-4f73-9d91-e1fcedfc9327",
   "metadata": {},
   "outputs": [
    {
     "name": "stdout",
     "output_type": "stream",
     "text": [
      "10\n"
     ]
    }
   ],
   "source": [
    "f= lambda a,b:a+b\n",
    "b=f(9,1)\n",
    "print(b)"
   ]
  },
  {
   "cell_type": "code",
   "execution_count": 61,
   "id": "cc44cd19-a414-4cc8-be4e-86e998fd1375",
   "metadata": {},
   "outputs": [
    {
     "name": "stdout",
     "output_type": "stream",
     "text": [
      "[2, 4, 6, 8, 8]\n"
     ]
    }
   ],
   "source": [
    "#high order function-1(filter),2(map),3(reduce)\n",
    "#filter function without lambda\n",
    "#filter as the name suggest does the filteration of the thing given to it\n",
    "#filter always take two arguments first if function(or name of funtion),second varibale in which operation is to be performed)\n",
    "\n",
    "def is_even(n):\n",
    "    return n%2==0\n",
    "num=(2,3,4,5,6,7,8,8,9)\n",
    "even= list(filter(is_even,num))\n",
    "print(even)"
   ]
  },
  {
   "cell_type": "code",
   "execution_count": 62,
   "id": "3db336d9-d7df-4899-b334-5adeded0191e",
   "metadata": {},
   "outputs": [
    {
     "name": "stdout",
     "output_type": "stream",
     "text": [
      "[2, 4, 6, 8, 8]\n"
     ]
    }
   ],
   "source": [
    "#filter witth lambda\n",
    "num=(2,3,4,5,6,7,8,8,9)\n",
    "even=list(filter(lambda n:n%2==0,even))\n",
    "print(even)"
   ]
  },
  {
   "cell_type": "code",
   "execution_count": 67,
   "id": "a8ee4e1a-4ed7-40be-9dd2-2f85aa154eb2",
   "metadata": {},
   "outputs": [
    {
     "name": "stdout",
     "output_type": "stream",
     "text": [
      "[4, 8, 12, 16, 16]\n"
     ]
    }
   ],
   "source": [
    "#map function is used when we want to operate on  every value\n",
    "#map without lambda\n",
    "#from a list we fiter out even and double it\n",
    "def update(n):\n",
    "    return n*2\n",
    "num=(2,3,4,5,6,7,8,8,9)\n",
    "even=list(filter(lambda n: n%2==0,even))\n",
    "doubles=list(map(update,even))\n",
    "print(doubles)"
   ]
  },
  {
   "cell_type": "code",
   "execution_count": 4,
   "id": "81f6b480-ec8b-4ccd-9280-291f5201126d",
   "metadata": {},
   "outputs": [
    {
     "name": "stdout",
     "output_type": "stream",
     "text": [
      "[4, 8, 12, 16, 16]\n"
     ]
    }
   ],
   "source": [
    "#map with lambda\n",
    "num=(2,3,4,5,6,7,8,8,9)\n",
    "even=list(filter(lambda n:n%2==0,num))\n",
    "double=list(map(lambda n:n*2,even))\n",
    "print(double)"
   ]
  },
  {
   "cell_type": "code",
   "execution_count": 6,
   "id": "8135d155-7dba-4a35-a3d4-a99faa0852e5",
   "metadata": {},
   "outputs": [
    {
     "name": "stdout",
     "output_type": "stream",
     "text": [
      "56\n"
     ]
    }
   ],
   "source": [
    "#reduce with lambda\n",
    "#reduce also takes two value\n",
    "num=(2,3,4,5,6,7,8,8,9)\n",
    "even=list(filter(lambda n:n%2==0,num))\n",
    "double=list(map(lambda n:n*2,even))\n",
    "na=reduce(lambda a,b:a+b,double)\n",
    "print(na)"
   ]
  },
  {
   "cell_type": "code",
   "execution_count": 8,
   "id": "e0d6fd85-804e-4537-85f0-9240d6d9030c",
   "metadata": {},
   "outputs": [
    {
     "name": "stdout",
     "output_type": "stream",
     "text": [
      "2.0\n"
     ]
    }
   ],
   "source": [
    "#decorater \n",
    "#decoraters take a function apply some more function to it and eventually returns a function\n",
    "#example we create a program of dividing two number but division will only happen with numerator is greater than denominator \n",
    "def div(a,b):\n",
    "    print(a/b)\n",
    "\n",
    "def smart_div(function):\n",
    "    def inner(a,b):\n",
    "        if a<b:\n",
    "            a,b=b,a\n",
    "        return function(a,b)\n",
    "    return inner\n",
    "\n",
    "div=smart_div(div)\n",
    "div(3,6)"
   ]
  },
  {
   "cell_type": "code",
   "execution_count": 13,
   "id": "6169c634-33a7-4656-8d54-dfa5e4d54337",
   "metadata": {},
   "outputs": [
    {
     "name": "stdout",
     "output_type": "stream",
     "text": [
      "1tb intel1 512gb\n",
      "1tb intel1 512gb\n"
     ]
    }
   ],
   "source": [
    "#class and object \n",
    "#class is a blueprint of object\n",
    "#object is a real world entity\n",
    "#methods in class is nothing but a function\n",
    "\n",
    "class computer:\n",
    "    def config(self):\n",
    "        print('1tb intel1 512gb')\n",
    "com1=computer() #creating object\n",
    "com2=computer() #creating object\n",
    "com1.config()\n",
    "com2.config()"
   ]
  },
  {
   "cell_type": "code",
   "execution_count": null,
   "id": "27915728-f46b-4d1f-bd30-3e6e9823b879",
   "metadata": {},
   "outputs": [],
   "source": [
    "#constructor \n",
    "# __init__- all classes have a function called __init__ which is always executed when object is initiated\n",
    "# \"self\" the self parameter is the reference to the current instance of class and is used to access variable that belongs to the class.\n",
    "# there are two types of constructor - 1- default constructor 2- parameterized constructor\n"
   ]
  },
  {
   "cell_type": "code",
   "execution_count": null,
   "id": "2d9f4df9-38ba-483a-971f-07116774ea97",
   "metadata": {},
   "outputs": [],
   "source": [
    "# default constructor only has self in it no other parameter\n",
    "def __init__(self):\n",
    "    print(\"default constrcutor\")\n",
    "\n",
    "# paramaterized construtor has paramters with self like\n",
    "def __init__(self,name,class):\n",
    "    self.name=name\n",
    "    self.class=class "
   ]
  },
  {
   "cell_type": "code",
   "execution_count": null,
   "id": "f58a86f7-998d-4a0f-9f05-9c5d1ed4f9e7",
   "metadata": {},
   "outputs": [],
   "source": [
    "#Attributes-it is data items like in above example name,class is attribute\n",
    "\n",
    "\n",
    "# the data which we know would we different for each data(like if we have a class named as student and er have multiple student so\n",
    "# we know each student will have different name so such we define these types of data as \"self.\" always.\n",
    "# these types of attributes are called instance attribute\n",
    "\n",
    "\n",
    "# and when we have a common data with every object then that is called as class attribute.\n",
    "\n",
    "#object attribute will always have higher precedence than class attribute"
   ]
  },
  {
   "cell_type": "code",
   "execution_count": 14,
   "id": "5a7d9940-5745-4b7b-bc36-b34951e75f5a",
   "metadata": {},
   "outputs": [
    {
     "name": "stdout",
     "output_type": "stream",
     "text": [
      "name aman\n",
      "age 25\n"
     ]
    }
   ],
   "source": [
    "#Create a class Student with attributes name and age. Create an object and print details.\n",
    "class student:\n",
    "    def __init__(self,name,age):\n",
    "        self.name=name\n",
    "        self.age=age\n",
    "\n",
    "    def display(self):\n",
    "        print(\"name\",self.name)\n",
    "        print('age',self.age)\n",
    "a=student('aman',25)\n",
    "a.display()"
   ]
  },
  {
   "cell_type": "code",
   "execution_count": 24,
   "id": "11bbbba7-ff88-4fc7-9ac0-ac5610dfc47c",
   "metadata": {},
   "outputs": [
    {
     "name": "stdout",
     "output_type": "stream",
     "text": [
      "area of rectangle=  100\n"
     ]
    }
   ],
   "source": [
    "#Create a class Rectangle that calculates the area of a rectangle.\n",
    "class rectangle:\n",
    "    def __init__(self,l,b):\n",
    "        self.l=l\n",
    "        self.b=b\n",
    "    def area(self):\n",
    "        print(\"area of rectangle= \",self.l*self.b)\n",
    "a=rectangle(10,10)\n",
    "a.area()"
   ]
  },
  {
   "cell_type": "code",
   "execution_count": 3,
   "id": "ee110c19-34db-44a2-8def-9657563f63fd",
   "metadata": {},
   "outputs": [
    {
     "name": "stdout",
     "output_type": "stream",
     "text": [
      "hello aman welcome to bhopal\n"
     ]
    }
   ],
   "source": [
    "#Create a class Person that stores name and city. Add a method to print a greeting.\n",
    "class person:\n",
    "    def __init__(self,name,city):\n",
    "        self.name=name\n",
    "        self.city=city\n",
    "    def greeting(self):\n",
    "        print(\"hello\",self.name,\"welcome to\",self.city)\n",
    "a=person('aman','bhopal')\n",
    "a.greeting()"
   ]
  },
  {
   "cell_type": "code",
   "execution_count": 9,
   "id": "52c006c5-2a00-4682-a521-a24b59d1444e",
   "metadata": {},
   "outputs": [
    {
     "name": "stdout",
     "output_type": "stream",
     "text": [
      "name of the book is  heaven\n",
      "author of the book is rishi\n"
     ]
    }
   ],
   "source": [
    "#Create a class Book with attributes title and author. Print book details using a method.\n",
    "class book:\n",
    "    def __init__(self,title,author):\n",
    "        self.title=title\n",
    "        self.author=author\n",
    "    def detail(self):\n",
    "        print(\"name of the book is \",self.title)\n",
    "        print(\"author of the book is\",self.author)\n",
    "a=book(\"heaven\",\"rishi\")\n",
    "a.detail()"
   ]
  },
  {
   "cell_type": "code",
   "execution_count": 15,
   "id": "07daf337-d007-4484-8c44-8b421bfe6ca2",
   "metadata": {},
   "outputs": [
    {
     "name": "stdout",
     "output_type": "stream",
     "text": [
      "18\n",
      "0\n",
      "81\n",
      "1.0\n"
     ]
    }
   ],
   "source": [
    "#Create a class Calculator with methods add, subtract, multiply, divide.\n",
    "class clac:\n",
    "    def add(self,a,b):\n",
    "        return a+b\n",
    "    def sub(self,a,b):\n",
    "        return a-b\n",
    "    def mul(self,a,b):\n",
    "        return a*b\n",
    "    def div(self,a,b):\n",
    "        if b==0:\n",
    "            print(\"invalid\")\n",
    "        else:\n",
    "            return a/b\n",
    "c=clac()\n",
    "print(c.add(9,9))\n",
    "print(c.sub(9,9))\n",
    "print(c.mul(9,9))\n",
    "print(c.div(9,9))"
   ]
  },
  {
   "cell_type": "code",
   "execution_count": 24,
   "id": "7575b37f-f66f-4f73-a8bb-cde192192226",
   "metadata": {},
   "outputs": [
    {
     "name": "stdout",
     "output_type": "stream",
     "text": [
      "80.0\n"
     ]
    }
   ],
   "source": [
    "#Create a class Student with marks of 3 subjects. Add a method to calculate average marks.\n",
    "class student:\n",
    "    def __init__(self,maths,hindi,eng):\n",
    "        self.maths=maths\n",
    "        self.hindi=hindi\n",
    "        self.eng=eng\n",
    "    def avg(self):\n",
    "        return (self.maths+self.hindi+self.eng)/3\n",
    "c=student(80,90,70)\n",
    "print(c.avg())"
   ]
  },
  {
   "cell_type": "code",
   "execution_count": 37,
   "id": "f215fd35-81da-49e7-adc3-79bd332f6229",
   "metadata": {},
   "outputs": [
    {
     "name": "stdout",
     "output_type": "stream",
     "text": [
      "fail 27.333333333333332\n"
     ]
    }
   ],
   "source": [
    "#Create a class Student where each student has marks in subjects. Add a method to calculate grade (>=90: A, >=75: B, >=50: C, else Fail).\n",
    "class student:\n",
    "    def __init__(self,a,b,c):\n",
    "        self.a=a\n",
    "        self.b=b\n",
    "        self.c=c\n",
    "    def grade(self):\n",
    "        average=(self.a+self.b+self.c)/3\n",
    "        \n",
    "        if average>=90:\n",
    "            print(\"A\",average)\n",
    "        elif average>=75:\n",
    "            print(\"B\",average)\n",
    "        elif average>=50:\n",
    "            print(\"C\",average)\n",
    "        else:\n",
    "            print(\"fail\",average)\n",
    "\n",
    "result=student(25,10,47)\n",
    "result.grade()"
   ]
  },
  {
   "cell_type": "code",
   "execution_count": 146,
   "id": "6f39804e-477e-4ce9-9d3f-3f8d0af5275b",
   "metadata": {},
   "outputs": [
    {
     "name": "stdout",
     "output_type": "stream",
     "text": [
      "hello\n"
     ]
    }
   ],
   "source": [
    "#methods- these are the functions that belongs to an object\n",
    "# class method- whatever we used till now(with self) is called as class method\n",
    "# static method- this is declared outside of any object,don't use any self and is direcctly accessible as written directly to class \n",
    "# access by firstly declaring '@staticmethod' and then writing any function in it.\n",
    "class student:\n",
    "    @staticmethod #decorator\n",
    "    def hello():\n",
    "        print('hello')\n",
    "obj=student()\n",
    "obj.hello()\n"
   ]
  },
  {
   "cell_type": "code",
   "execution_count": null,
   "id": "011b15b4-ab0f-41b5-922f-e5fa36ba4104",
   "metadata": {},
   "outputs": [],
   "source": [
    "##Encapsulation is the process of binding data (variables) and methods (functions) into a single unit (class) and restricting direct access to the data.\n",
    "# It is a way to protect variables from being directly modified outside the class. \n",
    "# In Python, we achieve encapsulation by making variables private (prefix with __).\n",
    "# Example: self.__balance = 5000"
   ]
  },
  {
   "cell_type": "code",
   "execution_count": 42,
   "id": "70d5fc75-7435-4476-986c-76378dddd9bf",
   "metadata": {},
   "outputs": [
    {
     "name": "stdout",
     "output_type": "stream",
     "text": [
      "20\n"
     ]
    }
   ],
   "source": [
    "class Person:\n",
    "    def __init__(self):\n",
    "        self.__age = 0   # private variable\n",
    "\n",
    "    def set_age(self, age):\n",
    "        self.__age = age   # setter method\n",
    "\n",
    "    def get_age(self):\n",
    "        return self.__age  # getter method\n",
    "\n",
    "# Test\n",
    "p = Person()\n",
    "p.set_age(20)        # setting value\n",
    "print(p.get_age())"
   ]
  },
  {
   "cell_type": "code",
   "execution_count": 44,
   "id": "b462ea3f-8947-454d-b34e-70df149104bf",
   "metadata": {},
   "outputs": [
    {
     "name": "stdout",
     "output_type": "stream",
     "text": [
      "20\n"
     ]
    }
   ],
   "source": [
    "# Q1. Create a class Person with a private variable __age.\n",
    "# Set age using a method.\n",
    "# Get age using another method.\n",
    "class Person:\n",
    "    def __init__(self):\n",
    "        self.__age = 0   # private variable\n",
    "\n",
    "    def set_age(self, age):\n",
    "        self.__age = age   # setter method\n",
    "\n",
    "    def get_age(self):\n",
    "        return self.__age  # getter method\n",
    "\n",
    "p = Person()\n",
    "p.set_age(20)        # setting value\n",
    "print(p.get_age())   #getting value"
   ]
  },
  {
   "cell_type": "code",
   "execution_count": 45,
   "id": "b91c0b18-4b34-4ed4-912d-a67bb455a7ff",
   "metadata": {},
   "outputs": [
    {
     "name": "stdout",
     "output_type": "stream",
     "text": [
      "80\n"
     ]
    }
   ],
   "source": [
    "#Create a class Car with a private variable __speed.\n",
    "#Set speed using a method.\n",
    "#Get speed using another method.\n",
    "class car:\n",
    "    def __init__(self):\n",
    "        self.__speed=0\n",
    "    def set_speed(self,speed):\n",
    "        self.__speed=speed\n",
    "    def get_speed(self):\n",
    "        return self.__speed\n",
    "\n",
    "a=car()\n",
    "a.set_speed(80)\n",
    "print(a.get_speed())"
   ]
  },
  {
   "cell_type": "code",
   "execution_count": 46,
   "id": "71f84d5b-6ceb-4f26-8d8e-b0e1a1fd1fc8",
   "metadata": {},
   "outputs": [
    {
     "name": "stdout",
     "output_type": "stream",
     "text": [
      "blue\n"
     ]
    }
   ],
   "source": [
    "'''Create a class Box with a private variable __color.\n",
    "Assign color with a setter.\n",
    "Show color with a getter.'''\n",
    "class box:\n",
    "    def __init__(self):\n",
    "        self.__color=''\n",
    "    def set_color(self,color):\n",
    "        self.__color=color\n",
    "    def get_color(self):\n",
    "        return self.__color\n",
    "b=box()\n",
    "b.set_color('blue')\n",
    "print(b.get_color())"
   ]
  },
  {
   "cell_type": "code",
   "execution_count": 49,
   "id": "cc98802d-9d74-4fd6-b11b-591210896980",
   "metadata": {},
   "outputs": [
    {
     "name": "stdout",
     "output_type": "stream",
     "text": [
      "125\n"
     ]
    }
   ],
   "source": [
    "#Slightly Harder Encapsulation Questions\n",
    "'''Create a class Person with private variable __age.\n",
    "Age cannot be negative.\n",
    "If user tries to set negative age, show error.'''\n",
    "\n",
    "class person:\n",
    "    def __init__(self):\n",
    "        self.__age=0\n",
    "    def set_age(self,age):\n",
    "        if age<=0:\n",
    "            print(\"age cannot be negative\")\n",
    "        else:\n",
    "            self.__age=age\n",
    "    def get_age(self):\n",
    "        return self.__age\n",
    "a=person()\n",
    "a.set_age(125)\n",
    "print(a.get_age())"
   ]
  },
  {
   "cell_type": "code",
   "execution_count": 58,
   "id": "bde40403-e4db-4a51-9e48-e30135fbfd48",
   "metadata": {},
   "outputs": [
    {
     "name": "stdout",
     "output_type": "stream",
     "text": [
      "1000\n",
      "500\n"
     ]
    }
   ],
   "source": [
    "#. Create a class BankAccount with private variable __balance.\n",
    "#Balance cannot be negative.\n",
    "#Deposit and withdraw should update balance safely.\n",
    "class bankaccount:\n",
    "    def __init__(self):\n",
    "        self.__balance=0\n",
    "    def deposite(self,amount):\n",
    "        if amount>0:\n",
    "            self.__balance +=amount\n",
    "        else:\n",
    "            print(\"invalid amount\")\n",
    "    def withdraw(self,amount):\n",
    "        if 0<amount<=self.__balance:\n",
    "            self.__balance -=amount\n",
    "        else:\n",
    "            print(\"invalid amount\")\n",
    "    def get_balance(self):\n",
    "        return self.__balance\n",
    "\n",
    "a=bankaccount()\n",
    "a.deposite(1000)\n",
    "print(a.get_balance())\n",
    "a.withdraw(500)\n",
    "print(a.get_balance())\n",
    "            "
   ]
  },
  {
   "cell_type": "code",
   "execution_count": 75,
   "id": "910e1627-4391-4a15-8e4f-cfd03fc008b0",
   "metadata": {},
   "outputs": [
    {
     "name": "stdout",
     "output_type": "stream",
     "text": [
      "Passenger: Ali, Seat: 45, Price: 2000\n",
      "Passenger: Amaan, Seat: 60, Price: 1600.0\n"
     ]
    }
   ],
   "source": [
    "class Ticket:\n",
    "    def __init__(self, passenger, seat_no, price):\n",
    "        self.__passenger = passenger\n",
    "        self.__seat_no = seat_no\n",
    "        self.__price = price\n",
    "\n",
    "    def final_price(self):\n",
    "        if self.__seat_no > 50:\n",
    "            return self.__price * 0.8  # 20% discount\n",
    "        return self.__price\n",
    "\n",
    "    def get_details(self):\n",
    "        return f\"Passenger: {self.__passenger}, Seat: {self.__seat_no}, Price: {self.final_price()}\"\n",
    "\n",
    "# Test\n",
    "t1 = Ticket(\"Ali\", 45, 2000)\n",
    "t2 = Ticket(\"Amaan\", 60, 2000)\n",
    "print(t1.get_details())\n",
    "print(t2.get_details())\n"
   ]
  },
  {
   "cell_type": "code",
   "execution_count": 81,
   "id": "c07e9449-06fe-4c4c-b24a-3ed55b6ed463",
   "metadata": {},
   "outputs": [
    {
     "name": "stdout",
     "output_type": "stream",
     "text": [
      "Passenger: ali, Seat: 65, Price: 1600.0\n"
     ]
    }
   ],
   "source": [
    "'''Airline Ticket System\n",
    "Create a Ticket class:\n",
    "Private vars: __passenger, __seat_no, __price.\n",
    "Rule:\n",
    "If seat_no > 50 → give 20% discount.\n",
    "Otherwise no discount.'''\n",
    "class ticket:\n",
    "    def __init__(self,passenger,seat_no,price):\n",
    "        self.__passenger=passenger\n",
    "        self.__seat_no=seat_no\n",
    "        self.__price=price\n",
    "    def discount(self):\n",
    "        if self.__seat_no>50:\n",
    "            return self.__price*0.8\n",
    "            return self.__price\n",
    "        else:\n",
    "            return self.__price\n",
    "    def detail(self):\n",
    "         return f\"Passenger: {self.__passenger}, Seat: {self.__seat_no}, Price: {self.discount()}\"\n",
    "\n",
    "a=ticket('ali',65,2000)\n",
    "print(a.detail())"
   ]
  },
  {
   "cell_type": "code",
   "execution_count": 160,
   "id": "aa502749-49f3-4e5d-94b6-ab27e730ccab",
   "metadata": {},
   "outputs": [
    {
     "ename": "AttributeError",
     "evalue": "'person' object has no attribute '__name'",
     "output_type": "error",
     "traceback": [
      "\u001b[1;31m---------------------------------------------------------------------------\u001b[0m",
      "\u001b[1;31mAttributeError\u001b[0m                            Traceback (most recent call last)",
      "Cell \u001b[1;32mIn[160], line 7\u001b[0m\n\u001b[0;32m      5\u001b[0m     __name\u001b[38;5;241m=\u001b[39m\u001b[38;5;124m\"\u001b[39m\u001b[38;5;124mannoynamous\u001b[39m\u001b[38;5;124m\"\u001b[39m\n\u001b[0;32m      6\u001b[0m p1\u001b[38;5;241m=\u001b[39mperson()\n\u001b[1;32m----> 7\u001b[0m \u001b[38;5;28mprint\u001b[39m(p1\u001b[38;5;241m.\u001b[39m__name)\n",
      "\u001b[1;31mAttributeError\u001b[0m: 'person' object has no attribute '__name'"
     ]
    }
   ],
   "source": [
    "#public and private class \n",
    "# public class is simply which is assecible even outside of the class \n",
    "# but tprivate clas cannot be access outside of the class created by double underscore __\n",
    "class name:\n",
    "    __name=\"annoynamous\"\n",
    "p1=person()\n",
    "print(p1.__name)\n",
    "# if we can never access it then why do we create private class so the answer is because sometimes functioj internally have to use a\n",
    "# private function that's why we use it."
   ]
  },
  {
   "cell_type": "code",
   "execution_count": null,
   "id": "294b6dc0-e018-4043-8353-a7803d02a771",
   "metadata": {},
   "outputs": [],
   "source": [
    "# Inheritance means one class (child/derived class) can use the properties and methods of another class (parent/base class).\n",
    "#👉 It helps in code reusability and makes programs more structured.\n",
    "# 1- single\n",
    "# 2- multi-level \n",
    "# 3- multiple \n",
    "# 4- hirarical \n",
    "# 5- hybrid"
   ]
  },
  {
   "cell_type": "code",
   "execution_count": 92,
   "id": "88b0e89c-13b9-4ffc-bee5-0aef5f9651fe",
   "metadata": {},
   "outputs": [
    {
     "name": "stdout",
     "output_type": "stream",
     "text": [
      "hello this is class B\n",
      "hello this is class A\n"
     ]
    }
   ],
   "source": [
    "#single inheritance \n",
    "class A:\n",
    "    def show(self):\n",
    "        print(\"hello this is class A\")\n",
    "class B(A):\n",
    "    def display(self):\n",
    "        print(\"hello this is class B\")\n",
    "\n",
    "obj=B()\n",
    "obj.display()\n",
    "obj.show()"
   ]
  },
  {
   "cell_type": "code",
   "execution_count": 89,
   "id": "35e632f7-25c8-42d4-9164-b8a15b4c8207",
   "metadata": {},
   "outputs": [
    {
     "name": "stdout",
     "output_type": "stream",
     "text": [
      "This is an animal\n",
      "Dog barks\n"
     ]
    }
   ],
   "source": [
    "class Animal:\n",
    "    def speak(self):\n",
    "        print(\"This is an animal\")\n",
    "\n",
    "class Dog(Animal):   # inherits Animal\n",
    "    def sound(self):\n",
    "        print(\"Dog barks\")\n",
    "\n",
    "# Test\n",
    "d = Dog()\n",
    "d.speak()  # from parent\n",
    "d.sound()"
   ]
  },
  {
   "cell_type": "code",
   "execution_count": 93,
   "id": "7d228eec-91a6-4804-8341-178757dda25f",
   "metadata": {},
   "outputs": [
    {
     "name": "stdout",
     "output_type": "stream",
     "text": [
      "hardworking\n",
      "intellactual\n",
      "intelligent and hardworking\n"
     ]
    }
   ],
   "source": [
    "#multiple- child acquire property from more than one parents\n",
    "\n",
    "class father:\n",
    "    def father_traits(self):\n",
    "        print(\"hardworking\")\n",
    "class mother:\n",
    "    def mother_traits(self):\n",
    "        print(\"intellactual\")\n",
    "class child(father,mother):\n",
    "    def child_traits(self):\n",
    "        print(\"intelligent and hardworking\")\n",
    "a=child()\n",
    "a.father_traits()\n",
    "a.mother_traits()\n",
    "a.child_traits()"
   ]
  },
  {
   "cell_type": "code",
   "execution_count": 94,
   "id": "6fca8cb4-8cc9-49b9-9693-5559d1040f2c",
   "metadata": {},
   "outputs": [
    {
     "name": "stdout",
     "output_type": "stream",
     "text": [
      "own land\n",
      "owns car\n",
      "owns laptop\n"
     ]
    }
   ],
   "source": [
    "#multilevel-Inheritance chain (grandparent → parent → child).\n",
    "class grandparent:\n",
    "    def grandparant_property(self):\n",
    "        print(\"own land\")\n",
    "class parent(grandparent):\n",
    "    def parent_property(self):\n",
    "        print(\"owns car\")\n",
    "class child(parent):\n",
    "    def  child_property(self):\n",
    "        print(\"owns laptop\")\n",
    "\n",
    "a=child()\n",
    "a.grandparant_property()\n",
    "a.parent_property()\n",
    "a.child_property()"
   ]
  },
  {
   "cell_type": "code",
   "execution_count": 97,
   "id": "d50757ca-39be-4690-843e-c071aa0ef7d8",
   "metadata": {},
   "outputs": [
    {
     "name": "stdout",
     "output_type": "stream",
     "text": [
      "hello c\n"
     ]
    }
   ],
   "source": [
    "#hirarical - One parent class, multiple child classes.\n",
    "class a:\n",
    "    def show(self):\n",
    "        print(\"hello a\")\n",
    "class b(a):\n",
    "    def show(self):\n",
    "        print(\"hello b\")\n",
    "class c(b):\n",
    "    def show(self):\n",
    "        print(\"hello c\")\n",
    "class d(c,b,a):\n",
    "    def showd(self):\n",
    "        print(\"hello D\")\n",
    "\n",
    "obj=d()\n",
    "obj.show()"
   ]
  },
  {
   "cell_type": "code",
   "execution_count": null,
   "id": "6870b6ef-c54e-4c6c-8538-15fb1cb63d56",
   "metadata": {},
   "outputs": [],
   "source": [
    "#hybried- more than two method of inhertiance is used \n",
    "##it has daimond problem(method resolution problem (mro) solve by polymorphism)"
   ]
  },
  {
   "cell_type": "code",
   "execution_count": 138,
   "id": "b710e2db-23cb-43c5-ac95-3a087e7ceb6e",
   "metadata": {},
   "outputs": [
    {
     "name": "stdout",
     "output_type": "stream",
     "text": [
      "hello this is class A\n",
      "hello this is class B\n",
      "hello this is class C\n"
     ]
    }
   ],
   "source": [
    "#ploymorphysm \n",
    "# thiss means when same operator is allowed to have different meaning according to contex\n",
    "#like (1+2=3) (\"hello\" + \"world\"=helloworld) ([1,2,3] + [4,5,6]=[1,2,3,4,5,6]) same \"+\" operator have different meaning in different contex \n",
    "# calling with function\n",
    "class A:\n",
    "    def show(self):\n",
    "        print(\"hello this is class A\")\n",
    "class B:\n",
    "    def show(self):\n",
    "        print(\"hello this is class B\")\n",
    "\n",
    "class C:\n",
    "    def show(self):\n",
    "        print(\"hello this is class C\")\n",
    "        \n",
    "def show_data(data):\n",
    "    data.show()\n",
    "obj1=A()\n",
    "obj2=B()\n",
    "obj3=C()\n",
    "show_data(obj1)\n",
    "show_data(obj2)\n",
    "show_data(obj3)\n",
    "\n",
    "        \n",
    "\n"
   ]
  },
  {
   "cell_type": "code",
   "execution_count": 139,
   "id": "e158413c-586c-403b-83bc-a057851ae941",
   "metadata": {},
   "outputs": [
    {
     "name": "stdout",
     "output_type": "stream",
     "text": [
      "hello this is class A\n",
      "hello this is class B\n",
      "hello this is class C\n"
     ]
    }
   ],
   "source": [
    "# polymorphysm with obj\n",
    "class A:\n",
    "    def show(self):\n",
    "        print(\"hello this is class A\")\n",
    "class B:\n",
    "    def show(self):\n",
    "        print(\"hello this is class B\")\n",
    "\n",
    "class C:\n",
    "    def show(self):\n",
    "        print(\"hello this is class C\")\n",
    "obj=[A(),B(),C()]\n",
    "for i in obj:\n",
    "    i.show()"
   ]
  },
  {
   "cell_type": "code",
   "execution_count": 141,
   "id": "4098616c-f5fa-45f9-b54d-a08fd1004759",
   "metadata": {},
   "outputs": [
    {
     "name": "stdout",
     "output_type": "stream",
     "text": [
      "7% interest rate\n",
      "6% interest rate\n"
     ]
    }
   ],
   "source": [
    "#Abstraction\n",
    "#to hide the background functionality and only show the relevent data\n",
    "# we can never crete object on an abstract class \n",
    "#Abstraction -> Abstract class \n",
    "# to create the abstract we need to import abstractmethod always\n",
    "\n",
    "from abc import ABC,abstractmethod\n",
    "class RBI(ABC):\n",
    "    @abstractmethod\n",
    "    def fd(self):\n",
    "        pass\n",
    "class SBI(RBI):\n",
    "    def fd(self):\n",
    "        print('7% interest rate')\n",
    "class UNION(RBI):\n",
    "    def fd(self):\n",
    "        print('6% interest rate')\n",
    "\n",
    "obj= SBI()\n",
    "obj1= UNION()\n",
    "obj.fd()\n",
    "obj1.fd()"
   ]
  },
  {
   "cell_type": "code",
   "execution_count": 143,
   "id": "cc806d44-7c7e-4c44-8d5c-1e5b759d8af3",
   "metadata": {},
   "outputs": [
    {
     "name": "stdout",
     "output_type": "stream",
     "text": [
      "hello this is RBI\n",
      "hello this is RBI\n",
      "hello this is RBI\n"
     ]
    }
   ],
   "source": [
    "from abc import ABC,abstractmethod\n",
    "class RBI(ABC):\n",
    "    @abstractmethod\n",
    "    def fd(self):\n",
    "        pass\n",
    "    def bank(self):\n",
    "        print('hello this is RBI')\n",
    "              \n",
    "class SBI(RBI):\n",
    "    def fd(self):\n",
    "        print('7% interest rate')\n",
    "    def bank(self):\n",
    "        print('hello this is RBI')\n",
    "        super().bank()\n",
    "class UNION(RBI):\n",
    "    def fd(self):\n",
    "        print('6% interest rate')\n",
    "\n",
    "obj= SBI()\n",
    "obj1= UNION()\n",
    "obj.bank()\n",
    "obj1.bank()"
   ]
  },
  {
   "cell_type": "code",
   "execution_count": null,
   "id": "fc42f98b-1aec-4b63-9a36-6e99161d661f",
   "metadata": {},
   "outputs": [],
   "source": []
  }
 ],
 "metadata": {
  "kernelspec": {
   "display_name": "Python [conda env:base] *",
   "language": "python",
   "name": "conda-base-py"
  },
  "language_info": {
   "codemirror_mode": {
    "name": "ipython",
    "version": 3
   },
   "file_extension": ".py",
   "mimetype": "text/x-python",
   "name": "python",
   "nbconvert_exporter": "python",
   "pygments_lexer": "ipython3",
   "version": "3.13.5"
  }
 },
 "nbformat": 4,
 "nbformat_minor": 5
}
